{
  "cells": [
    {
      "cell_type": "markdown",
      "id": "f2ac3bff",
      "metadata": {
        "id": "f2ac3bff"
      },
      "source": [
        "# 🔢 Lekcja 2: Indeksowanie i wycinanie tablic"
      ]
    },
    {
      "cell_type": "code",
      "execution_count": null,
      "id": "0e601289",
      "metadata": {
        "id": "0e601289"
      },
      "outputs": [],
      "source": [
        "import numpy as np"
      ]
    },
    {
      "cell_type": "markdown",
      "id": "78be6cc4",
      "metadata": {
        "id": "78be6cc4"
      },
      "source": [
        "## 📌 Indeksowanie tablic 1D"
      ]
    },
    {
      "cell_type": "code",
      "execution_count": null,
      "id": "340f3906",
      "metadata": {
        "colab": {
          "base_uri": "https://localhost:8080/"
        },
        "id": "340f3906",
        "outputId": "fddd66b5-a968-4dd7-d7b3-b518a6c1151e"
      },
      "outputs": [],
      "source": [
        "a = np.array([10, 20, 30, 40, 50])\n",
        "print(a[0])\n",
        "print(a[-1])\n"
      ]
    },
    {
      "cell_type": "markdown",
      "id": "17c62e24",
      "metadata": {
        "id": "17c62e24"
      },
      "source": [
        "## 📌 Indeksowanie tablic 2D"
      ]
    },
    {
      "cell_type": "code",
      "execution_count": null,
      "id": "40b9e739",
      "metadata": {
        "id": "40b9e739"
      },
      "outputs": [],
      "source": [
        "b = np.array([[1, 2, 3], [4, 5, 6]])\n"
      ]
    },
    {
      "cell_type": "code",
      "execution_count": null,
      "id": "6b1cc7f8",
      "metadata": {
        "colab": {
          "base_uri": "https://localhost:8080/"
        },
        "id": "6b1cc7f8",
        "outputId": "db01066a-95f3-41d1-c11a-1f1de7fcf2f3"
      },
      "outputs": [],
      "source": [
        "b"
      ]
    },
    {
      "cell_type": "code",
      "execution_count": null,
      "id": "496e0c14",
      "metadata": {
        "colab": {
          "base_uri": "https://localhost:8080/"
        },
        "id": "496e0c14",
        "outputId": "3747afa0-4945-4a84-b591-d885ef233da7"
      },
      "outputs": [],
      "source": [
        "print(b[0, 1])\n",
        "print(b[1, -1])"
      ]
    },
    {
      "cell_type": "code",
      "execution_count": null,
      "id": "ee38515f",
      "metadata": {
        "colab": {
          "base_uri": "https://localhost:8080/"
        },
        "id": "ee38515f",
        "outputId": "8d2f5453-93cf-44a4-fd74-f97a5ec771cb"
      },
      "outputs": [],
      "source": [
        "b[0][1] = 20"
      ]
    },
    {
      "cell_type": "code",
      "execution_count": null,
      "id": "9ccc6077",
      "metadata": {},
      "outputs": [],
      "source": [
        "b[0]"
      ]
    },
    {
      "cell_type": "code",
      "execution_count": null,
      "id": "c5fede4a",
      "metadata": {
        "colab": {
          "base_uri": "https://localhost:8080/"
        },
        "id": "c5fede4a",
        "outputId": "e463bde9-5b9a-464a-b541-3739f6809b6d"
      },
      "outputs": [],
      "source": [
        "print(b[0].shape)\n",
        "c = np.array([1, 2, 3])\n",
        "print(c.shape)"
      ]
    },
    {
      "cell_type": "code",
      "execution_count": null,
      "id": "1d31ce71",
      "metadata": {},
      "outputs": [],
      "source": [
        "b[:, 0]"
      ]
    },
    {
      "cell_type": "code",
      "execution_count": null,
      "id": "3833e37a",
      "metadata": {
        "colab": {
          "base_uri": "https://localhost:8080/"
        },
        "id": "3833e37a",
        "outputId": "15fbf52b-e24a-4ed6-c8f4-ae81161b60fa"
      },
      "outputs": [],
      "source": [
        "b[:, 1].shape"
      ]
    },
    {
      "cell_type": "code",
      "execution_count": null,
      "id": "c727e1f7",
      "metadata": {},
      "outputs": [],
      "source": [
        "print(np.array([1, 2, 3]).shape)\n",
        "print(np.array([[[1, 2, 3]]]).shape)"
      ]
    },
    {
      "cell_type": "code",
      "execution_count": null,
      "id": "6MLdVqDVokE-",
      "metadata": {
        "colab": {
          "base_uri": "https://localhost:8080/"
        },
        "id": "6MLdVqDVokE-",
        "outputId": "e05d83f9-53ec-4cde-b020-7c7ad292a8e9"
      },
      "outputs": [],
      "source": [
        "np.array([[1], [2], [3]]).shape"
      ]
    },
    {
      "cell_type": "code",
      "execution_count": null,
      "id": "MYCq1bwcoj8K",
      "metadata": {
        "id": "MYCq1bwcoj8K"
      },
      "outputs": [],
      "source": []
    },
    {
      "cell_type": "markdown",
      "id": "b70f5fe7",
      "metadata": {
        "id": "b70f5fe7"
      },
      "source": [
        "## ✂️ Wycinanie (`slicing`)"
      ]
    },
    {
      "cell_type": "code",
      "execution_count": null,
      "id": "ac6e9e12",
      "metadata": {
        "colab": {
          "base_uri": "https://localhost:8080/"
        },
        "id": "ac6e9e12",
        "outputId": "8df5183e-a2a3-4142-b223-f4f3819cd68b"
      },
      "outputs": [],
      "source": [
        "c = np.array([0, 1, 2, 3, 4, 5, 6])\n",
        "print(c.shape)\n",
        "print(c[1:5])\n",
        "print(c[1:5].shape)\n"
      ]
    },
    {
      "cell_type": "code",
      "execution_count": null,
      "id": "8e7588b1",
      "metadata": {
        "colab": {
          "base_uri": "https://localhost:8080/"
        },
        "id": "8e7588b1",
        "outputId": "42cd4441-1337-4cbe-fe70-63c8fe2e616e"
      },
      "outputs": [],
      "source": [
        "print(c[:4])\n"
      ]
    },
    {
      "cell_type": "code",
      "execution_count": null,
      "id": "e9d48f9c",
      "metadata": {
        "colab": {
          "base_uri": "https://localhost:8080/"
        },
        "id": "e9d48f9c",
        "outputId": "e6b719b7-a64f-446c-8795-81b0204db42c"
      },
      "outputs": [],
      "source": [
        "print(c[::2])"
      ]
    },
    {
      "cell_type": "code",
      "execution_count": null,
      "id": "2fd7e9a5",
      "metadata": {},
      "outputs": [],
      "source": [
        "print(b)"
      ]
    },
    {
      "cell_type": "code",
      "execution_count": null,
      "id": "XnGVlLCQM2TC",
      "metadata": {
        "colab": {
          "base_uri": "https://localhost:8080/"
        },
        "id": "XnGVlLCQM2TC",
        "outputId": "e3de78d6-9bb1-44e1-c63f-c6e4a21f432e"
      },
      "outputs": [],
      "source": [
        "print(b[:, ::2])"
      ]
    },
    {
      "cell_type": "markdown",
      "id": "b688f7a8",
      "metadata": {
        "id": "b688f7a8"
      },
      "source": [
        "## ✏️ Modyfikacja elementów"
      ]
    },
    {
      "cell_type": "code",
      "execution_count": null,
      "id": "20f46e4a",
      "metadata": {
        "colab": {
          "base_uri": "https://localhost:8080/"
        },
        "id": "20f46e4a",
        "outputId": "58188d78-1e40-435f-b038-0ae982fe7c3f"
      },
      "outputs": [],
      "source": [
        "c"
      ]
    },
    {
      "cell_type": "code",
      "execution_count": null,
      "id": "pMxycTGlpPqp",
      "metadata": {
        "id": "pMxycTGlpPqp"
      },
      "outputs": [],
      "source": [
        "c[0] = 99"
      ]
    },
    {
      "cell_type": "code",
      "execution_count": null,
      "id": "uJnqBFTgpPgp",
      "metadata": {
        "colab": {
          "base_uri": "https://localhost:8080/"
        },
        "id": "uJnqBFTgpPgp",
        "outputId": "3df912b4-99ff-49e0-a2c5-835c5f1dd180"
      },
      "outputs": [],
      "source": [
        "c"
      ]
    },
    {
      "cell_type": "code",
      "execution_count": null,
      "id": "cbaa5915",
      "metadata": {
        "colab": {
          "base_uri": "https://localhost:8080/"
        },
        "id": "cbaa5915",
        "outputId": "021c61b7-8c4c-465e-d3c3-8e4b84b7be7a"
      },
      "outputs": [],
      "source": [
        "c[0:3] = 88\n",
        "print(c)"
      ]
    },
    {
      "cell_type": "code",
      "execution_count": null,
      "id": "43d8d23e",
      "metadata": {},
      "outputs": [],
      "source": [
        "c"
      ]
    },
    {
      "cell_type": "markdown",
      "id": "6e2cdea6",
      "metadata": {
        "id": "6e2cdea6"
      },
      "source": [
        "## 🧠 Ideksowanie logiczne"
      ]
    },
    {
      "cell_type": "code",
      "execution_count": null,
      "id": "3cb2572e",
      "metadata": {
        "colab": {
          "base_uri": "https://localhost:8080/"
        },
        "id": "3cb2572e",
        "outputId": "5e78b9cb-5824-4d7d-e155-49c68d3d13b6"
      },
      "outputs": [],
      "source": [
        "d = np.array([5, 10, 15, 20])\n",
        "mask = d > 10\n",
        "print(mask)\n"
      ]
    },
    {
      "cell_type": "code",
      "execution_count": null,
      "id": "vo9msFBhppjr",
      "metadata": {
        "id": "vo9msFBhppjr"
      },
      "outputs": [],
      "source": [
        "mask = [False, False, False, True]"
      ]
    },
    {
      "cell_type": "code",
      "execution_count": null,
      "id": "FTlhW9RIppXB",
      "metadata": {
        "id": "FTlhW9RIppXB"
      },
      "outputs": [],
      "source": [
        "print(type(d))"
      ]
    },
    {
      "cell_type": "code",
      "execution_count": null,
      "id": "NcImT82cpdwJ",
      "metadata": {
        "colab": {
          "base_uri": "https://localhost:8080/"
        },
        "id": "NcImT82cpdwJ",
        "outputId": "f9c12788-d53a-4eb8-c9eb-6dac924cd2b5"
      },
      "outputs": [],
      "source": [
        "print(d[mask])\n",
        "\n",
        "print(type(mask))"
      ]
    },
    {
      "cell_type": "markdown",
      "id": "1692132d",
      "metadata": {
        "id": "1692132d"
      },
      "source": [
        "## 🌟 Indeksowanie za pomocą tablicy"
      ]
    },
    {
      "cell_type": "code",
      "execution_count": null,
      "id": "77e61b01",
      "metadata": {
        "colab": {
          "base_uri": "https://localhost:8080/"
        },
        "id": "77e61b01",
        "outputId": "bcec3567-465f-4108-f179-b0b34caa81ca"
      },
      "outputs": [],
      "source": [
        "e = np.array([100, 200, 300, 400, 500])\n",
        "indices = [1, 3, 4]\n",
        "print(e[indices])"
      ]
    },
    {
      "cell_type": "code",
      "execution_count": null,
      "id": "PwPs-2eVNYK7",
      "metadata": {
        "colab": {
          "base_uri": "https://localhost:8080/"
        },
        "id": "PwPs-2eVNYK7",
        "outputId": "524459ec-da63-4e01-8b94-a98055417a9a"
      },
      "outputs": [],
      "source": [
        "a = np.array([[10, 20, 30],\n",
        "              [40, 50, 60],\n",
        "              [70, 80, 90]])\n",
        "row_indices = [0, 2]\n",
        "print(a[row_indices])"
      ]
    },
    {
      "cell_type": "markdown",
      "id": "e31d0126",
      "metadata": {
        "id": "e31d0126"
      },
      "source": [
        "## 🧪 Zadania\n",
        "- **Zadanie 1**: Utwórz tablicę 1D zawierającą liczby od 1 do 10. Użyj cięcia, aby wyodrębnić elementy od 3 do 7.\n",
        "- **Zadanie 2**: Utwórz tablicę 2D (3x3) i zmień element środkowy na 999.\n",
        "- **Zadanie 3**: Z tablicy `[3, 6, 9, 10, 12, 15]` wybierz wszystkie elementy większe lub równe 10.\n",
        "- **Zadanie 4**: Użyj indeksowania za pomocą tablicy, aby uzyskać pierwszy, trzeci i ostatni element z `[10, 20, 30, 40, 50]`."
      ]
    },
    {
      "cell_type": "code",
      "execution_count": null,
      "id": "ea049727",
      "metadata": {
        "id": "ea049727"
      },
      "outputs": [],
      "source": [
        "# Task 1\n",
        "t_1 = np.array(range(1, 11))\n",
        "print(t_1)\n",
        "print(type(t_1))\n",
        "print(t_1[3:8])"
      ]
    },
    {
      "cell_type": "code",
      "execution_count": null,
      "id": "44a506c7",
      "metadata": {
        "id": "44a506c7"
      },
      "outputs": [],
      "source": [
        "# Task 2\n",
        "t_2 = np.array([[1, 2, 3], [4, 5, 6], [7, 8, 9]])\n",
        "print(t_2)\n",
        "t_2[1, 1] = 999\n",
        "print(t_2)"
      ]
    },
    {
      "cell_type": "code",
      "execution_count": null,
      "id": "9b64468f",
      "metadata": {
        "id": "9b64468f"
      },
      "outputs": [],
      "source": [
        "# Task 3\n",
        "t_3 = np.array([3, 6, 9, 10, 12, 15])\n",
        "print(t_3)\n",
        "mask = t_3 >= 10\n",
        "print(t_3[mask])\n"
      ]
    },
    {
      "cell_type": "code",
      "execution_count": 72,
      "id": "e94dddbc",
      "metadata": {
        "id": "e94dddbc"
      },
      "outputs": [
        {
          "name": "stdout",
          "output_type": "stream",
          "text": [
            "[10 20 30 40 50]\n",
            "[20 40 50]\n"
          ]
        }
      ],
      "source": [
        "# Task 4\n",
        "t_4 = np.array([10, 20, 30, 40, 50])\n",
        "print(t_4)\n",
        "indexes = [1, 3, -1]\n",
        "print(t_4[indexes])"
      ]
    },
    {
      "cell_type": "code",
      "execution_count": null,
      "id": "ec7091bf",
      "metadata": {},
      "outputs": [],
      "source": []
    }
  ],
  "metadata": {
    "colab": {
      "provenance": []
    },
    "kernelspec": {
      "display_name": "Python 3",
      "name": "python3"
    },
    "language_info": {
      "codemirror_mode": {
        "name": "ipython",
        "version": 3
      },
      "file_extension": ".py",
      "mimetype": "text/x-python",
      "name": "python",
      "nbconvert_exporter": "python",
      "pygments_lexer": "ipython3",
      "version": "3.13.7"
    }
  },
  "nbformat": 4,
  "nbformat_minor": 5
}
