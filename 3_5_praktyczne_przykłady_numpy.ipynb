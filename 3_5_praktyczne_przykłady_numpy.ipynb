{
  "cells": [
    {
      "cell_type": "markdown",
      "id": "64b25b54",
      "metadata": {
        "id": "64b25b54"
      },
      "source": [
        "# 📊 Temat 5: Praktyczne przykłady i zastosowania"
      ]
    },
    {
      "cell_type": "code",
      "execution_count": null,
      "id": "14b23e38",
      "metadata": {
        "id": "14b23e38"
      },
      "outputs": [],
      "source": [
        "import numpy as np"
      ]
    },
    {
      "cell_type": "markdown",
      "id": "3d63bcbc",
      "metadata": {
        "id": "3d63bcbc"
      },
      "source": [
        "🎲 **Losowe dane z `np.random`**"
      ]
    },
    {
      "cell_type": "code",
      "execution_count": 38,
      "id": "zfflciCrwu8U",
      "metadata": {
        "id": "zfflciCrwu8U"
      },
      "outputs": [],
      "source": [
        "np.random.seed(0)"
      ]
    },
    {
      "cell_type": "code",
      "execution_count": 44,
      "id": "hjA_IB0Iwsl0",
      "metadata": {
        "id": "hjA_IB0Iwsl0"
      },
      "outputs": [],
      "source": [
        "data = np.random.randn(1000)  # 1000 losowych liczb z rozkładu normalnego"
      ]
    },
    {
      "cell_type": "code",
      "execution_count": 35,
      "id": "_jyfIGQIxV0W",
      "metadata": {
        "colab": {
          "base_uri": "https://localhost:8080/"
        },
        "id": "_jyfIGQIxV0W",
        "outputId": "454155f3-32f2-4a4a-c35f-c32d4b1a4425"
      },
      "outputs": [
        {
          "data": {
            "text/plain": [
              "(1000,)"
            ]
          },
          "execution_count": 35,
          "metadata": {},
          "output_type": "execute_result"
        }
      ],
      "source": [
        "data.shape"
      ]
    },
    {
      "cell_type": "code",
      "execution_count": 45,
      "id": "i-eW8nqzxVpL",
      "metadata": {
        "id": "i-eW8nqzxVpL"
      },
      "outputs": [
        {
          "data": {
            "text/plain": [
              "array([-1.53292105e+00, -1.71197016e+00,  4.61350590e-02, -9.58374480e-01,\n",
              "       -8.08116129e-02, -7.03859036e-01, -7.70784301e-01, -4.80845341e-01,\n",
              "        7.03585555e-01,  9.29145148e-01,  3.71172553e-01, -9.89822550e-01,\n",
              "        6.43631275e-01,  6.88896667e-01,  2.74647204e-01, -6.03620436e-01,\n",
              "        7.08859575e-01,  4.22818575e-01, -3.11685659e+00,  6.44452033e-01,\n",
              "       -1.91374267e+00,  6.63561577e-01, -1.54072398e-01,  1.19361168e+00,\n",
              "       -9.81612112e-02, -8.86614260e-01, -1.47353665e-01,  1.05980629e+00,\n",
              "        2.62466179e-02, -1.14335160e-01,  7.43553516e-01,  2.10359367e-01,\n",
              "       -5.92740583e-03,  1.36606007e+00,  1.55511403e+00,  6.13326226e-01,\n",
              "       -2.85959151e-01,  1.49691099e+00,  1.18311956e+00,  7.18897166e-01,\n",
              "       -1.21607658e+00,  1.40671903e-01, -7.43672175e-01, -1.59012252e-01,\n",
              "        2.40056929e-01,  1.00159408e-01, -4.75175106e-01,  1.27295375e+00,\n",
              "       -1.69613127e+00,  7.30183531e-01, -1.85748327e+00,  3.82598137e-01,\n",
              "       -8.86904326e-01,  8.78303758e-01,  8.64525240e-02,  2.47706378e-01,\n",
              "       -1.01827933e+00, -6.54570135e-01,  2.07217393e-01,  5.83569927e-01,\n",
              "        2.92909624e+00,  2.22858323e-01,  9.76037525e-01, -1.55693393e+00,\n",
              "       -1.32989186e+00, -3.55494775e-01, -1.19742770e+00,  1.48639925e+00,\n",
              "       -4.10218693e-01,  1.38218189e+00,  1.48678247e+00,  4.27797199e-02,\n",
              "        5.01799754e-01, -5.60994733e-02,  5.38437000e-01,  4.83341852e-01,\n",
              "       -1.23649626e-01,  5.04969981e-01,  1.72369628e+00,  7.13016230e-01,\n",
              "        3.25799614e-01,  1.24769521e-01, -1.01267312e+00, -1.02729688e+00,\n",
              "        3.23356531e-01, -1.36939112e+00, -7.66327599e-01,  1.28151134e+00,\n",
              "        1.91422970e+00, -1.66595608e+00,  1.62664956e+00, -2.11438291e-01,\n",
              "       -1.50050870e-02, -1.13411631e-01,  1.08054413e+00, -1.60767658e+00,\n",
              "        4.56163611e-01, -9.44870197e-01,  5.70788529e-01,  1.54279634e+00,\n",
              "       -4.17326413e-04,  3.74155086e-01,  4.09551778e-01, -7.99593500e-01,\n",
              "        1.51163935e+00,  1.70646825e+00,  7.01783372e-01,  7.32854320e-02,\n",
              "       -4.61893815e-01, -6.26490223e-01,  1.71083658e+00,  1.41441504e+00,\n",
              "       -6.36614888e-02, -1.57993053e+00, -2.83201187e+00, -1.08342666e+00,\n",
              "       -1.30620396e-01,  1.40068903e+00, -6.51656209e-01,  5.04815456e-01,\n",
              "        1.30318096e+00,  1.28536317e-01, -1.42447869e-01, -1.30876351e+00,\n",
              "       -1.20247531e+00,  4.16099634e-01, -2.00907533e-01,  1.22531318e-01,\n",
              "       -4.72777157e-02,  6.64144049e-01, -7.84687411e-01, -3.35580644e-01,\n",
              "        1.89618223e+00, -7.99786138e-01, -2.81575431e-01, -5.89386702e-01,\n",
              "        4.44781362e-01,  1.02239232e+00, -4.98211619e-01, -4.31414341e-01,\n",
              "       -2.78981605e-01,  5.29833783e-01, -7.39395303e-01, -3.75959966e-01,\n",
              "       -2.37219387e+00, -1.38174501e+00, -1.12443756e-01,  8.97864173e-01,\n",
              "        2.95075783e-01, -1.09876846e+00, -1.40025621e+00,  1.74680093e-01,\n",
              "       -1.65280364e+00,  1.06592682e+00,  6.38961917e-02, -1.60732016e+00,\n",
              "       -9.65953859e-01, -7.24311319e-01, -7.73192510e-01, -1.48993301e+00,\n",
              "       -8.74662522e-01, -6.84401556e-01, -7.11285756e-01,  1.12795662e+00,\n",
              "        1.04827803e-01, -9.93257217e-01, -3.34621606e-01, -8.79557097e-01,\n",
              "       -3.00006659e-01,  8.75509153e-01,  2.52270781e-01,  2.28560118e+00,\n",
              "        3.75927426e-01, -9.13594510e-01,  8.09740731e-01,  1.07993122e+00,\n",
              "        1.09416699e+00, -1.09424095e+00, -1.47637415e-01,  1.13181196e+00,\n",
              "       -1.68472896e+00, -4.99416761e-01, -1.42693769e+00, -9.32570230e-01,\n",
              "       -1.01245715e+00,  1.25056983e+00, -2.34538035e-01, -8.63355581e-01,\n",
              "       -1.03560573e+00,  1.41667165e-01, -1.11356273e-02,  1.34407437e+00,\n",
              "        5.00016696e-01, -1.43179778e+00, -6.28980708e-01,  1.07007251e+00,\n",
              "       -6.21082698e-01,  1.73457217e+00, -1.09828943e+00,  5.72613353e-01,\n",
              "       -8.61215553e-01, -5.09595133e-01,  1.09858165e+00, -1.27067163e-01,\n",
              "        8.13452245e-01,  4.73290595e-01,  7.53865684e-01, -8.88188211e-01,\n",
              "       -2.21574398e-01,  4.24252618e-01, -8.49072873e-01,  1.62950004e+00,\n",
              "       -7.77228042e-01, -3.00003577e-01, -1.00655906e+00, -2.14330807e+00,\n",
              "        1.79691852e+00, -2.04338937e-01, -4.47914838e-01, -1.98715062e-01,\n",
              "        1.41986397e+00, -9.65106608e-01,  6.79567866e-01, -4.23788249e-01,\n",
              "       -5.96670856e-01,  5.67058213e-01,  9.88240574e-01, -5.13902950e-01,\n",
              "       -7.68849160e-01, -1.16909575e+00,  1.10350377e+00, -5.75255995e-01,\n",
              "       -1.84913073e+00,  1.40995214e+00, -1.36985950e+00,  7.79460531e-01,\n",
              "        1.83428647e-01,  2.87915432e-01, -5.84375275e-01,  3.65591460e-01,\n",
              "       -1.66777989e+00,  5.88037749e-01,  1.55701004e+00,  8.84027197e-01,\n",
              "       -2.01954009e+00, -9.84209002e-01, -1.87794922e-01,  4.86937305e-01,\n",
              "       -1.06652674e-01, -4.93214387e-01,  5.95300308e-01,  1.16415177e+00,\n",
              "       -2.32294007e-01,  7.28929867e-01, -2.57905075e+00, -9.37509386e-01,\n",
              "       -3.21258937e-01, -4.88566221e-01,  3.32798217e-01,  1.01375055e+00,\n",
              "        5.06669026e-01, -6.22225472e-01, -1.52276809e+00,  5.56964121e-01,\n",
              "       -1.83817674e+00,  6.53037283e-01, -1.88449082e-01, -1.17583499e+00,\n",
              "        2.87257312e-01, -2.87610266e-03, -3.65972929e-02, -8.42232965e-02,\n",
              "        4.19524108e-01,  9.24434022e-01,  4.96615198e-01,  1.01213319e+00,\n",
              "       -4.41397188e-02,  1.61845932e+00,  5.71109822e-01, -5.43694030e-01,\n",
              "       -1.09389506e+00,  2.05796804e-01, -1.30652152e+00, -9.73375968e-01,\n",
              "        2.39087080e-01, -6.07887446e-01, -9.33316240e-01, -3.44750461e-02,\n",
              "        7.26778991e-02, -2.05834025e-01, -3.77546919e-01,  8.54642729e-01,\n",
              "        3.42427351e-01, -2.23426112e-01,  2.46432193e+00,  1.93831737e-01,\n",
              "        1.13200513e+00, -5.60981003e-01, -1.36294095e+00, -7.91756516e-01,\n",
              "       -2.68009783e-01, -4.96608210e-01,  1.33638618e+00, -1.20041122e-01,\n",
              "        4.61468877e-01, -4.64811560e-02, -4.33554333e-01,  3.79960135e-02,\n",
              "        1.71405147e+00, -7.67948592e-01,  7.66990451e-01, -1.02600725e+00,\n",
              "       -4.59626442e-01,  3.58320595e-03,  3.26375090e-01,  1.48312863e+00,\n",
              "       -5.00826415e-02, -8.43615607e-01,  6.50041973e-01, -3.64169809e-01,\n",
              "        2.38681571e-01, -1.16222440e-01, -1.94345685e+00,  5.08299186e-01,\n",
              "        5.83368007e-01,  9.26604768e-01,  1.80046276e+00, -1.19510377e+00,\n",
              "        5.16507444e-01,  4.09294997e-01, -4.19081993e-01,  3.97106236e-01,\n",
              "        4.99646955e-01, -1.21868383e+00,  2.46222761e-01, -9.17984306e-01,\n",
              "       -6.51856500e-01, -1.77474482e+00, -4.73360926e-01, -2.03570671e-01,\n",
              "        5.49856867e-01,  8.99926671e-04, -1.54228815e+00,  8.62148057e-01,\n",
              "       -1.18586624e-01,  4.88370590e-01,  9.65936118e-01,  1.42260475e+00,\n",
              "        1.96122699e+00, -7.22387587e-02,  3.11124446e-01, -1.07836109e+00,\n",
              "        1.06160017e+00, -1.18488744e+00, -1.80525169e+00,  8.30386005e-01,\n",
              "       -5.21696525e-01,  7.77607281e-01,  4.08074649e-01, -1.63000265e+00,\n",
              "       -2.71967936e+00, -1.09660175e+00,  1.64914870e-02, -1.22177633e+00,\n",
              "       -6.52761449e-01, -1.45894073e+00,  1.69877960e-01,  9.08259270e-02,\n",
              "       -4.81392624e-01,  1.39706530e+00,  1.49771503e+00,  5.65267203e-01,\n",
              "       -1.79977118e+00, -1.10469015e+00,  4.07130331e-01, -6.28557580e-01,\n",
              "       -4.87091432e-01,  8.98967395e-01,  5.10874822e-01,  1.31415443e+00,\n",
              "       -4.29209297e-01,  1.37522542e+00, -5.54131247e-01,  1.49949149e+00,\n",
              "        1.05834644e-01, -8.60509747e-01, -1.63121951e+00, -3.01472315e-01,\n",
              "       -2.56232698e-01,  8.57661910e-01, -1.10590503e-01, -4.32431979e-01,\n",
              "        1.07703747e+00, -2.24826561e-01, -5.76241816e-01,  5.74608917e-01,\n",
              "       -4.89828219e-01,  6.58802142e-01, -5.96917112e-01, -2.22959183e-01,\n",
              "        1.52176976e-01, -3.74126320e-01, -1.34514694e-02,  8.15471969e-01,\n",
              "        4.10601791e-01,  4.80969850e-01, -6.35430439e-01,  8.52829768e-01,\n",
              "        6.69562341e-01,  1.00441919e+00, -7.26365832e-01, -1.72458597e-01,\n",
              "        6.33533902e-01, -6.08815117e-01, -2.26122470e-01,  1.92580574e+00,\n",
              "        1.95176101e+00,  1.23994055e+00,  9.38585136e-01, -1.01925115e+00,\n",
              "        5.12562231e-01, -3.59116595e-01, -1.05857190e+00, -5.09005839e-01,\n",
              "        1.15665074e-01, -5.47355574e-01, -5.50799426e-01,  7.92041498e-01,\n",
              "        1.44106485e-01,  2.33458080e-01,  1.11872397e-01, -6.75703143e-01,\n",
              "       -1.37057192e+00,  3.10564710e-01, -5.07036632e-01, -2.01078227e+00,\n",
              "       -3.92567258e-01, -1.09221794e+00,  6.98650234e-01,  5.21625227e-01,\n",
              "        4.96893145e-01, -6.65041618e-01,  7.31551582e-01,  3.19649783e-01,\n",
              "       -4.09854538e-01, -4.53337432e-01,  8.92708153e-01, -4.73604057e-01,\n",
              "        3.03656474e-01,  1.03395699e+00,  1.90934263e+00,  1.66387312e+00,\n",
              "        9.00822764e-01, -1.50591135e+00, -6.89048429e-01, -5.48087187e-01,\n",
              "        1.65314983e+00, -6.99317941e-01,  3.86166377e-01,  1.00867063e-01,\n",
              "       -9.35127209e-01,  3.81824010e-01,  3.98296086e-01, -1.25577488e+00,\n",
              "        1.22287745e+00, -2.08651003e+00, -5.90757153e-01,  9.71970294e-01,\n",
              "       -1.19325783e+00,  3.50265920e-01, -1.29636039e+00, -9.30241444e-02,\n",
              "       -2.31377311e+00, -8.42571702e-01, -1.54292145e+00, -4.01763742e-01,\n",
              "       -4.15231396e-01, -6.73664171e-01,  7.97913197e-01, -8.86879604e-01,\n",
              "        6.34386673e-01,  1.62927577e+00,  1.39064150e-01, -8.57670205e-01,\n",
              "       -1.24933851e+00, -7.09785100e-01,  7.04642721e-01,  1.55590735e-01,\n",
              "        9.36795216e-01,  7.70330879e-01,  1.40810652e-01,  4.73488262e-01,\n",
              "        1.85524621e+00,  1.41565623e+00, -3.02746017e-01,  9.89679442e-01,\n",
              "        5.85850806e-01,  1.13638808e+00,  6.71616572e-01, -9.74167435e-01,\n",
              "       -1.61968457e+00,  5.72627017e-01,  1.90261820e+00, -7.75664108e-01,\n",
              "       -1.88089738e-01, -1.03574773e+00,  1.17782950e+00, -2.30516686e+00,\n",
              "       -2.26366030e+00,  3.75019920e-01, -8.23436468e-02, -4.79623015e-01,\n",
              "       -3.01094787e-01,  5.36987914e-01, -4.13803989e-01, -1.09692497e+00,\n",
              "       -9.27362928e-01,  8.88338862e-01, -5.24741955e-01, -1.38527758e+00,\n",
              "        1.02178327e-01,  5.04994722e-01,  1.32896075e+00,  2.17903387e-01,\n",
              "       -6.59711247e-01,  4.74007867e-01,  7.27174870e-01, -3.89053067e-02,\n",
              "       -4.45993927e-02,  2.60132905e-01, -6.98564983e-02,  2.50113907e-01,\n",
              "       -1.02191332e+00, -1.15043777e+00, -8.36111380e-01,  6.42210943e-01,\n",
              "        2.58797567e-01,  1.04023896e+00, -1.86690922e-01, -1.14364140e+00,\n",
              "        1.14455354e+00, -1.87670555e-02,  1.28345504e+00,  5.97946491e-01,\n",
              "        2.18861868e+00, -2.19772986e-01,  9.00723905e-01,  8.91364106e-01,\n",
              "       -5.55126345e-01, -1.72482317e-01, -1.46173834e+00, -1.54879614e+00,\n",
              "        1.26568802e-01,  7.93007071e-01,  6.38024033e-01,  3.40024598e-01,\n",
              "        8.63017153e-01, -5.89697796e-01, -2.72532748e-01,  7.37521513e-01,\n",
              "        4.33118729e-01, -2.10188814e-01,  1.32079439e+00, -1.29200125e+00,\n",
              "       -5.18678687e-01, -2.83397774e-01,  8.16534880e-01,  2.38519792e-03,\n",
              "       -1.26149175e+00,  5.14004180e-01,  1.08754632e+00,  7.39304533e-01,\n",
              "        6.19154922e-01, -1.87431350e+00, -8.99886477e-01,  4.82080609e-01,\n",
              "       -5.48881848e-02,  5.22557602e-01, -1.26634268e+00, -6.14947643e-02,\n",
              "       -1.38978102e+00, -1.95367856e+00,  2.95779089e-01,  8.42588796e-01,\n",
              "        2.45616428e-01, -3.29964803e-02, -1.56201434e+00,  1.00610707e+00,\n",
              "       -4.40448974e-02,  1.95956201e+00,  9.42314308e-01, -2.00512543e+00,\n",
              "        7.55049680e-01, -1.39653524e+00, -7.59495490e-01, -2.50756677e-01,\n",
              "       -9.40624504e-02,  3.97565216e-01, -1.02285504e+00, -1.15069200e+00,\n",
              "        6.00605202e-01, -1.32502679e-02,  1.74373049e-01, -2.19368335e+00,\n",
              "       -1.77137383e-01, -8.90729183e-01, -9.20626373e-01,  9.21934804e-01,\n",
              "       -1.09567123e+00, -1.09289661e+00, -3.31010603e-01,  4.50288831e-01,\n",
              "       -8.84014730e-01,  1.23414404e+00,  1.44984753e+00, -8.81447066e-01,\n",
              "       -2.45081756e-01, -7.78675473e-01, -1.68538210e+00,  3.03011050e-01,\n",
              "        7.33594868e-01,  2.01186426e+00, -8.97409504e-01,  1.33623509e+00,\n",
              "        1.34235369e+00,  1.97853310e-01,  6.02163490e-01,  8.73273048e-01,\n",
              "        1.97409995e+00,  4.77808563e-01, -6.01378855e-02, -8.66168799e-01,\n",
              "        3.05320755e-01,  1.02416493e+00,  2.44610361e-01, -7.79923249e-01,\n",
              "        8.90762025e-02, -1.29153482e-01,  2.64738758e-01, -1.66184837e+00,\n",
              "        5.50788614e-01,  5.95423157e-01,  4.44853438e-01, -3.76281715e-03,\n",
              "       -1.80593626e+00, -1.93227920e-02,  1.06071500e+00, -8.60128876e-01,\n",
              "       -1.98926947e+00, -1.54055797e+00,  3.14025692e-01,  3.72876009e-01,\n",
              "        8.86293195e-01, -5.52589957e-02, -1.50032838e+00, -8.18504141e-01,\n",
              "        8.18839373e-01,  1.40495907e-01,  6.49829635e-01,  4.34788805e-01,\n",
              "       -2.04960552e-01, -1.74006838e-01,  1.85710227e+00,  4.14674267e-01,\n",
              "       -1.28587550e-01,  4.55419991e-01,  2.22905820e-01, -2.15735637e+00,\n",
              "        6.50084514e-01,  1.82093927e+00, -7.80279868e-01,  1.45403575e+00,\n",
              "       -2.56869697e-01,  2.93471398e-01,  1.07036002e+00, -7.20001431e-01,\n",
              "        1.24249391e+00, -1.21421728e+00, -8.75154749e-01, -5.93520317e-01,\n",
              "        6.62005366e-01, -3.40874411e-01, -1.51997446e+00, -2.16532872e-01,\n",
              "       -7.84221383e-01,  7.31293621e-01, -3.43235054e-01,  7.07740759e-02,\n",
              "       -4.05472457e-01,  4.33938968e-01, -1.83590763e-01,  3.25198715e-01,\n",
              "       -2.59338856e+00,  9.72508770e-02,  4.13913670e-01, -1.99280055e-01,\n",
              "        6.69392471e-01,  7.38607029e-01,  1.30421389e+00,  1.04811608e-01,\n",
              "       -1.91380070e+00, -2.28549945e+00, -1.60184095e+00, -3.79070612e-02,\n",
              "       -1.57305288e-01,  2.76239852e-01, -6.25245923e-01, -7.36491172e-01,\n",
              "        5.55047942e-01,  6.55924411e-01, -2.56650135e-01, -3.84766582e-02,\n",
              "        4.04314343e-01,  5.04343575e-01, -1.14398070e+00, -7.19573856e-01,\n",
              "       -1.23054605e+00, -5.06906615e-01,  8.12333589e-01,  5.46271867e-01,\n",
              "       -1.09809796e+00,  5.12266727e-01,  8.58431053e-02, -4.93926707e-01,\n",
              "       -1.40645966e+00, -1.74823372e-01,  6.79944006e-01, -2.16309765e+00,\n",
              "       -3.96123198e-01,  2.25428370e+00,  6.72636719e-01,  2.59832495e-01,\n",
              "       -7.37185170e-01, -6.78329838e-01, -8.32883957e-02,  1.60286363e+00,\n",
              "        4.65589191e-01, -8.72158398e-01,  1.17678696e+00, -2.92594207e-01,\n",
              "        1.69734648e+00, -5.66603025e-01, -1.00326576e+00,  1.74629578e-01,\n",
              "        9.82326984e-01,  1.03744480e+00,  1.59191767e-01, -9.88096688e-01,\n",
              "       -5.05340722e-01, -2.01828187e+00, -9.13121538e-01, -1.78456815e-01,\n",
              "        3.89002141e-01, -3.39454321e-01, -5.69790550e-02, -3.96185445e-01,\n",
              "        7.51025304e-01, -8.99112938e-01,  8.37547914e-01,  1.96088081e+00,\n",
              "        4.72789656e-01, -5.27091610e-01, -5.36270144e-01,  1.20983722e+00,\n",
              "       -1.12658943e+00, -9.53804420e-01, -1.16444845e+00, -1.27851384e+00,\n",
              "       -1.04481632e+00,  7.89904942e-01,  1.10228256e+00, -6.97073072e-01,\n",
              "        2.07334046e-01,  7.59156675e-01,  1.00564203e-01, -9.54942758e-01,\n",
              "       -1.47040174e+00,  1.01042755e+00,  4.96179412e-01,  5.76955893e-01,\n",
              "       -1.10764690e+00,  2.34977193e-01,  6.28999587e-01,  3.14033844e-01,\n",
              "       -7.45023217e-01,  1.01226051e+00, -1.52763195e+00,  9.28741925e-01,\n",
              "        1.08105594e+00,  1.57233032e+00, -3.42492190e-01, -9.99430017e-01,\n",
              "        7.93880362e-01, -6.99215279e-01,  4.39955114e-02, -3.17462217e-01,\n",
              "       -9.02071971e-01,  3.20999466e-01, -1.39201592e+00,  5.92205682e-01,\n",
              "       -9.66931088e-01, -1.73173135e+00, -5.01074588e-02,  4.31633853e-01,\n",
              "        5.76934597e-01,  8.18353731e-01, -2.35364040e+00, -1.00514443e+00,\n",
              "        1.06652295e-01,  1.51900328e+00,  7.83744494e-01,  1.90134005e+00,\n",
              "       -5.24939423e-01,  2.74416995e-01, -1.09997081e+00, -4.04352220e-01,\n",
              "       -7.35295718e-01, -6.33988659e-01, -3.93449121e-01,  2.71753989e-03,\n",
              "        2.22126645e-02,  5.43453440e-01,  1.39988467e-01, -3.44045629e-01,\n",
              "       -5.22578542e-01, -3.07131720e-01, -4.49037141e-01,  4.90971055e-01,\n",
              "        8.65525191e-01,  1.27404454e+00, -7.97702760e-01,  4.69372225e-01,\n",
              "       -1.39467964e+00,  3.73174718e-01,  1.08267228e+00, -1.49589502e-01,\n",
              "        1.07263605e+00, -1.13856787e+00, -8.88645283e-01, -1.35809843e-01,\n",
              "        1.02221035e+00, -4.17429456e-01, -4.53553101e-01, -9.91628358e-01,\n",
              "        2.02881044e-01,  1.24669514e+00,  7.00680109e-01,  6.96650654e-01,\n",
              "       -2.06974475e-01, -5.63309359e-01,  6.77245916e-01, -3.19110756e-02,\n",
              "       -1.73608236e-01,  8.98240622e-01, -1.97787452e-01, -8.37776259e-01,\n",
              "        9.09188495e-01,  8.07198904e-02, -1.03702934e+00, -1.11290589e+00,\n",
              "        9.54118758e-02,  2.33740966e+00, -3.92820604e-01, -3.36273859e-01,\n",
              "        1.52377120e+00, -5.72811998e-02, -1.44846686e+00, -1.57279645e+00,\n",
              "        1.22666397e+00,  6.66354542e-01,  8.26125708e-01, -5.77565584e-02,\n",
              "       -7.26712026e-01, -2.17163116e-01,  1.36031217e-01, -8.38311156e-01,\n",
              "        5.61449910e-01, -1.25959617e+00, -3.32758765e-01, -2.04007872e-01,\n",
              "       -6.91019813e-01, -2.20550536e+00,  4.47869664e-01, -7.55750760e-01,\n",
              "        1.32570796e+00, -3.41982278e-01, -5.41359588e-01,  9.15219468e-02,\n",
              "        1.05343975e+00, -5.63407663e-01,  1.01473769e+00,  1.44030364e+00,\n",
              "        9.90322811e-01,  1.62643149e+00,  1.29264602e+00,  1.51488229e+00,\n",
              "        1.60432632e+00,  2.08069530e-01, -4.29223900e-01, -2.26224364e+00,\n",
              "       -1.32273312e+00, -4.48282799e-01, -3.81735087e-01, -1.52794463e-01,\n",
              "       -1.00076049e+00, -1.59577761e+00, -1.30223166e-01, -1.89417929e-01,\n",
              "       -8.07554042e-01, -7.42152162e-01, -9.40156592e-01, -3.96523739e-01,\n",
              "       -8.56302827e-01,  1.25987533e+00,  2.40996732e-01, -9.72317918e-01,\n",
              "       -2.80447781e-01, -1.18028561e+00,  1.01216830e+00,  1.38418672e+00,\n",
              "        1.25200198e+00, -1.14469263e+00, -9.12670197e-02, -4.01570676e-01,\n",
              "        5.62013106e-01, -1.00790980e+00, -6.75891694e-01, -4.13217028e-01,\n",
              "        1.53288469e-01,  6.94128708e-01, -3.28727693e-01,  6.63965076e-01,\n",
              "        8.22076357e-01, -2.13215237e-01, -1.24565813e+00, -1.17119034e+00,\n",
              "        5.91726975e-01, -4.76224436e-01, -1.71262932e+00,  6.12952368e-01,\n",
              "        1.29554521e-01, -1.40596708e+00,  1.17941998e+00,  8.36635987e-01,\n",
              "        1.38745251e-01, -1.27431937e+00, -1.40233053e+00, -3.07068487e-01,\n",
              "       -1.71391539e+00,  4.05080273e-01, -1.41082331e+00,  1.64912729e-01,\n",
              "       -2.88131453e-01,  7.11785268e-01, -9.37947595e-01,  2.73729450e-01,\n",
              "       -1.39484019e+00,  7.95549552e-01, -1.14961766e-01,  4.95850669e-01,\n",
              "       -1.32052535e+00,  4.99084276e-01,  3.06203396e-01,  3.63697893e-01,\n",
              "        3.12633963e-01, -1.93463883e-01,  1.24129922e+00, -1.55897986e-01,\n",
              "       -7.39169200e-01, -5.87261934e-02, -9.50517945e-01, -4.63996423e-01,\n",
              "       -1.77246616e-01, -3.79554121e-01,  1.99397073e-01,  1.94576139e+00,\n",
              "        5.70949840e-01,  1.07230065e+00, -5.03709437e-01, -5.87016289e-01,\n",
              "       -3.78178047e-01,  8.52889097e-01, -2.14811848e+00, -1.03316478e+00,\n",
              "        1.02335847e-01, -2.24092367e-01,  1.96772968e+00,  4.47683216e-01,\n",
              "       -6.62191444e-01, -1.57760707e+00, -3.40560035e-01, -1.30322008e+00,\n",
              "        4.66750650e-01,  1.61106322e-01,  3.20031932e-01,  2.07917666e+00,\n",
              "       -9.07465981e-01, -1.92404208e-01, -1.21251574e+00, -8.05985162e-02])"
            ]
          },
          "execution_count": 45,
          "metadata": {},
          "output_type": "execute_result"
        }
      ],
      "source": [
        "data"
      ]
    },
    {
      "cell_type": "code",
      "execution_count": 11,
      "id": "3d12f1f3",
      "metadata": {
        "colab": {
          "base_uri": "https://localhost:8080/"
        },
        "id": "3d12f1f3",
        "outputId": "4693496c-772b-49bc-b2c4-81e6c274fe36"
      },
      "outputs": [
        {
          "name": "stdout",
          "output_type": "stream",
          "text": [
            "Średnia: -0.045256707490195384\n",
            "Odchylenie standardowe: 0.9870331586690257\n",
            "Maksimum: 2.759355114021582\n",
            "Minimum: -3.0461430547999266\n"
          ]
        }
      ],
      "source": [
        "print(\"Średnia:\", np.mean(data))\n",
        "print(\"Odchylenie standardowe:\", np.std(data))\n",
        "print(\"Maksimum:\", np.max(data))\n",
        "print(\"Minimum:\", np.min(data))"
      ]
    },
    {
      "cell_type": "code",
      "execution_count": 13,
      "id": "XMyBl0wexjTV",
      "metadata": {
        "colab": {
          "base_uri": "https://localhost:8080/"
        },
        "id": "XMyBl0wexjTV",
        "outputId": "0292fc58-6a60-4dc2-e66b-0854691e06f4"
      },
      "outputs": [
        {
          "name": "stdout",
          "output_type": "stream",
          "text": [
            "[5 1 9 3 3]\n"
          ]
        }
      ],
      "source": [
        "print(np.random.randint(0, 10, size=5))  # 5 losowych liczb całkowitych od 0 do 9"
      ]
    },
    {
      "cell_type": "code",
      "execution_count": 23,
      "id": "HOarTE-SxqTZ",
      "metadata": {
        "colab": {
          "base_uri": "https://localhost:8080/"
        },
        "id": "HOarTE-SxqTZ",
        "outputId": "95f78523-afa1-4b74-f115-daa37065cf97"
      },
      "outputs": [
        {
          "name": "stdout",
          "output_type": "stream",
          "text": [
            "[0.57759009 0.07527728 0.0782461 ]\n"
          ]
        }
      ],
      "source": [
        "print(np.random.rand(3))  # 3 losowe liczby zmiennoprzecinkowe z zakresu [0.0, 1.0)"
      ]
    },
    {
      "cell_type": "code",
      "execution_count": 25,
      "id": "wFdfczHubR9O",
      "metadata": {
        "colab": {
          "base_uri": "https://localhost:8080/"
        },
        "id": "wFdfczHubR9O",
        "outputId": "3f48e176-19e1-4871-b263-c3d5a079fb05"
      },
      "outputs": [
        {
          "name": "stdout",
          "output_type": "stream",
          "text": [
            "[1.6730938  1.84654861 1.94100864 1.96261373 1.83835118]\n"
          ]
        }
      ],
      "source": [
        "print(np.random.normal(loc=1.75, scale=0.1, size=5))  # Rozkład normalny"
      ]
    },
    {
      "cell_type": "markdown",
      "id": "9869702b",
      "metadata": {
        "id": "9869702b"
      },
      "source": [
        "📊 **Wizualizacja histogramu**"
      ]
    },
    {
      "cell_type": "code",
      "execution_count": 46,
      "id": "350a4e92",
      "metadata": {
        "colab": {
          "base_uri": "https://localhost:8080/",
          "height": 452
        },
        "id": "350a4e92",
        "outputId": "a7e35737-dfec-45b9-c560-33352311d5bd"
      },
      "outputs": [
        {
          "data": {
            "image/png": "[encoded data removed]",
            "text/plain": [
              "<Figure size 640x480 with 1 Axes>"
            ]
          },
          "metadata": {},
          "output_type": "display_data"
        }
      ],
      "source": [
        "import matplotlib.pyplot as plt\n",
        "plt.hist(data, bins=30, alpha=0.7)\n",
        "plt.title(\"Histogram danych z rozkładu normalnego\")\n",
        "plt.show()"
      ]
    },
    {
      "cell_type": "markdown",
      "id": "89f09ca2",
      "metadata": {
        "id": "89f09ca2"
      },
      "source": [
        "🧪 **Prosta symulacja: rzuty kostką**"
      ]
    },
    {
      "cell_type": "code",
      "execution_count": 47,
      "id": "P80MATODyBYN",
      "metadata": {
        "id": "P80MATODyBYN"
      },
      "outputs": [],
      "source": [
        "dice_rolls = np.random.randint(1, 7, size=1000)\n",
        "unique, counts = np.unique(dice_rolls, return_counts=True)"
      ]
    },
    {
      "cell_type": "code",
      "execution_count": 48,
      "id": "zXFRBmTqyCzc",
      "metadata": {
        "colab": {
          "base_uri": "https://localhost:8080/"
        },
        "id": "zXFRBmTqyCzc",
        "outputId": "f56d359a-9a0c-4c1b-8d44-705104eeb426"
      },
      "outputs": [
        {
          "data": {
            "text/plain": [
              "array([1, 2, 3, 4, 5, 6], dtype=int32)"
            ]
          },
          "execution_count": 48,
          "metadata": {},
          "output_type": "execute_result"
        }
      ],
      "source": [
        "unique"
      ]
    },
    {
      "cell_type": "code",
      "execution_count": 49,
      "id": "dJSnzd2lyDoE",
      "metadata": {
        "colab": {
          "base_uri": "https://localhost:8080/"
        },
        "id": "dJSnzd2lyDoE",
        "outputId": "115cb6d2-86d2-473e-d78b-86e6c1b6a8cb"
      },
      "outputs": [
        {
          "data": {
            "text/plain": [
              "array([151, 210, 144, 169, 166, 160])"
            ]
          },
          "execution_count": 49,
          "metadata": {},
          "output_type": "execute_result"
        }
      ],
      "source": [
        "counts"
      ]
    },
    {
      "cell_type": "code",
      "execution_count": 50,
      "id": "53ddda7b",
      "metadata": {
        "colab": {
          "base_uri": "https://localhost:8080/"
        },
        "id": "53ddda7b",
        "outputId": "dbe0c687-1a44-4aca-85a7-d7900702b5cc"
      },
      "outputs": [
        {
          "name": "stdout",
          "output_type": "stream",
          "text": [
            "Rozkład rzutów kostką:\n",
            "1: 151 razy\n",
            "2: 210 razy\n",
            "3: 144 razy\n",
            "4: 169 razy\n",
            "5: 166 razy\n",
            "6: 160 razy\n"
          ]
        }
      ],
      "source": [
        "print(\"Rozkład rzutów kostką:\")\n",
        "for value, count in zip(unique, counts):\n",
        "    print(f\"{value}: {count} razy\")"
      ]
    },
    {
      "cell_type": "markdown",
      "id": "7cb1204a",
      "metadata": {
        "id": "7cb1204a"
      },
      "source": [
        "⏱️ **Porównanie wydajności: Python vs NumPy**"
      ]
    },
    {
      "cell_type": "code",
      "execution_count": null,
      "id": "c901d84e",
      "metadata": {},
      "outputs": [],
      "source": []
    },
    {
      "cell_type": "code",
      "execution_count": 51,
      "id": "90fa146b",
      "metadata": {
        "colab": {
          "base_uri": "https://localhost:8080/"
        },
        "id": "90fa146b",
        "outputId": "43e3448e-02b1-463b-dd3b-c592ca8cd03f"
      },
      "outputs": [
        {
          "name": "stdout",
          "output_type": "stream",
          "text": [
            "Czas Pythona: 0.06001734733581543 sekundy\n"
          ]
        }
      ],
      "source": [
        "import time\n",
        "python_list = list(range(1000000))\n",
        "\n",
        "start = time.time()\n",
        "squared_py = [x**2 for x in python_list]\n",
        "end = time.time()\n",
        "\n",
        "print(\"Czas Pythona:\", end - start, \"sekundy\")"
      ]
    },
    {
      "cell_type": "code",
      "execution_count": 52,
      "id": "63e301ef",
      "metadata": {
        "colab": {
          "base_uri": "https://localhost:8080/"
        },
        "id": "63e301ef",
        "outputId": "311835a0-8d3e-4781-b6a8-e753a41952b7"
      },
      "outputs": [
        {
          "name": "stdout",
          "output_type": "stream",
          "text": [
            "Czas NumPy: 0.0049762725830078125 sekundy\n"
          ]
        }
      ],
      "source": [
        "np_array = np.arange(1000000)\n",
        "\n",
        "start = time.time()\n",
        "squared_np = np_array ** 2\n",
        "end = time.time()\n",
        "print(\"Czas NumPy:\", end - start, \"sekundy\")"
      ]
    },
    {
      "cell_type": "markdown",
      "id": "9477e0fa",
      "metadata": {
        "id": "9477e0fa"
      },
      "source": [
        "🧪 **Zadania**\n",
        "1. Wygeneruj 1000 losowych liczb całkowitych między 50 a 100 i oblicz średnią.\n",
        "2. Zasymuluj 100 rzutów monetą i policz orły (1) vs reszki (0).\n",
        "3. Stwórz macierz 5x3 z losowymi wynikami i oblicz średnie.\n",
        "4. Zmierz czas podnoszenia do kwadratu dużej macierzy 1000 x 1000 w Pythonie i NumPy."
      ]
    },
    {
      "cell_type": "code",
      "execution_count": 54,
      "id": "eb0730f7",
      "metadata": {
        "id": "eb0730f7"
      },
      "outputs": [
        {
          "name": "stdout",
          "output_type": "stream",
          "text": [
            "Średnia z 1000 losowych liczb całkowitych między 50 a 100: 75.664\n"
          ]
        }
      ],
      "source": [
        "# Zadanie 1\n",
        "# Wygeneruj 1000 losowych liczb całkowitych między 50 a 100 i oblicz średnią.\n",
        "numbers = np.random.randint(50, 101, size=1000)\n",
        "avr_from_numbers = np.mean(numbers)\n",
        "print(\"Średnia z 1000 losowych liczb całkowitych między 50 a 100:\", avr_from_numbers)   "
      ]
    },
    {
      "cell_type": "code",
      "execution_count": 56,
      "id": "915ae65e",
      "metadata": {
        "id": "915ae65e"
      },
      "outputs": [
        {
          "name": "stdout",
          "output_type": "stream",
          "text": [
            "Liczba orłów (1) i reszek (0):\n",
            "0: 42 razy\n",
            "1: 58 razy\n"
          ]
        }
      ],
      "source": [
        "# Zadanie 2\n",
        "# Zasymuluj 100 rzutów monetą i policz orły (1) vs reszki (0).\n",
        "runs = np.random.randint(0, 2, size=100)\n",
        "unique, counts = np.unique(runs, return_counts=True)\n",
        "print(\"Liczba orłów (1) i reszek (0):\")\n",
        "for value, count in zip(unique, counts):\n",
        "    print(f\"{value}: {count} razy\")\n"
      ]
    },
    {
      "cell_type": "code",
      "execution_count": 64,
      "id": "a3cca7b3",
      "metadata": {
        "id": "a3cca7b3"
      },
      "outputs": [
        {
          "name": "stdout",
          "output_type": "stream",
          "text": [
            "[[0.45260924 0.0534775  0.7405388 ]\n",
            " [0.64326434 0.30051413 0.0741905 ]\n",
            " [0.21644796 0.04312552 0.90519458]\n",
            " [0.41452154 0.59663979 0.32892191]\n",
            " [0.52489035 0.54800759 0.71992947]]\n",
            "Średnie z każdej kolumny macierzy 5x3: [0.45034669 0.30835291 0.55375505]\n",
            "Średnie z każdego wiersza macierzy 5x3: [0.41554185 0.33932299 0.38825602 0.44669441 0.59760914]\n",
            "Średnia ze wszystkich elementów macierzy 5x3: 0.43748488195094676\n"
          ]
        }
      ],
      "source": [
        "# Zadanie 3\n",
        "# Stwórz macierz 5x3 z losowymi wynikami i oblicz średnie.\n",
        "tab_5x3 = np.random.rand(5, 3)\n",
        "print(tab_5x3)\n",
        "avr_from_tab_5x3 = np.mean(tab_5x3, axis=0)\n",
        "print(\"Średnie z każdej kolumny macierzy 5x3:\", avr_from_tab_5x3)\n",
        "avr_from_tab_5x3_row = np.mean(tab_5x3, axis=1)\n",
        "print(\"Średnie z każdego wiersza macierzy 5x3:\", avr_from_tab_5x3_row)\n",
        "avr_all = np.mean(tab_5x3)\n",
        "print(\"Średnia ze wszystkich elementów macierzy 5x3:\", avr_all)\n"
      ]
    },
    {
      "cell_type": "code",
      "execution_count": 71,
      "id": "07e2c9f6",
      "metadata": {
        "id": "07e2c9f6"
      },
      "outputs": [
        {
          "name": "stdout",
          "output_type": "stream",
          "text": [
            "Czas Pythona dla macierzy 1000x1000: 0.09065580368041992 sekundy\n"
          ]
        }
      ],
      "source": [
        "# Zadanie 4\n",
        "# Zmierz czas podnoszenia do kwadratu dużej macierzy 1000 x 1000 w Pythonie i NumPy.\n",
        "# python\n",
        "import random\n",
        "numbers_matrix = [[random.random() for _ in range(1000)] for _ in range(1000)]\n",
        "start_time = time.time()\n",
        "result = [[x**2 for x in row] for row in numbers_matrix]\n",
        "end_time = time.time()\n",
        "print(\"Czas Pythona dla macierzy 1000x1000:\", end_time - start_time, \"sekundy\")\n"
      ]
    },
    {
      "cell_type": "code",
      "execution_count": 74,
      "id": "b35daa70",
      "metadata": {},
      "outputs": [
        {
          "name": "stdout",
          "output_type": "stream",
          "text": [
            "Czas numpy dla macierzy 1000x1000: 0.003662586212158203 sekundy\n"
          ]
        }
      ],
      "source": [
        "# numpy\n",
        "numbers_matrix = np.random.rand(1000, 1000)\n",
        "start_time = time.time()\n",
        "result = numbers_matrix ** 2\n",
        "end_time = time.time()\n",
        "print(\"Czas numpy dla macierzy 1000x1000:\", end_time - start_time, \"sekundy\")\n"
      ]
    },
    {
      "cell_type": "code",
      "execution_count": null,
      "id": "e6d63fe2",
      "metadata": {
        "id": "e6d63fe2"
      },
      "outputs": [],
      "source": [
        "# Zadanie 5"
      ]
    }
  ],
  "metadata": {
    "colab": {
      "provenance": []
    },
    "kernelspec": {
      "display_name": "Python 3",
      "name": "python3"
    },
    "language_info": {
      "codemirror_mode": {
        "name": "ipython",
        "version": 3
      },
      "file_extension": ".py",
      "mimetype": "text/x-python",
      "name": "python",
      "nbconvert_exporter": "python",
      "pygments_lexer": "ipython3",
      "version": "3.13.7"
    }
  },
  "nbformat": 4,
  "nbformat_minor": 5
}
