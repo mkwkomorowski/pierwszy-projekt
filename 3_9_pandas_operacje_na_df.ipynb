{
  "cells": [
    {
      "cell_type": "markdown",
      "id": "1621267c",
      "metadata": {
        "id": "1621267c"
      },
      "source": [
        "# Pandas – Lekcja 2: Operacje na DataFrame\n",
        "\n",
        "Po przejściu przez ten notatnik będziesz potrafić:\n",
        "\n",
        "1. Tworzyć `DataFrame` na kilka sposobów – z list, słowników, macierzy *NumPy*, serii i plików CSV.\n",
        "2. Szybko podglądać dane (`head`, `tail`, `describe`).\n",
        "3. Zarządzać indeksem (ustanawiać, resetować, modyfikować).\n",
        "4. Pobierać dane precyzyjnie za pomocą `loc`, `iloc`, `at`, `iat`.\n",
        "5. Selekcjonować i filtrować wiersze oraz kolumny, także przy wielu warunkach logicznych.\n",
        "6. Wycinać, czyścić i modyfikować dane.\n",
        "7. Przećwiczyć wszystko na realistycznym zbiorze cen produktów.\n",
        "\n",
        "Na końcu znajdziesz **zadania praktyczne** – rozwiąż je, aby utrwalić wiedzę."
      ]
    },
    {
      "cell_type": "code",
      "execution_count": 1,
      "id": "9f9fvYyIfpAy",
      "metadata": {
        "id": "9f9fvYyIfpAy"
      },
      "outputs": [],
      "source": [
        "import pandas as pd\n",
        "import numpy as np"
      ]
    },
    {
      "cell_type": "markdown",
      "id": "54d6e5de",
      "metadata": {
        "id": "54d6e5de"
      },
      "source": [
        "## 1 <a id='konstruktory'></a> Tworzenie `DataFrame` – różne konstruktory"
      ]
    },
    {
      "cell_type": "code",
      "execution_count": 5,
      "id": "nVFATT0n6yq2",
      "metadata": {
        "colab": {
          "base_uri": "https://localhost:8080/",
          "height": 339
        },
        "id": "nVFATT0n6yq2",
        "outputId": "159d64df-201f-4068-c5f6-c0cef544b12b"
      },
      "outputs": [],
      "source": [
        "df_dict = pd.DataFrame({\n",
        "    'Imię': ['Adam'],\n",
        "    'Wiek': [30]\n",
        "})"
      ]
    },
    {
      "cell_type": "code",
      "execution_count": 3,
      "id": "weDtaQzt69G4",
      "metadata": {
        "colab": {
          "base_uri": "https://localhost:8080/",
          "height": 89
        },
        "id": "weDtaQzt69G4",
        "outputId": "be99319a-1f41-4c54-c5a3-3422f205a2dc"
      },
      "outputs": [
        {
          "data": {
            "text/html": [
              "<div>\n",
              "<style scoped>\n",
              "    .dataframe tbody tr th:only-of-type {\n",
              "        vertical-align: middle;\n",
              "    }\n",
              "\n",
              "    .dataframe tbody tr th {\n",
              "        vertical-align: top;\n",
              "    }\n",
              "\n",
              "    .dataframe thead th {\n",
              "        text-align: right;\n",
              "    }\n",
              "</style>\n",
              "<table border=\"1\" class=\"dataframe\">\n",
              "  <thead>\n",
              "    <tr style=\"text-align: right;\">\n",
              "      <th></th>\n",
              "      <th>Imię</th>\n",
              "      <th>Wiek</th>\n",
              "    </tr>\n",
              "  </thead>\n",
              "  <tbody>\n",
              "    <tr>\n",
              "      <th>0</th>\n",
              "      <td>Adam</td>\n",
              "      <td>30</td>\n",
              "    </tr>\n",
              "  </tbody>\n",
              "</table>\n",
              "</div>"
            ],
            "text/plain": [
              "   Imię  Wiek\n",
              "0  Adam    30"
            ]
          },
          "execution_count": 3,
          "metadata": {},
          "output_type": "execute_result"
        }
      ],
      "source": [
        "df_dict"
      ]
    },
    {
      "cell_type": "code",
      "execution_count": 6,
      "id": "glwNZX5HfqnD",
      "metadata": {
        "colab": {
          "base_uri": "https://localhost:8080/",
          "height": 143
        },
        "id": "glwNZX5HfqnD",
        "outputId": "769b7396-f76c-4814-9313-da7e555c1cb4"
      },
      "outputs": [
        {
          "data": {
            "text/html": [
              "<div>\n",
              "<style scoped>\n",
              "    .dataframe tbody tr th:only-of-type {\n",
              "        vertical-align: middle;\n",
              "    }\n",
              "\n",
              "    .dataframe tbody tr th {\n",
              "        vertical-align: top;\n",
              "    }\n",
              "\n",
              "    .dataframe thead th {\n",
              "        text-align: right;\n",
              "    }\n",
              "</style>\n",
              "<table border=\"1\" class=\"dataframe\">\n",
              "  <thead>\n",
              "    <tr style=\"text-align: right;\">\n",
              "      <th></th>\n",
              "      <th>Imię</th>\n",
              "      <th>Wiek</th>\n",
              "    </tr>\n",
              "  </thead>\n",
              "  <tbody>\n",
              "    <tr>\n",
              "      <th>0</th>\n",
              "      <td>Anna</td>\n",
              "      <td>23</td>\n",
              "    </tr>\n",
              "    <tr>\n",
              "      <th>1</th>\n",
              "      <td>Bartek</td>\n",
              "      <td>35</td>\n",
              "    </tr>\n",
              "    <tr>\n",
              "      <th>2</th>\n",
              "      <td>Celina</td>\n",
              "      <td>29</td>\n",
              "    </tr>\n",
              "  </tbody>\n",
              "</table>\n",
              "</div>"
            ],
            "text/plain": [
              "     Imię  Wiek\n",
              "0    Anna    23\n",
              "1  Bartek    35\n",
              "2  Celina    29"
            ]
          },
          "execution_count": 6,
          "metadata": {},
          "output_type": "execute_result"
        }
      ],
      "source": [
        "# 1A. Z słownika list\n",
        "df_dict = pd.DataFrame({\n",
        "    'Imię': ['Anna', 'Bartek', 'Celina'],\n",
        "    'Wiek': [23, 35, 29]\n",
        "})\n",
        "df_dict"
      ]
    },
    {
      "cell_type": "code",
      "execution_count": 7,
      "id": "2n5XdsGZft9H",
      "metadata": {
        "colab": {
          "base_uri": "https://localhost:8080/",
          "height": 125
        },
        "id": "2n5XdsGZft9H",
        "outputId": "11aa7d33-04eb-406a-9121-4680f6bb113d"
      },
      "outputs": [
        {
          "data": {
            "text/html": [
              "<div>\n",
              "<style scoped>\n",
              "    .dataframe tbody tr th:only-of-type {\n",
              "        vertical-align: middle;\n",
              "    }\n",
              "\n",
              "    .dataframe tbody tr th {\n",
              "        vertical-align: top;\n",
              "    }\n",
              "\n",
              "    .dataframe thead th {\n",
              "        text-align: right;\n",
              "    }\n",
              "</style>\n",
              "<table border=\"1\" class=\"dataframe\">\n",
              "  <thead>\n",
              "    <tr style=\"text-align: right;\">\n",
              "      <th></th>\n",
              "      <th>Miasto</th>\n",
              "      <th>Populacja</th>\n",
              "    </tr>\n",
              "  </thead>\n",
              "  <tbody>\n",
              "    <tr>\n",
              "      <th>0</th>\n",
              "      <td>Warszawa</td>\n",
              "      <td>1793579</td>\n",
              "    </tr>\n",
              "    <tr>\n",
              "      <th>1</th>\n",
              "      <td>Kraków</td>\n",
              "      <td>779115</td>\n",
              "    </tr>\n",
              "  </tbody>\n",
              "</table>\n",
              "</div>"
            ],
            "text/plain": [
              "     Miasto  Populacja\n",
              "0  Warszawa    1793579\n",
              "1    Kraków     779115"
            ]
          },
          "execution_count": 7,
          "metadata": {},
          "output_type": "execute_result"
        }
      ],
      "source": [
        "# 1B. Z listy słowników\n",
        "df_list_of_dicts = pd.DataFrame([\n",
        "    {'Miasto': 'Warszawa', 'Populacja': 1793579},\n",
        "    {'Miasto': 'Kraków',   'Populacja': 779115},\n",
        "])\n",
        "df_list_of_dicts"
      ]
    },
    {
      "cell_type": "code",
      "execution_count": 8,
      "id": "bg0BmFLKfyu7",
      "metadata": {
        "colab": {
          "base_uri": "https://localhost:8080/",
          "height": 125
        },
        "id": "bg0BmFLKfyu7",
        "outputId": "f9a1feeb-9b4c-4a84-d1b2-fe80eef9a9fd"
      },
      "outputs": [
        {
          "data": {
            "text/html": [
              "<div>\n",
              "<style scoped>\n",
              "    .dataframe tbody tr th:only-of-type {\n",
              "        vertical-align: middle;\n",
              "    }\n",
              "\n",
              "    .dataframe tbody tr th {\n",
              "        vertical-align: top;\n",
              "    }\n",
              "\n",
              "    .dataframe thead th {\n",
              "        text-align: right;\n",
              "    }\n",
              "</style>\n",
              "<table border=\"1\" class=\"dataframe\">\n",
              "  <thead>\n",
              "    <tr style=\"text-align: right;\">\n",
              "      <th></th>\n",
              "      <th>A</th>\n",
              "      <th>B</th>\n",
              "      <th>C</th>\n",
              "    </tr>\n",
              "  </thead>\n",
              "  <tbody>\n",
              "    <tr>\n",
              "      <th>0</th>\n",
              "      <td>1</td>\n",
              "      <td>2</td>\n",
              "      <td>3</td>\n",
              "    </tr>\n",
              "    <tr>\n",
              "      <th>1</th>\n",
              "      <td>4</td>\n",
              "      <td>5</td>\n",
              "      <td>6</td>\n",
              "    </tr>\n",
              "  </tbody>\n",
              "</table>\n",
              "</div>"
            ],
            "text/plain": [
              "   A  B  C\n",
              "0  1  2  3\n",
              "1  4  5  6"
            ]
          },
          "execution_count": 8,
          "metadata": {},
          "output_type": "execute_result"
        }
      ],
      "source": [
        "# 1C. Z listy list + kolumny\n",
        "df_list = pd.DataFrame(\n",
        "    [[1, 2, 3], [4, 5, 6]],\n",
        "    columns=['A', 'B', 'C']\n",
        ")\n",
        "df_list"
      ]
    },
    {
      "cell_type": "code",
      "execution_count": 9,
      "id": "NBbKCzcx7a-a",
      "metadata": {
        "id": "NBbKCzcx7a-a"
      },
      "outputs": [],
      "source": [
        "# 1D. Z macierzy NumPy\n",
        "arr = np.random.randn(4, 3)"
      ]
    },
    {
      "cell_type": "code",
      "execution_count": 10,
      "id": "Mr4bQDyX7btJ",
      "metadata": {
        "colab": {
          "base_uri": "https://localhost:8080/"
        },
        "id": "Mr4bQDyX7btJ",
        "outputId": "37058f39-1c62-4911-b619-13b4efc0b427"
      },
      "outputs": [
        {
          "data": {
            "text/plain": [
              "array([[ 0.42482334, -1.21840105,  0.00219085],\n",
              "       [-0.4730992 , -0.15305436,  0.48301356],\n",
              "       [ 1.16132565, -0.64620174, -0.26375137],\n",
              "       [ 0.07415325,  0.66751637, -1.31121212]])"
            ]
          },
          "execution_count": 10,
          "metadata": {},
          "output_type": "execute_result"
        }
      ],
      "source": [
        "arr"
      ]
    },
    {
      "cell_type": "code",
      "execution_count": 11,
      "id": "P2LwT3Sof3P-",
      "metadata": {
        "colab": {
          "base_uri": "https://localhost:8080/",
          "height": 175
        },
        "id": "P2LwT3Sof3P-",
        "outputId": "0353cd5c-4340-4606-99e1-d52ec6510c89"
      },
      "outputs": [
        {
          "data": {
            "text/html": [
              "<div>\n",
              "<style scoped>\n",
              "    .dataframe tbody tr th:only-of-type {\n",
              "        vertical-align: middle;\n",
              "    }\n",
              "\n",
              "    .dataframe tbody tr th {\n",
              "        vertical-align: top;\n",
              "    }\n",
              "\n",
              "    .dataframe thead th {\n",
              "        text-align: right;\n",
              "    }\n",
              "</style>\n",
              "<table border=\"1\" class=\"dataframe\">\n",
              "  <thead>\n",
              "    <tr style=\"text-align: right;\">\n",
              "      <th></th>\n",
              "      <th>X</th>\n",
              "      <th>Y</th>\n",
              "      <th>Z</th>\n",
              "    </tr>\n",
              "  </thead>\n",
              "  <tbody>\n",
              "    <tr>\n",
              "      <th>0</th>\n",
              "      <td>0.424823</td>\n",
              "      <td>-1.218401</td>\n",
              "      <td>0.002191</td>\n",
              "    </tr>\n",
              "    <tr>\n",
              "      <th>1</th>\n",
              "      <td>-0.473099</td>\n",
              "      <td>-0.153054</td>\n",
              "      <td>0.483014</td>\n",
              "    </tr>\n",
              "    <tr>\n",
              "      <th>2</th>\n",
              "      <td>1.161326</td>\n",
              "      <td>-0.646202</td>\n",
              "      <td>-0.263751</td>\n",
              "    </tr>\n",
              "    <tr>\n",
              "      <th>3</th>\n",
              "      <td>0.074153</td>\n",
              "      <td>0.667516</td>\n",
              "      <td>-1.311212</td>\n",
              "    </tr>\n",
              "  </tbody>\n",
              "</table>\n",
              "</div>"
            ],
            "text/plain": [
              "          X         Y         Z\n",
              "0  0.424823 -1.218401  0.002191\n",
              "1 -0.473099 -0.153054  0.483014\n",
              "2  1.161326 -0.646202 -0.263751\n",
              "3  0.074153  0.667516 -1.311212"
            ]
          },
          "execution_count": 11,
          "metadata": {},
          "output_type": "execute_result"
        }
      ],
      "source": [
        "\n",
        "df_arr = pd.DataFrame(arr, columns=['X', 'Y', 'Z'])\n",
        "df_arr"
      ]
    },
    {
      "cell_type": "markdown",
      "id": "cb5faf70",
      "metadata": {
        "id": "cb5faf70"
      },
      "source": [
        "## 2 <a id='podglad'></a> `head`, `tail`, `describe`\n",
        "Funkcje **`head()`** i **`tail()`** pozwalają podejrzeć początek i koniec danych, a **`describe()`** – błyskawicznie uzyskać statystyki opisowe dla kolumn numerycznych. Przyjrzyjmy się temu na zbiorze `df_arr` z poprzedniego przykładu."
      ]
    },
    {
      "cell_type": "code",
      "execution_count": 12,
      "id": "d4Uj0_9W7nIY",
      "metadata": {
        "colab": {
          "base_uri": "https://localhost:8080/",
          "height": 224
        },
        "id": "d4Uj0_9W7nIY",
        "outputId": "e77f962b-7ba2-44c8-bfe0-f2a3de70dd67"
      },
      "outputs": [
        {
          "name": "stdout",
          "output_type": "stream",
          "text": [
            "Pierwsze 5 wierszy:\n"
          ]
        },
        {
          "data": {
            "text/html": [
              "<div>\n",
              "<style scoped>\n",
              "    .dataframe tbody tr th:only-of-type {\n",
              "        vertical-align: middle;\n",
              "    }\n",
              "\n",
              "    .dataframe tbody tr th {\n",
              "        vertical-align: top;\n",
              "    }\n",
              "\n",
              "    .dataframe thead th {\n",
              "        text-align: right;\n",
              "    }\n",
              "</style>\n",
              "<table border=\"1\" class=\"dataframe\">\n",
              "  <thead>\n",
              "    <tr style=\"text-align: right;\">\n",
              "      <th></th>\n",
              "      <th>X</th>\n",
              "      <th>Y</th>\n",
              "      <th>Z</th>\n",
              "    </tr>\n",
              "  </thead>\n",
              "  <tbody>\n",
              "    <tr>\n",
              "      <th>0</th>\n",
              "      <td>0.335082</td>\n",
              "      <td>-0.640997</td>\n",
              "      <td>-0.270945</td>\n",
              "    </tr>\n",
              "    <tr>\n",
              "      <th>1</th>\n",
              "      <td>1.792507</td>\n",
              "      <td>0.024794</td>\n",
              "      <td>0.948017</td>\n",
              "    </tr>\n",
              "    <tr>\n",
              "      <th>2</th>\n",
              "      <td>0.667440</td>\n",
              "      <td>0.213406</td>\n",
              "      <td>-0.216129</td>\n",
              "    </tr>\n",
              "    <tr>\n",
              "      <th>3</th>\n",
              "      <td>-0.201809</td>\n",
              "      <td>-0.236042</td>\n",
              "      <td>-0.776021</td>\n",
              "    </tr>\n",
              "    <tr>\n",
              "      <th>4</th>\n",
              "      <td>-0.854558</td>\n",
              "      <td>1.180331</td>\n",
              "      <td>-0.555027</td>\n",
              "    </tr>\n",
              "  </tbody>\n",
              "</table>\n",
              "</div>"
            ],
            "text/plain": [
              "          X         Y         Z\n",
              "0  0.335082 -0.640997 -0.270945\n",
              "1  1.792507  0.024794  0.948017\n",
              "2  0.667440  0.213406 -0.216129\n",
              "3 -0.201809 -0.236042 -0.776021\n",
              "4 -0.854558  1.180331 -0.555027"
            ]
          },
          "execution_count": 12,
          "metadata": {},
          "output_type": "execute_result"
        }
      ],
      "source": [
        "arr = np.random.randn(10, 3)\n",
        "df_demo = pd.DataFrame(arr, columns=['X', 'Y', 'Z'])\n",
        "\n",
        "print('Pierwsze 5 wierszy:')\n",
        "df_demo.head()"
      ]
    },
    {
      "cell_type": "code",
      "execution_count": 15,
      "id": "vupWvvpU7tLM",
      "metadata": {
        "colab": {
          "base_uri": "https://localhost:8080/",
          "height": 552
        },
        "id": "vupWvvpU7tLM",
        "outputId": "c73346ca-34a1-456e-d3e3-720e05fd556d"
      },
      "outputs": [
        {
          "data": {
            "text/html": [
              "<div>\n",
              "<style scoped>\n",
              "    .dataframe tbody tr th:only-of-type {\n",
              "        vertical-align: middle;\n",
              "    }\n",
              "\n",
              "    .dataframe tbody tr th {\n",
              "        vertical-align: top;\n",
              "    }\n",
              "\n",
              "    .dataframe thead th {\n",
              "        text-align: right;\n",
              "    }\n",
              "</style>\n",
              "<table border=\"1\" class=\"dataframe\">\n",
              "  <thead>\n",
              "    <tr style=\"text-align: right;\">\n",
              "      <th></th>\n",
              "      <th>X</th>\n",
              "      <th>Y</th>\n",
              "      <th>Z</th>\n",
              "    </tr>\n",
              "  </thead>\n",
              "  <tbody>\n",
              "    <tr>\n",
              "      <th>0</th>\n",
              "      <td>0.335082</td>\n",
              "      <td>-0.640997</td>\n",
              "      <td>-0.270945</td>\n",
              "    </tr>\n",
              "    <tr>\n",
              "      <th>1</th>\n",
              "      <td>1.792507</td>\n",
              "      <td>0.024794</td>\n",
              "      <td>0.948017</td>\n",
              "    </tr>\n",
              "    <tr>\n",
              "      <th>2</th>\n",
              "      <td>0.667440</td>\n",
              "      <td>0.213406</td>\n",
              "      <td>-0.216129</td>\n",
              "    </tr>\n",
              "    <tr>\n",
              "      <th>3</th>\n",
              "      <td>-0.201809</td>\n",
              "      <td>-0.236042</td>\n",
              "      <td>-0.776021</td>\n",
              "    </tr>\n",
              "    <tr>\n",
              "      <th>4</th>\n",
              "      <td>-0.854558</td>\n",
              "      <td>1.180331</td>\n",
              "      <td>-0.555027</td>\n",
              "    </tr>\n",
              "    <tr>\n",
              "      <th>5</th>\n",
              "      <td>-1.724403</td>\n",
              "      <td>-1.807571</td>\n",
              "      <td>-0.517512</td>\n",
              "    </tr>\n",
              "    <tr>\n",
              "      <th>6</th>\n",
              "      <td>-0.251455</td>\n",
              "      <td>-0.223802</td>\n",
              "      <td>-0.513579</td>\n",
              "    </tr>\n",
              "    <tr>\n",
              "      <th>7</th>\n",
              "      <td>-0.572661</td>\n",
              "      <td>-1.368766</td>\n",
              "      <td>-0.048496</td>\n",
              "    </tr>\n",
              "    <tr>\n",
              "      <th>8</th>\n",
              "      <td>-2.227417</td>\n",
              "      <td>-0.322886</td>\n",
              "      <td>0.552282</td>\n",
              "    </tr>\n",
              "    <tr>\n",
              "      <th>9</th>\n",
              "      <td>1.393234</td>\n",
              "      <td>1.130989</td>\n",
              "      <td>0.033953</td>\n",
              "    </tr>\n",
              "  </tbody>\n",
              "</table>\n",
              "</div>"
            ],
            "text/plain": [
              "          X         Y         Z\n",
              "0  0.335082 -0.640997 -0.270945\n",
              "1  1.792507  0.024794  0.948017\n",
              "2  0.667440  0.213406 -0.216129\n",
              "3 -0.201809 -0.236042 -0.776021\n",
              "4 -0.854558  1.180331 -0.555027\n",
              "5 -1.724403 -1.807571 -0.517512\n",
              "6 -0.251455 -0.223802 -0.513579\n",
              "7 -0.572661 -1.368766 -0.048496\n",
              "8 -2.227417 -0.322886  0.552282\n",
              "9  1.393234  1.130989  0.033953"
            ]
          },
          "metadata": {},
          "output_type": "display_data"
        },
        {
          "data": {
            "text/html": [
              "<div>\n",
              "<style scoped>\n",
              "    .dataframe tbody tr th:only-of-type {\n",
              "        vertical-align: middle;\n",
              "    }\n",
              "\n",
              "    .dataframe tbody tr th {\n",
              "        vertical-align: top;\n",
              "    }\n",
              "\n",
              "    .dataframe thead th {\n",
              "        text-align: right;\n",
              "    }\n",
              "</style>\n",
              "<table border=\"1\" class=\"dataframe\">\n",
              "  <thead>\n",
              "    <tr style=\"text-align: right;\">\n",
              "      <th></th>\n",
              "      <th>X</th>\n",
              "      <th>Y</th>\n",
              "      <th>Z</th>\n",
              "    </tr>\n",
              "  </thead>\n",
              "  <tbody>\n",
              "    <tr>\n",
              "      <th>0</th>\n",
              "      <td>0.335082</td>\n",
              "      <td>-0.640997</td>\n",
              "      <td>-0.270945</td>\n",
              "    </tr>\n",
              "    <tr>\n",
              "      <th>1</th>\n",
              "      <td>1.792507</td>\n",
              "      <td>0.024794</td>\n",
              "      <td>0.948017</td>\n",
              "    </tr>\n",
              "    <tr>\n",
              "      <th>2</th>\n",
              "      <td>0.667440</td>\n",
              "      <td>0.213406</td>\n",
              "      <td>-0.216129</td>\n",
              "    </tr>\n",
              "    <tr>\n",
              "      <th>3</th>\n",
              "      <td>-0.201809</td>\n",
              "      <td>-0.236042</td>\n",
              "      <td>-0.776021</td>\n",
              "    </tr>\n",
              "    <tr>\n",
              "      <th>4</th>\n",
              "      <td>-0.854558</td>\n",
              "      <td>1.180331</td>\n",
              "      <td>-0.555027</td>\n",
              "    </tr>\n",
              "  </tbody>\n",
              "</table>\n",
              "</div>"
            ],
            "text/plain": [
              "          X         Y         Z\n",
              "0  0.335082 -0.640997 -0.270945\n",
              "1  1.792507  0.024794  0.948017\n",
              "2  0.667440  0.213406 -0.216129\n",
              "3 -0.201809 -0.236042 -0.776021\n",
              "4 -0.854558  1.180331 -0.555027"
            ]
          },
          "execution_count": 15,
          "metadata": {},
          "output_type": "execute_result"
        }
      ],
      "source": [
        "display(df_demo)\n",
        "df_demo.head()"
      ]
    },
    {
      "cell_type": "code",
      "execution_count": 16,
      "id": "tuhqeMg37who",
      "metadata": {
        "colab": {
          "base_uri": "https://localhost:8080/"
        },
        "id": "tuhqeMg37who",
        "outputId": "0e734a82-8566-4c32-d452-fb8c33ac4f3a"
      },
      "outputs": [
        {
          "name": "stdout",
          "output_type": "stream",
          "text": [
            "          X         Y         Z\n",
            "0  0.335082 -0.640997 -0.270945\n",
            "1  1.792507  0.024794  0.948017\n",
            "2  0.667440  0.213406 -0.216129\n",
            "3 -0.201809 -0.236042 -0.776021\n",
            "4 -0.854558  1.180331 -0.555027\n"
          ]
        }
      ],
      "source": [
        "print(df_demo.head())"
      ]
    },
    {
      "cell_type": "code",
      "execution_count": 18,
      "id": "W4uku-ps7vEZ",
      "metadata": {
        "colab": {
          "base_uri": "https://localhost:8080/",
          "height": 206
        },
        "id": "W4uku-ps7vEZ",
        "outputId": "a8c3e615-0f9f-448f-ee96-8835497b88e3"
      },
      "outputs": [
        {
          "data": {
            "text/html": [
              "<div>\n",
              "<style scoped>\n",
              "    .dataframe tbody tr th:only-of-type {\n",
              "        vertical-align: middle;\n",
              "    }\n",
              "\n",
              "    .dataframe tbody tr th {\n",
              "        vertical-align: top;\n",
              "    }\n",
              "\n",
              "    .dataframe thead th {\n",
              "        text-align: right;\n",
              "    }\n",
              "</style>\n",
              "<table border=\"1\" class=\"dataframe\">\n",
              "  <thead>\n",
              "    <tr style=\"text-align: right;\">\n",
              "      <th></th>\n",
              "      <th>X</th>\n",
              "      <th>Y</th>\n",
              "      <th>Z</th>\n",
              "    </tr>\n",
              "  </thead>\n",
              "  <tbody>\n",
              "    <tr>\n",
              "      <th>0</th>\n",
              "      <td>0.335082</td>\n",
              "      <td>-0.640997</td>\n",
              "      <td>-0.270945</td>\n",
              "    </tr>\n",
              "    <tr>\n",
              "      <th>1</th>\n",
              "      <td>1.792507</td>\n",
              "      <td>0.024794</td>\n",
              "      <td>0.948017</td>\n",
              "    </tr>\n",
              "    <tr>\n",
              "      <th>2</th>\n",
              "      <td>0.667440</td>\n",
              "      <td>0.213406</td>\n",
              "      <td>-0.216129</td>\n",
              "    </tr>\n",
              "  </tbody>\n",
              "</table>\n",
              "</div>"
            ],
            "text/plain": [
              "          X         Y         Z\n",
              "0  0.335082 -0.640997 -0.270945\n",
              "1  1.792507  0.024794  0.948017\n",
              "2  0.667440  0.213406 -0.216129"
            ]
          },
          "metadata": {},
          "output_type": "display_data"
        }
      ],
      "source": [
        "display(df_demo.head(3))"
      ]
    },
    {
      "cell_type": "code",
      "execution_count": 19,
      "id": "2UwziSmk8Cdo",
      "metadata": {
        "colab": {
          "base_uri": "https://localhost:8080/",
          "height": 178
        },
        "id": "2UwziSmk8Cdo",
        "outputId": "9bf814ca-6b9c-4bce-ee20-09ddb695bbf0"
      },
      "outputs": [
        {
          "name": "stdout",
          "output_type": "stream",
          "text": [
            "\n",
            "Ostatnie 3 wiersze:\n"
          ]
        },
        {
          "data": {
            "text/html": [
              "<div>\n",
              "<style scoped>\n",
              "    .dataframe tbody tr th:only-of-type {\n",
              "        vertical-align: middle;\n",
              "    }\n",
              "\n",
              "    .dataframe tbody tr th {\n",
              "        vertical-align: top;\n",
              "    }\n",
              "\n",
              "    .dataframe thead th {\n",
              "        text-align: right;\n",
              "    }\n",
              "</style>\n",
              "<table border=\"1\" class=\"dataframe\">\n",
              "  <thead>\n",
              "    <tr style=\"text-align: right;\">\n",
              "      <th></th>\n",
              "      <th>X</th>\n",
              "      <th>Y</th>\n",
              "      <th>Z</th>\n",
              "    </tr>\n",
              "  </thead>\n",
              "  <tbody>\n",
              "    <tr>\n",
              "      <th>7</th>\n",
              "      <td>-0.572661</td>\n",
              "      <td>-1.368766</td>\n",
              "      <td>-0.048496</td>\n",
              "    </tr>\n",
              "    <tr>\n",
              "      <th>8</th>\n",
              "      <td>-2.227417</td>\n",
              "      <td>-0.322886</td>\n",
              "      <td>0.552282</td>\n",
              "    </tr>\n",
              "    <tr>\n",
              "      <th>9</th>\n",
              "      <td>1.393234</td>\n",
              "      <td>1.130989</td>\n",
              "      <td>0.033953</td>\n",
              "    </tr>\n",
              "  </tbody>\n",
              "</table>\n",
              "</div>"
            ],
            "text/plain": [
              "          X         Y         Z\n",
              "7 -0.572661 -1.368766 -0.048496\n",
              "8 -2.227417 -0.322886  0.552282\n",
              "9  1.393234  1.130989  0.033953"
            ]
          },
          "metadata": {},
          "output_type": "display_data"
        }
      ],
      "source": [
        "print('\\nOstatnie 3 wiersze:')\n",
        "display(df_demo.tail(3))"
      ]
    },
    {
      "cell_type": "code",
      "execution_count": 20,
      "id": "4b0f5c4a",
      "metadata": {
        "colab": {
          "base_uri": "https://localhost:8080/",
          "height": 335
        },
        "id": "4b0f5c4a",
        "outputId": "ab816ff8-4d90-40af-f35f-d8c89298a201"
      },
      "outputs": [
        {
          "name": "stdout",
          "output_type": "stream",
          "text": [
            "\n",
            "Statystyki opisowe:\n"
          ]
        },
        {
          "data": {
            "text/html": [
              "<div>\n",
              "<style scoped>\n",
              "    .dataframe tbody tr th:only-of-type {\n",
              "        vertical-align: middle;\n",
              "    }\n",
              "\n",
              "    .dataframe tbody tr th {\n",
              "        vertical-align: top;\n",
              "    }\n",
              "\n",
              "    .dataframe thead th {\n",
              "        text-align: right;\n",
              "    }\n",
              "</style>\n",
              "<table border=\"1\" class=\"dataframe\">\n",
              "  <thead>\n",
              "    <tr style=\"text-align: right;\">\n",
              "      <th></th>\n",
              "      <th>X</th>\n",
              "      <th>Y</th>\n",
              "      <th>Z</th>\n",
              "    </tr>\n",
              "  </thead>\n",
              "  <tbody>\n",
              "    <tr>\n",
              "      <th>count</th>\n",
              "      <td>10.000000</td>\n",
              "      <td>10.000000</td>\n",
              "      <td>10.000000</td>\n",
              "    </tr>\n",
              "    <tr>\n",
              "      <th>mean</th>\n",
              "      <td>-0.164404</td>\n",
              "      <td>-0.205054</td>\n",
              "      <td>-0.136346</td>\n",
              "    </tr>\n",
              "    <tr>\n",
              "      <th>std</th>\n",
              "      <td>1.270991</td>\n",
              "      <td>0.946324</td>\n",
              "      <td>0.535757</td>\n",
              "    </tr>\n",
              "    <tr>\n",
              "      <th>min</th>\n",
              "      <td>-2.227417</td>\n",
              "      <td>-1.807571</td>\n",
              "      <td>-0.776021</td>\n",
              "    </tr>\n",
              "    <tr>\n",
              "      <th>25%</th>\n",
              "      <td>-0.784084</td>\n",
              "      <td>-0.561470</td>\n",
              "      <td>-0.516529</td>\n",
              "    </tr>\n",
              "    <tr>\n",
              "      <th>50%</th>\n",
              "      <td>-0.226632</td>\n",
              "      <td>-0.229922</td>\n",
              "      <td>-0.243537</td>\n",
              "    </tr>\n",
              "    <tr>\n",
              "      <th>75%</th>\n",
              "      <td>0.584350</td>\n",
              "      <td>0.166253</td>\n",
              "      <td>0.013341</td>\n",
              "    </tr>\n",
              "    <tr>\n",
              "      <th>max</th>\n",
              "      <td>1.792507</td>\n",
              "      <td>1.180331</td>\n",
              "      <td>0.948017</td>\n",
              "    </tr>\n",
              "  </tbody>\n",
              "</table>\n",
              "</div>"
            ],
            "text/plain": [
              "               X          Y          Z\n",
              "count  10.000000  10.000000  10.000000\n",
              "mean   -0.164404  -0.205054  -0.136346\n",
              "std     1.270991   0.946324   0.535757\n",
              "min    -2.227417  -1.807571  -0.776021\n",
              "25%    -0.784084  -0.561470  -0.516529\n",
              "50%    -0.226632  -0.229922  -0.243537\n",
              "75%     0.584350   0.166253   0.013341\n",
              "max     1.792507   1.180331   0.948017"
            ]
          },
          "metadata": {},
          "output_type": "display_data"
        }
      ],
      "source": [
        "\n",
        "print('\\nStatystyki opisowe:')\n",
        "display(df_demo.describe())"
      ]
    },
    {
      "cell_type": "code",
      "execution_count": 24,
      "id": "55088370",
      "metadata": {},
      "outputs": [
        {
          "data": {
            "text/plain": [
              "<Axes: >"
            ]
          },
          "execution_count": 24,
          "metadata": {},
          "output_type": "execute_result"
        },
        {
          "data": {
            "image/png": "[encoded data removed]",
            "text/plain": [
              "<Figure size 640x480 with 1 Axes>"
            ]
          },
          "metadata": {},
          "output_type": "display_data"
        }
      ],
      "source": [
        "df_demo['X'].hist()"
      ]
    },
    {
      "cell_type": "code",
      "execution_count": 38,
      "id": "9b29987e",
      "metadata": {},
      "outputs": [
        {
          "data": {
            "text/plain": [
              "RangeIndex(start=0, stop=10, step=1)"
            ]
          },
          "execution_count": 38,
          "metadata": {},
          "output_type": "execute_result"
        }
      ],
      "source": [
        "df_demo.index"
      ]
    },
    {
      "cell_type": "markdown",
      "id": "0165ace5",
      "metadata": {
        "id": "0165ace5"
      },
      "source": [
        "## 3 <a id='indeks'></a> Praca z indeksem\n",
        "Indeks identyfikuje wiersze w `DataFrame`."
      ]
    },
    {
      "cell_type": "code",
      "execution_count": 39,
      "id": "NaO8vy63ge2b",
      "metadata": {
        "colab": {
          "base_uri": "https://localhost:8080/",
          "height": 143
        },
        "id": "NaO8vy63ge2b",
        "outputId": "d9baaf88-b0db-4346-fef8-b810ae923244"
      },
      "outputs": [
        {
          "data": {
            "text/html": [
              "<div>\n",
              "<style scoped>\n",
              "    .dataframe tbody tr th:only-of-type {\n",
              "        vertical-align: middle;\n",
              "    }\n",
              "\n",
              "    .dataframe tbody tr th {\n",
              "        vertical-align: top;\n",
              "    }\n",
              "\n",
              "    .dataframe thead th {\n",
              "        text-align: right;\n",
              "    }\n",
              "</style>\n",
              "<table border=\"1\" class=\"dataframe\">\n",
              "  <thead>\n",
              "    <tr style=\"text-align: right;\">\n",
              "      <th></th>\n",
              "      <th>Kraj</th>\n",
              "      <th>PKB_mld_USD</th>\n",
              "    </tr>\n",
              "  </thead>\n",
              "  <tbody>\n",
              "    <tr>\n",
              "      <th>0</th>\n",
              "      <td>Polska</td>\n",
              "      <td>614</td>\n",
              "    </tr>\n",
              "    <tr>\n",
              "      <th>1</th>\n",
              "      <td>Czechy</td>\n",
              "      <td>282</td>\n",
              "    </tr>\n",
              "    <tr>\n",
              "      <th>2</th>\n",
              "      <td>Słowacja</td>\n",
              "      <td>114</td>\n",
              "    </tr>\n",
              "  </tbody>\n",
              "</table>\n",
              "</div>"
            ],
            "text/plain": [
              "       Kraj  PKB_mld_USD\n",
              "0    Polska          614\n",
              "1    Czechy          282\n",
              "2  Słowacja          114"
            ]
          },
          "metadata": {},
          "output_type": "display_data"
        }
      ],
      "source": [
        "df_idx = pd.DataFrame({\n",
        "    'Kraj': ['Polska', 'Czechy', 'Słowacja'],\n",
        "    'PKB_mld_USD': [614, 282, 114]\n",
        "})\n",
        "display(df_idx)"
      ]
    },
    {
      "cell_type": "code",
      "execution_count": 37,
      "id": "FSsd9LT2gjx8",
      "metadata": {
        "colab": {
          "base_uri": "https://localhost:8080/"
        },
        "id": "FSsd9LT2gjx8",
        "outputId": "8b539fbc-4933-4c52-9b95-745d55bd9fe6"
      },
      "outputs": [
        {
          "data": {
            "text/plain": [
              "RangeIndex(start=0, stop=3, step=1)"
            ]
          },
          "execution_count": 37,
          "metadata": {},
          "output_type": "execute_result"
        }
      ],
      "source": [
        "df_idx.index"
      ]
    },
    {
      "cell_type": "code",
      "execution_count": 40,
      "id": "3nFsEaGXgm9s",
      "metadata": {
        "id": "3nFsEaGXgm9s"
      },
      "outputs": [],
      "source": [
        "# Ustawiamy kolumnę 'Kraj' jako indeks\n",
        "df_country = df_idx.set_index('Kraj')\n"
      ]
    },
    {
      "cell_type": "code",
      "execution_count": 41,
      "id": "nUNnlZ028xh8",
      "metadata": {
        "colab": {
          "base_uri": "https://localhost:8080/",
          "height": 192
        },
        "id": "nUNnlZ028xh8",
        "outputId": "a2994ccc-81c6-4738-b345-9585edf37790"
      },
      "outputs": [
        {
          "name": "stdout",
          "output_type": "stream",
          "text": [
            "Po ustawieniu indeksu:\n"
          ]
        },
        {
          "data": {
            "text/html": [
              "<div>\n",
              "<style scoped>\n",
              "    .dataframe tbody tr th:only-of-type {\n",
              "        vertical-align: middle;\n",
              "    }\n",
              "\n",
              "    .dataframe tbody tr th {\n",
              "        vertical-align: top;\n",
              "    }\n",
              "\n",
              "    .dataframe thead th {\n",
              "        text-align: right;\n",
              "    }\n",
              "</style>\n",
              "<table border=\"1\" class=\"dataframe\">\n",
              "  <thead>\n",
              "    <tr style=\"text-align: right;\">\n",
              "      <th></th>\n",
              "      <th>PKB_mld_USD</th>\n",
              "    </tr>\n",
              "    <tr>\n",
              "      <th>Kraj</th>\n",
              "      <th></th>\n",
              "    </tr>\n",
              "  </thead>\n",
              "  <tbody>\n",
              "    <tr>\n",
              "      <th>Polska</th>\n",
              "      <td>614</td>\n",
              "    </tr>\n",
              "    <tr>\n",
              "      <th>Czechy</th>\n",
              "      <td>282</td>\n",
              "    </tr>\n",
              "    <tr>\n",
              "      <th>Słowacja</th>\n",
              "      <td>114</td>\n",
              "    </tr>\n",
              "  </tbody>\n",
              "</table>\n",
              "</div>"
            ],
            "text/plain": [
              "          PKB_mld_USD\n",
              "Kraj                 \n",
              "Polska            614\n",
              "Czechy            282\n",
              "Słowacja          114"
            ]
          },
          "execution_count": 41,
          "metadata": {},
          "output_type": "execute_result"
        }
      ],
      "source": [
        "print('Po ustawieniu indeksu:')\n",
        "df_country"
      ]
    },
    {
      "cell_type": "code",
      "execution_count": 42,
      "id": "JHEGWQ5Jgobf",
      "metadata": {
        "colab": {
          "base_uri": "https://localhost:8080/"
        },
        "id": "JHEGWQ5Jgobf",
        "outputId": "cdb524f4-f947-4b7d-dfd0-1b8828438d7a"
      },
      "outputs": [
        {
          "data": {
            "text/plain": [
              "Index(['Polska', 'Czechy', 'Słowacja'], dtype='object', name='Kraj')"
            ]
          },
          "execution_count": 42,
          "metadata": {},
          "output_type": "execute_result"
        }
      ],
      "source": [
        "df_country.index"
      ]
    },
    {
      "cell_type": "code",
      "execution_count": 43,
      "id": "5F1Zw2ECguzZ",
      "metadata": {
        "colab": {
          "base_uri": "https://localhost:8080/",
          "height": 178
        },
        "id": "5F1Zw2ECguzZ",
        "outputId": "79373298-fb0b-4e20-bd15-16682825add7"
      },
      "outputs": [
        {
          "name": "stdout",
          "output_type": "stream",
          "text": [
            "\n",
            "Po reset_index():\n"
          ]
        },
        {
          "data": {
            "text/html": [
              "<div>\n",
              "<style scoped>\n",
              "    .dataframe tbody tr th:only-of-type {\n",
              "        vertical-align: middle;\n",
              "    }\n",
              "\n",
              "    .dataframe tbody tr th {\n",
              "        vertical-align: top;\n",
              "    }\n",
              "\n",
              "    .dataframe thead th {\n",
              "        text-align: right;\n",
              "    }\n",
              "</style>\n",
              "<table border=\"1\" class=\"dataframe\">\n",
              "  <thead>\n",
              "    <tr style=\"text-align: right;\">\n",
              "      <th></th>\n",
              "      <th>Kraj</th>\n",
              "      <th>PKB_mld_USD</th>\n",
              "    </tr>\n",
              "  </thead>\n",
              "  <tbody>\n",
              "    <tr>\n",
              "      <th>0</th>\n",
              "      <td>Polska</td>\n",
              "      <td>614</td>\n",
              "    </tr>\n",
              "    <tr>\n",
              "      <th>1</th>\n",
              "      <td>Czechy</td>\n",
              "      <td>282</td>\n",
              "    </tr>\n",
              "    <tr>\n",
              "      <th>2</th>\n",
              "      <td>Słowacja</td>\n",
              "      <td>114</td>\n",
              "    </tr>\n",
              "  </tbody>\n",
              "</table>\n",
              "</div>"
            ],
            "text/plain": [
              "       Kraj  PKB_mld_USD\n",
              "0    Polska          614\n",
              "1    Czechy          282\n",
              "2  Słowacja          114"
            ]
          },
          "execution_count": 43,
          "metadata": {},
          "output_type": "execute_result"
        }
      ],
      "source": [
        "# Resetujemy indeks\n",
        "print('\\nPo reset_index():')\n",
        "df_country.reset_index()"
      ]
    },
    {
      "cell_type": "code",
      "execution_count": 44,
      "id": "8479374b",
      "metadata": {
        "colab": {
          "base_uri": "https://localhost:8080/",
          "height": 272
        },
        "id": "8479374b",
        "outputId": "ff6c1ed7-514a-492c-86a7-e24ddad07023"
      },
      "outputs": [
        {
          "name": "stdout",
          "output_type": "stream",
          "text": [
            "\n",
            "Indeks wielopoziomowy:\n"
          ]
        },
        {
          "data": {
            "text/html": [
              "<div>\n",
              "<style scoped>\n",
              "    .dataframe tbody tr th:only-of-type {\n",
              "        vertical-align: middle;\n",
              "    }\n",
              "\n",
              "    .dataframe tbody tr th {\n",
              "        vertical-align: top;\n",
              "    }\n",
              "\n",
              "    .dataframe thead th {\n",
              "        text-align: right;\n",
              "    }\n",
              "</style>\n",
              "<table border=\"1\" class=\"dataframe\">\n",
              "  <thead>\n",
              "    <tr style=\"text-align: right;\">\n",
              "      <th></th>\n",
              "      <th></th>\n",
              "      <th>PKB_per_capita</th>\n",
              "    </tr>\n",
              "    <tr>\n",
              "      <th>Region</th>\n",
              "      <th>Państwo</th>\n",
              "      <th></th>\n",
              "    </tr>\n",
              "  </thead>\n",
              "  <tbody>\n",
              "    <tr>\n",
              "      <th rowspan=\"3\" valign=\"top\">EU</th>\n",
              "      <th>Polska</th>\n",
              "      <td>15900</td>\n",
              "    </tr>\n",
              "    <tr>\n",
              "      <th>Niemcy</th>\n",
              "      <td>46000</td>\n",
              "    </tr>\n",
              "    <tr>\n",
              "      <th>Francja</th>\n",
              "      <td>43000</td>\n",
              "    </tr>\n",
              "    <tr>\n",
              "      <th rowspan=\"2\" valign=\"top\">NA</th>\n",
              "      <th>USA</th>\n",
              "      <td>65000</td>\n",
              "    </tr>\n",
              "    <tr>\n",
              "      <th>Kanada</th>\n",
              "      <td>52000</td>\n",
              "    </tr>\n",
              "  </tbody>\n",
              "</table>\n",
              "</div>"
            ],
            "text/plain": [
              "                PKB_per_capita\n",
              "Region Państwo                \n",
              "EU     Polska            15900\n",
              "       Niemcy            46000\n",
              "       Francja           43000\n",
              "NA     USA               65000\n",
              "       Kanada            52000"
            ]
          },
          "execution_count": 44,
          "metadata": {},
          "output_type": "execute_result"
        }
      ],
      "source": [
        "# Wielopoziomowy indeks\n",
        "df_multi = pd.DataFrame({\n",
        "    'Region': ['EU', 'EU', 'EU', 'NA', 'NA'],\n",
        "    'Państwo': ['Polska', 'Niemcy', 'Francja', 'USA', 'Kanada'],\n",
        "    'PKB_per_capita': [15900, 46000, 43000, 65000, 52000]\n",
        "}).set_index(['Region', 'Państwo'])\n",
        "print('\\nIndeks wielopoziomowy:')\n",
        "df_multi"
      ]
    },
    {
      "cell_type": "code",
      "execution_count": 32,
      "id": "6aHmZZGVgzRQ",
      "metadata": {
        "colab": {
          "base_uri": "https://localhost:8080/"
        },
        "id": "6aHmZZGVgzRQ",
        "outputId": "8ba1e6e2-5410-453d-bce9-152359a03780"
      },
      "outputs": [
        {
          "data": {
            "text/plain": [
              "MultiIndex([('EU',  'Polska'),\n",
              "            ('EU',  'Niemcy'),\n",
              "            ('EU', 'Francja'),\n",
              "            ('NA',     'USA'),\n",
              "            ('NA',  'Kanada')],\n",
              "           names=['Region', 'Państwo'])"
            ]
          },
          "execution_count": 32,
          "metadata": {},
          "output_type": "execute_result"
        }
      ],
      "source": [
        "df_multi.index"
      ]
    },
    {
      "cell_type": "markdown",
      "id": "XFG6KrajhbhY",
      "metadata": {
        "id": "XFG6KrajhbhY"
      },
      "source": [
        "Tworzenie DataFrame z indeksem:"
      ]
    },
    {
      "cell_type": "code",
      "execution_count": 45,
      "id": "VhSeRg75hfyB",
      "metadata": {
        "colab": {
          "base_uri": "https://localhost:8080/",
          "height": 143
        },
        "id": "VhSeRg75hfyB",
        "outputId": "07a825e9-7a88-4cb0-f053-72d235c7c0ca"
      },
      "outputs": [
        {
          "data": {
            "text/html": [
              "<div>\n",
              "<style scoped>\n",
              "    .dataframe tbody tr th:only-of-type {\n",
              "        vertical-align: middle;\n",
              "    }\n",
              "\n",
              "    .dataframe tbody tr th {\n",
              "        vertical-align: top;\n",
              "    }\n",
              "\n",
              "    .dataframe thead th {\n",
              "        text-align: right;\n",
              "    }\n",
              "</style>\n",
              "<table border=\"1\" class=\"dataframe\">\n",
              "  <thead>\n",
              "    <tr style=\"text-align: right;\">\n",
              "      <th></th>\n",
              "      <th>Kraj</th>\n",
              "      <th>PKB_mld_USD</th>\n",
              "    </tr>\n",
              "  </thead>\n",
              "  <tbody>\n",
              "    <tr>\n",
              "      <th>PL</th>\n",
              "      <td>Polska</td>\n",
              "      <td>614</td>\n",
              "    </tr>\n",
              "    <tr>\n",
              "      <th>CZ</th>\n",
              "      <td>Czechy</td>\n",
              "      <td>282</td>\n",
              "    </tr>\n",
              "    <tr>\n",
              "      <th>SL</th>\n",
              "      <td>Słowacja</td>\n",
              "      <td>114</td>\n",
              "    </tr>\n",
              "  </tbody>\n",
              "</table>\n",
              "</div>"
            ],
            "text/plain": [
              "        Kraj  PKB_mld_USD\n",
              "PL    Polska          614\n",
              "CZ    Czechy          282\n",
              "SL  Słowacja          114"
            ]
          },
          "metadata": {},
          "output_type": "display_data"
        }
      ],
      "source": [
        "df_idx = pd.DataFrame({\n",
        "    'Kraj': ['Polska', 'Czechy', 'Słowacja'],\n",
        "    'PKB_mld_USD': [614, 282, 114]\n",
        "},\n",
        "index=['PL', 'CZ', 'SL'])\n",
        "display(df_idx)"
      ]
    },
    {
      "cell_type": "markdown",
      "id": "3WAO1NUehoXc",
      "metadata": {
        "id": "3WAO1NUehoXc"
      },
      "source": [
        "Modyfikacja indeksu bezpośrednio:"
      ]
    },
    {
      "cell_type": "code",
      "execution_count": 48,
      "id": "2VJKEH4UhmK0",
      "metadata": {
        "id": "2VJKEH4UhmK0"
      },
      "outputs": [],
      "source": [
        "df_idx.index = ['POL', 'CZE', 'SLO']"
      ]
    },
    {
      "cell_type": "code",
      "execution_count": 49,
      "id": "CoQRQCFrhuNV",
      "metadata": {
        "colab": {
          "base_uri": "https://localhost:8080/",
          "height": 143
        },
        "id": "CoQRQCFrhuNV",
        "outputId": "3cf65fb0-3dd9-45e3-f8ce-38a934d9a356"
      },
      "outputs": [
        {
          "data": {
            "text/html": [
              "<div>\n",
              "<style scoped>\n",
              "    .dataframe tbody tr th:only-of-type {\n",
              "        vertical-align: middle;\n",
              "    }\n",
              "\n",
              "    .dataframe tbody tr th {\n",
              "        vertical-align: top;\n",
              "    }\n",
              "\n",
              "    .dataframe thead th {\n",
              "        text-align: right;\n",
              "    }\n",
              "</style>\n",
              "<table border=\"1\" class=\"dataframe\">\n",
              "  <thead>\n",
              "    <tr style=\"text-align: right;\">\n",
              "      <th></th>\n",
              "      <th>Kraj</th>\n",
              "      <th>PKB_mld_USD</th>\n",
              "    </tr>\n",
              "  </thead>\n",
              "  <tbody>\n",
              "    <tr>\n",
              "      <th>POL</th>\n",
              "      <td>Polska</td>\n",
              "      <td>614</td>\n",
              "    </tr>\n",
              "    <tr>\n",
              "      <th>CZE</th>\n",
              "      <td>Czechy</td>\n",
              "      <td>282</td>\n",
              "    </tr>\n",
              "    <tr>\n",
              "      <th>SLO</th>\n",
              "      <td>Słowacja</td>\n",
              "      <td>114</td>\n",
              "    </tr>\n",
              "  </tbody>\n",
              "</table>\n",
              "</div>"
            ],
            "text/plain": [
              "         Kraj  PKB_mld_USD\n",
              "POL    Polska          614\n",
              "CZE    Czechy          282\n",
              "SLO  Słowacja          114"
            ]
          },
          "execution_count": 49,
          "metadata": {},
          "output_type": "execute_result"
        }
      ],
      "source": [
        "df_idx"
      ]
    },
    {
      "cell_type": "markdown",
      "id": "2OkgbDXtjNT1",
      "metadata": {
        "id": "2OkgbDXtjNT1"
      },
      "source": [
        "## 4 <a id='dostep'></a> Praca z kolumnami"
      ]
    },
    {
      "cell_type": "code",
      "execution_count": 50,
      "id": "gqZSyArIjfej",
      "metadata": {
        "colab": {
          "base_uri": "https://localhost:8080/",
          "height": 175
        },
        "id": "gqZSyArIjfej",
        "outputId": "57ea06b6-0adb-42a7-a59d-582eaa65c417"
      },
      "outputs": [
        {
          "data": {
            "text/html": [
              "<div>\n",
              "<style scoped>\n",
              "    .dataframe tbody tr th:only-of-type {\n",
              "        vertical-align: middle;\n",
              "    }\n",
              "\n",
              "    .dataframe tbody tr th {\n",
              "        vertical-align: top;\n",
              "    }\n",
              "\n",
              "    .dataframe thead th {\n",
              "        text-align: right;\n",
              "    }\n",
              "</style>\n",
              "<table border=\"1\" class=\"dataframe\">\n",
              "  <thead>\n",
              "    <tr style=\"text-align: right;\">\n",
              "      <th></th>\n",
              "      <th>Imię</th>\n",
              "      <th>Wiek</th>\n",
              "      <th>Miasto</th>\n",
              "    </tr>\n",
              "  </thead>\n",
              "  <tbody>\n",
              "    <tr>\n",
              "      <th>a</th>\n",
              "      <td>Alan</td>\n",
              "      <td>34</td>\n",
              "      <td>Gdańsk</td>\n",
              "    </tr>\n",
              "    <tr>\n",
              "      <th>b</th>\n",
              "      <td>Beata</td>\n",
              "      <td>28</td>\n",
              "      <td>Warszawa</td>\n",
              "    </tr>\n",
              "    <tr>\n",
              "      <th>c</th>\n",
              "      <td>Celina</td>\n",
              "      <td>25</td>\n",
              "      <td>Wrocław</td>\n",
              "    </tr>\n",
              "    <tr>\n",
              "      <th>d</th>\n",
              "      <td>Daniel</td>\n",
              "      <td>42</td>\n",
              "      <td>Poznań</td>\n",
              "    </tr>\n",
              "  </tbody>\n",
              "</table>\n",
              "</div>"
            ],
            "text/plain": [
              "     Imię  Wiek    Miasto\n",
              "a    Alan    34    Gdańsk\n",
              "b   Beata    28  Warszawa\n",
              "c  Celina    25   Wrocław\n",
              "d  Daniel    42    Poznań"
            ]
          },
          "execution_count": 50,
          "metadata": {},
          "output_type": "execute_result"
        }
      ],
      "source": [
        "df_access = pd.DataFrame({\n",
        "    'Imię': ['Alan', 'Beata', 'Celina', 'Daniel'],\n",
        "    'Wiek': [34, 28, 25, 42],\n",
        "    'Miasto': ['Gdańsk', 'Warszawa', 'Wrocław', 'Poznań']\n",
        "}, index=['a', 'b', 'c', 'd'])\n",
        "df_access"
      ]
    },
    {
      "cell_type": "code",
      "execution_count": 51,
      "id": "TPMiJ7Mojjku",
      "metadata": {
        "colab": {
          "base_uri": "https://localhost:8080/"
        },
        "id": "TPMiJ7Mojjku",
        "outputId": "da782533-a574-49ff-ab10-1fc9bd0c7eae"
      },
      "outputs": [
        {
          "data": {
            "text/plain": [
              "Index(['Imię', 'Wiek', 'Miasto'], dtype='object')"
            ]
          },
          "execution_count": 51,
          "metadata": {},
          "output_type": "execute_result"
        }
      ],
      "source": [
        "df_access.columns"
      ]
    },
    {
      "cell_type": "code",
      "execution_count": 57,
      "id": "T1E8IeX29ij0",
      "metadata": {
        "colab": {
          "base_uri": "https://localhost:8080/",
          "height": 210
        },
        "id": "T1E8IeX29ij0",
        "outputId": "3bdb72bc-4d03-4357-ebd9-d1ee3bec0711"
      },
      "outputs": [
        {
          "data": {
            "text/plain": [
              "a      Alan\n",
              "b     Beata\n",
              "c    Celina\n",
              "d    Daniel\n",
              "Name: Imię, dtype: object"
            ]
          },
          "execution_count": 57,
          "metadata": {},
          "output_type": "execute_result"
        }
      ],
      "source": [
        "df_access['Imię']"
      ]
    },
    {
      "cell_type": "code",
      "execution_count": 55,
      "id": "nCUgYYXJjkzz",
      "metadata": {
        "colab": {
          "base_uri": "https://localhost:8080/",
          "height": 204
        },
        "id": "nCUgYYXJjkzz",
        "outputId": "3614a28b-96a3-4545-9654-050b82c383f8"
      },
      "outputs": [
        {
          "data": {
            "text/plain": [
              "pandas.core.series.Series"
            ]
          },
          "execution_count": 55,
          "metadata": {},
          "output_type": "execute_result"
        }
      ],
      "source": [
        "type(df_access['Imię'])"
      ]
    },
    {
      "cell_type": "code",
      "execution_count": 56,
      "id": "NqvRQOkJjmlp",
      "metadata": {
        "colab": {
          "base_uri": "https://localhost:8080/",
          "height": 175
        },
        "id": "NqvRQOkJjmlp",
        "outputId": "c8ea7171-eae4-429c-d5e0-8bb7a6eff142"
      },
      "outputs": [
        {
          "data": {
            "text/html": [
              "<div>\n",
              "<style scoped>\n",
              "    .dataframe tbody tr th:only-of-type {\n",
              "        vertical-align: middle;\n",
              "    }\n",
              "\n",
              "    .dataframe tbody tr th {\n",
              "        vertical-align: top;\n",
              "    }\n",
              "\n",
              "    .dataframe thead th {\n",
              "        text-align: right;\n",
              "    }\n",
              "</style>\n",
              "<table border=\"1\" class=\"dataframe\">\n",
              "  <thead>\n",
              "    <tr style=\"text-align: right;\">\n",
              "      <th></th>\n",
              "      <th>Imię</th>\n",
              "    </tr>\n",
              "  </thead>\n",
              "  <tbody>\n",
              "    <tr>\n",
              "      <th>a</th>\n",
              "      <td>Alan</td>\n",
              "    </tr>\n",
              "    <tr>\n",
              "      <th>b</th>\n",
              "      <td>Beata</td>\n",
              "    </tr>\n",
              "    <tr>\n",
              "      <th>c</th>\n",
              "      <td>Celina</td>\n",
              "    </tr>\n",
              "    <tr>\n",
              "      <th>d</th>\n",
              "      <td>Daniel</td>\n",
              "    </tr>\n",
              "  </tbody>\n",
              "</table>\n",
              "</div>"
            ],
            "text/plain": [
              "     Imię\n",
              "a    Alan\n",
              "b   Beata\n",
              "c  Celina\n",
              "d  Daniel"
            ]
          },
          "execution_count": 56,
          "metadata": {},
          "output_type": "execute_result"
        }
      ],
      "source": [
        "df_access[['Imię']]"
      ]
    },
    {
      "cell_type": "code",
      "execution_count": 58,
      "id": "yKXKCwkb9liP",
      "metadata": {
        "colab": {
          "base_uri": "https://localhost:8080/",
          "height": 204
        },
        "id": "yKXKCwkb9liP",
        "outputId": "219fc92e-bd77-4e92-d1f3-1cdc99c29d80"
      },
      "outputs": [
        {
          "data": {
            "text/plain": [
              "pandas.core.frame.DataFrame"
            ]
          },
          "execution_count": 58,
          "metadata": {},
          "output_type": "execute_result"
        }
      ],
      "source": [
        "type(df_access[['Imię']])"
      ]
    },
    {
      "cell_type": "code",
      "execution_count": 59,
      "id": "nzfWzuHFjpU6",
      "metadata": {
        "colab": {
          "base_uri": "https://localhost:8080/",
          "height": 175
        },
        "id": "nzfWzuHFjpU6",
        "outputId": "a0512cc0-3b49-433f-d69f-eb9df67d9806"
      },
      "outputs": [
        {
          "data": {
            "text/html": [
              "<div>\n",
              "<style scoped>\n",
              "    .dataframe tbody tr th:only-of-type {\n",
              "        vertical-align: middle;\n",
              "    }\n",
              "\n",
              "    .dataframe tbody tr th {\n",
              "        vertical-align: top;\n",
              "    }\n",
              "\n",
              "    .dataframe thead th {\n",
              "        text-align: right;\n",
              "    }\n",
              "</style>\n",
              "<table border=\"1\" class=\"dataframe\">\n",
              "  <thead>\n",
              "    <tr style=\"text-align: right;\">\n",
              "      <th></th>\n",
              "      <th>Imię</th>\n",
              "      <th>Wiek</th>\n",
              "    </tr>\n",
              "  </thead>\n",
              "  <tbody>\n",
              "    <tr>\n",
              "      <th>a</th>\n",
              "      <td>Alan</td>\n",
              "      <td>34</td>\n",
              "    </tr>\n",
              "    <tr>\n",
              "      <th>b</th>\n",
              "      <td>Beata</td>\n",
              "      <td>28</td>\n",
              "    </tr>\n",
              "    <tr>\n",
              "      <th>c</th>\n",
              "      <td>Celina</td>\n",
              "      <td>25</td>\n",
              "    </tr>\n",
              "    <tr>\n",
              "      <th>d</th>\n",
              "      <td>Daniel</td>\n",
              "      <td>42</td>\n",
              "    </tr>\n",
              "  </tbody>\n",
              "</table>\n",
              "</div>"
            ],
            "text/plain": [
              "     Imię  Wiek\n",
              "a    Alan    34\n",
              "b   Beata    28\n",
              "c  Celina    25\n",
              "d  Daniel    42"
            ]
          },
          "execution_count": 59,
          "metadata": {},
          "output_type": "execute_result"
        }
      ],
      "source": [
        "df_access[['Imię', 'Wiek']]"
      ]
    },
    {
      "cell_type": "markdown",
      "id": "0b9d7f99",
      "metadata": {
        "id": "0b9d7f99"
      },
      "source": [
        "## 5 <a id='dostep'></a> Dostęp do danych: `loc`, `iloc`, `at`, `iat`\n",
        "\n",
        "Uczymy się czterech metod dostępu: **etykietowy** (`loc`, `at`) oraz **pozycjny** (`iloc`, `iat`)."
      ]
    },
    {
      "cell_type": "markdown",
      "id": "MBrdJjuAiU6q",
      "metadata": {
        "id": "MBrdJjuAiU6q"
      },
      "source": [
        "`loc` - wybór poprzez nazwę w indeksie:"
      ]
    },
    {
      "cell_type": "code",
      "execution_count": 60,
      "id": "S8KB4FdHiUIF",
      "metadata": {
        "colab": {
          "base_uri": "https://localhost:8080/",
          "height": 178
        },
        "id": "S8KB4FdHiUIF",
        "outputId": "4e1b6922-4ef9-4bcb-a8e7-755ae61fb260"
      },
      "outputs": [
        {
          "data": {
            "text/plain": [
              "Imię        Alan\n",
              "Wiek          34\n",
              "Miasto    Gdańsk\n",
              "Name: a, dtype: object"
            ]
          },
          "execution_count": 60,
          "metadata": {},
          "output_type": "execute_result"
        }
      ],
      "source": [
        "df_access.loc['a']"
      ]
    },
    {
      "cell_type": "code",
      "execution_count": 61,
      "id": "z4cvvfd1ib1p",
      "metadata": {
        "colab": {
          "base_uri": "https://localhost:8080/",
          "height": 81
        },
        "id": "z4cvvfd1ib1p",
        "outputId": "4d56427e-e78f-4f3c-853c-0388010f102c"
      },
      "outputs": [
        {
          "data": {
            "text/html": [
              "<div>\n",
              "<style scoped>\n",
              "    .dataframe tbody tr th:only-of-type {\n",
              "        vertical-align: middle;\n",
              "    }\n",
              "\n",
              "    .dataframe tbody tr th {\n",
              "        vertical-align: top;\n",
              "    }\n",
              "\n",
              "    .dataframe thead th {\n",
              "        text-align: right;\n",
              "    }\n",
              "</style>\n",
              "<table border=\"1\" class=\"dataframe\">\n",
              "  <thead>\n",
              "    <tr style=\"text-align: right;\">\n",
              "      <th></th>\n",
              "      <th>Imię</th>\n",
              "      <th>Wiek</th>\n",
              "      <th>Miasto</th>\n",
              "    </tr>\n",
              "  </thead>\n",
              "  <tbody>\n",
              "    <tr>\n",
              "      <th>a</th>\n",
              "      <td>Alan</td>\n",
              "      <td>34</td>\n",
              "      <td>Gdańsk</td>\n",
              "    </tr>\n",
              "  </tbody>\n",
              "</table>\n",
              "</div>"
            ],
            "text/plain": [
              "   Imię  Wiek  Miasto\n",
              "a  Alan    34  Gdańsk"
            ]
          },
          "execution_count": 61,
          "metadata": {},
          "output_type": "execute_result"
        }
      ],
      "source": [
        "df_access.loc[['a']]"
      ]
    },
    {
      "cell_type": "code",
      "execution_count": 62,
      "id": "gN_sJPVRiiWc",
      "metadata": {
        "colab": {
          "base_uri": "https://localhost:8080/",
          "height": 112
        },
        "id": "gN_sJPVRiiWc",
        "outputId": "a5883bc8-2374-4405-a279-ca2bb18be66c"
      },
      "outputs": [
        {
          "data": {
            "text/html": [
              "<div>\n",
              "<style scoped>\n",
              "    .dataframe tbody tr th:only-of-type {\n",
              "        vertical-align: middle;\n",
              "    }\n",
              "\n",
              "    .dataframe tbody tr th {\n",
              "        vertical-align: top;\n",
              "    }\n",
              "\n",
              "    .dataframe thead th {\n",
              "        text-align: right;\n",
              "    }\n",
              "</style>\n",
              "<table border=\"1\" class=\"dataframe\">\n",
              "  <thead>\n",
              "    <tr style=\"text-align: right;\">\n",
              "      <th></th>\n",
              "      <th>Imię</th>\n",
              "      <th>Wiek</th>\n",
              "      <th>Miasto</th>\n",
              "    </tr>\n",
              "  </thead>\n",
              "  <tbody>\n",
              "    <tr>\n",
              "      <th>a</th>\n",
              "      <td>Alan</td>\n",
              "      <td>34</td>\n",
              "      <td>Gdańsk</td>\n",
              "    </tr>\n",
              "    <tr>\n",
              "      <th>d</th>\n",
              "      <td>Daniel</td>\n",
              "      <td>42</td>\n",
              "      <td>Poznań</td>\n",
              "    </tr>\n",
              "  </tbody>\n",
              "</table>\n",
              "</div>"
            ],
            "text/plain": [
              "     Imię  Wiek  Miasto\n",
              "a    Alan    34  Gdańsk\n",
              "d  Daniel    42  Poznań"
            ]
          },
          "execution_count": 62,
          "metadata": {},
          "output_type": "execute_result"
        }
      ],
      "source": [
        "df_access.loc[['a', 'd']]"
      ]
    },
    {
      "cell_type": "code",
      "execution_count": 63,
      "id": "Zgz6Yt_YjzI7",
      "metadata": {
        "colab": {
          "base_uri": "https://localhost:8080/",
          "height": 112
        },
        "id": "Zgz6Yt_YjzI7",
        "outputId": "ea3ae07f-1d00-4654-b8b9-6db8c7df7d37"
      },
      "outputs": [
        {
          "data": {
            "text/html": [
              "<div>\n",
              "<style scoped>\n",
              "    .dataframe tbody tr th:only-of-type {\n",
              "        vertical-align: middle;\n",
              "    }\n",
              "\n",
              "    .dataframe tbody tr th {\n",
              "        vertical-align: top;\n",
              "    }\n",
              "\n",
              "    .dataframe thead th {\n",
              "        text-align: right;\n",
              "    }\n",
              "</style>\n",
              "<table border=\"1\" class=\"dataframe\">\n",
              "  <thead>\n",
              "    <tr style=\"text-align: right;\">\n",
              "      <th></th>\n",
              "      <th>Wiek</th>\n",
              "    </tr>\n",
              "  </thead>\n",
              "  <tbody>\n",
              "    <tr>\n",
              "      <th>a</th>\n",
              "      <td>34</td>\n",
              "    </tr>\n",
              "    <tr>\n",
              "      <th>d</th>\n",
              "      <td>42</td>\n",
              "    </tr>\n",
              "  </tbody>\n",
              "</table>\n",
              "</div>"
            ],
            "text/plain": [
              "   Wiek\n",
              "a    34\n",
              "d    42"
            ]
          },
          "execution_count": 63,
          "metadata": {},
          "output_type": "execute_result"
        }
      ],
      "source": [
        "df_access.loc[['a', 'd'], ['Wiek']]"
      ]
    },
    {
      "cell_type": "markdown",
      "id": "_VDXjEj1irNo",
      "metadata": {
        "id": "_VDXjEj1irNo"
      },
      "source": [
        "`iloc` - wybór poprzez numer indeksu:"
      ]
    },
    {
      "cell_type": "code",
      "execution_count": 64,
      "id": "HeGGEAl2iqWm",
      "metadata": {
        "colab": {
          "base_uri": "https://localhost:8080/",
          "height": 178
        },
        "id": "HeGGEAl2iqWm",
        "outputId": "0e5b4b7c-6c89-4d2c-8d7c-ca9a678430d0"
      },
      "outputs": [
        {
          "data": {
            "text/plain": [
              "Imię        Alan\n",
              "Wiek          34\n",
              "Miasto    Gdańsk\n",
              "Name: a, dtype: object"
            ]
          },
          "execution_count": 64,
          "metadata": {},
          "output_type": "execute_result"
        }
      ],
      "source": [
        "df_access.iloc[0]"
      ]
    },
    {
      "cell_type": "code",
      "execution_count": 65,
      "id": "pQT_Kbxyiwrt",
      "metadata": {
        "colab": {
          "base_uri": "https://localhost:8080/",
          "height": 81
        },
        "id": "pQT_Kbxyiwrt",
        "outputId": "ff9a3228-297b-4030-f0d5-d9e67335f58f"
      },
      "outputs": [
        {
          "data": {
            "text/html": [
              "<div>\n",
              "<style scoped>\n",
              "    .dataframe tbody tr th:only-of-type {\n",
              "        vertical-align: middle;\n",
              "    }\n",
              "\n",
              "    .dataframe tbody tr th {\n",
              "        vertical-align: top;\n",
              "    }\n",
              "\n",
              "    .dataframe thead th {\n",
              "        text-align: right;\n",
              "    }\n",
              "</style>\n",
              "<table border=\"1\" class=\"dataframe\">\n",
              "  <thead>\n",
              "    <tr style=\"text-align: right;\">\n",
              "      <th></th>\n",
              "      <th>Imię</th>\n",
              "      <th>Wiek</th>\n",
              "      <th>Miasto</th>\n",
              "    </tr>\n",
              "  </thead>\n",
              "  <tbody>\n",
              "    <tr>\n",
              "      <th>a</th>\n",
              "      <td>Alan</td>\n",
              "      <td>34</td>\n",
              "      <td>Gdańsk</td>\n",
              "    </tr>\n",
              "  </tbody>\n",
              "</table>\n",
              "</div>"
            ],
            "text/plain": [
              "   Imię  Wiek  Miasto\n",
              "a  Alan    34  Gdańsk"
            ]
          },
          "execution_count": 65,
          "metadata": {},
          "output_type": "execute_result"
        }
      ],
      "source": [
        "df_access.iloc[[0]]"
      ]
    },
    {
      "cell_type": "code",
      "execution_count": 66,
      "id": "fgHAcAMoiyug",
      "metadata": {
        "colab": {
          "base_uri": "https://localhost:8080/",
          "height": 112
        },
        "id": "fgHAcAMoiyug",
        "outputId": "15ff3ff1-fbb4-453a-8ef2-be5cdd93bcec"
      },
      "outputs": [
        {
          "data": {
            "text/html": [
              "<div>\n",
              "<style scoped>\n",
              "    .dataframe tbody tr th:only-of-type {\n",
              "        vertical-align: middle;\n",
              "    }\n",
              "\n",
              "    .dataframe tbody tr th {\n",
              "        vertical-align: top;\n",
              "    }\n",
              "\n",
              "    .dataframe thead th {\n",
              "        text-align: right;\n",
              "    }\n",
              "</style>\n",
              "<table border=\"1\" class=\"dataframe\">\n",
              "  <thead>\n",
              "    <tr style=\"text-align: right;\">\n",
              "      <th></th>\n",
              "      <th>Imię</th>\n",
              "      <th>Wiek</th>\n",
              "      <th>Miasto</th>\n",
              "    </tr>\n",
              "  </thead>\n",
              "  <tbody>\n",
              "    <tr>\n",
              "      <th>a</th>\n",
              "      <td>Alan</td>\n",
              "      <td>34</td>\n",
              "      <td>Gdańsk</td>\n",
              "    </tr>\n",
              "    <tr>\n",
              "      <th>b</th>\n",
              "      <td>Beata</td>\n",
              "      <td>28</td>\n",
              "      <td>Warszawa</td>\n",
              "    </tr>\n",
              "  </tbody>\n",
              "</table>\n",
              "</div>"
            ],
            "text/plain": [
              "    Imię  Wiek    Miasto\n",
              "a   Alan    34    Gdańsk\n",
              "b  Beata    28  Warszawa"
            ]
          },
          "execution_count": 66,
          "metadata": {},
          "output_type": "execute_result"
        }
      ],
      "source": [
        "df_access.iloc[0:2]"
      ]
    },
    {
      "cell_type": "code",
      "execution_count": 67,
      "id": "WVLwQL85j-eK",
      "metadata": {
        "colab": {
          "base_uri": "https://localhost:8080/",
          "height": 147
        },
        "id": "WVLwQL85j-eK",
        "outputId": "77c8eddf-abe5-42e4-8f14-4d8d4876345f"
      },
      "outputs": [
        {
          "data": {
            "text/plain": [
              "a    34\n",
              "b    28\n",
              "Name: Wiek, dtype: int64"
            ]
          },
          "execution_count": 67,
          "metadata": {},
          "output_type": "execute_result"
        }
      ],
      "source": [
        "df_access.iloc[0:2, 1]"
      ]
    },
    {
      "cell_type": "markdown",
      "id": "Bw_rTtpBkBTZ",
      "metadata": {
        "id": "Bw_rTtpBkBTZ"
      },
      "source": [
        "`at` - wybór pojedynczej wartości:"
      ]
    },
    {
      "cell_type": "code",
      "execution_count": 69,
      "id": "hQn-4UxakJAm",
      "metadata": {
        "colab": {
          "base_uri": "https://localhost:8080/",
          "height": 35
        },
        "id": "hQn-4UxakJAm",
        "outputId": "7c57a4bb-59b8-4ca1-e013-3cbd2cdcf820"
      },
      "outputs": [
        {
          "data": {
            "text/plain": [
              "'Gdańsk'"
            ]
          },
          "execution_count": 69,
          "metadata": {},
          "output_type": "execute_result"
        }
      ],
      "source": [
        "df_access.at['a', 'Miasto']"
      ]
    },
    {
      "cell_type": "markdown",
      "id": "6frDETk0kKcu",
      "metadata": {
        "id": "6frDETk0kKcu"
      },
      "source": [
        "`iat` - wybór pojedynczej wartości poprzez jej pozycję"
      ]
    },
    {
      "cell_type": "code",
      "execution_count": 70,
      "id": "e9b5aee0",
      "metadata": {
        "colab": {
          "base_uri": "https://localhost:8080/",
          "height": 35
        },
        "id": "e9b5aee0",
        "outputId": "b9e4236b-9900-4d25-d1c4-f96c1252c6db"
      },
      "outputs": [
        {
          "data": {
            "text/plain": [
              "'Gdańsk'"
            ]
          },
          "execution_count": 70,
          "metadata": {},
          "output_type": "execute_result"
        }
      ],
      "source": [
        "df_access.iat[0, 2]"
      ]
    },
    {
      "cell_type": "markdown",
      "id": "38268c60",
      "metadata": {
        "id": "38268c60"
      },
      "source": [
        "## 6 <a id='selektory'></a> Wybieranie części danych\n",
        "\n"
      ]
    },
    {
      "cell_type": "code",
      "execution_count": 71,
      "id": "jjFLbH1eh7Y5",
      "metadata": {
        "colab": {
          "base_uri": "https://localhost:8080/",
          "height": 206
        },
        "id": "jjFLbH1eh7Y5",
        "outputId": "cd4843f6-787b-4f9c-d2e5-38019d2fad12"
      },
      "outputs": [
        {
          "data": {
            "text/html": [
              "<div>\n",
              "<style scoped>\n",
              "    .dataframe tbody tr th:only-of-type {\n",
              "        vertical-align: middle;\n",
              "    }\n",
              "\n",
              "    .dataframe tbody tr th {\n",
              "        vertical-align: top;\n",
              "    }\n",
              "\n",
              "    .dataframe thead th {\n",
              "        text-align: right;\n",
              "    }\n",
              "</style>\n",
              "<table border=\"1\" class=\"dataframe\">\n",
              "  <thead>\n",
              "    <tr style=\"text-align: right;\">\n",
              "      <th></th>\n",
              "      <th>Produkt</th>\n",
              "      <th>Cena</th>\n",
              "      <th>Kategoria</th>\n",
              "    </tr>\n",
              "  </thead>\n",
              "  <tbody>\n",
              "    <tr>\n",
              "      <th>0</th>\n",
              "      <td>Kawa</td>\n",
              "      <td>19.90</td>\n",
              "      <td>Napoje</td>\n",
              "    </tr>\n",
              "    <tr>\n",
              "      <th>1</th>\n",
              "      <td>Herbata</td>\n",
              "      <td>9.99</td>\n",
              "      <td>Napoje</td>\n",
              "    </tr>\n",
              "    <tr>\n",
              "      <th>2</th>\n",
              "      <td>Sok</td>\n",
              "      <td>6.50</td>\n",
              "      <td>Napoje</td>\n",
              "    </tr>\n",
              "    <tr>\n",
              "      <th>3</th>\n",
              "      <td>Woda</td>\n",
              "      <td>2.00</td>\n",
              "      <td>Napoje</td>\n",
              "    </tr>\n",
              "    <tr>\n",
              "      <th>4</th>\n",
              "      <td>Piwo</td>\n",
              "      <td>3.80</td>\n",
              "      <td>Alkohol</td>\n",
              "    </tr>\n",
              "  </tbody>\n",
              "</table>\n",
              "</div>"
            ],
            "text/plain": [
              "   Produkt   Cena Kategoria\n",
              "0     Kawa  19.90    Napoje\n",
              "1  Herbata   9.99    Napoje\n",
              "2      Sok   6.50    Napoje\n",
              "3     Woda   2.00    Napoje\n",
              "4     Piwo   3.80   Alkohol"
            ]
          },
          "execution_count": 71,
          "metadata": {},
          "output_type": "execute_result"
        }
      ],
      "source": [
        "df_sel = pd.DataFrame({\n",
        "    'Produkt': ['Kawa', 'Herbata', 'Sok', 'Woda', 'Piwo'],\n",
        "    'Cena': [19.90, 9.99, 6.50, 2.00, 3.80],\n",
        "    'Kategoria': ['Napoje', 'Napoje', 'Napoje', 'Napoje', 'Alkohol']\n",
        "})\n",
        "df_sel"
      ]
    },
    {
      "cell_type": "markdown",
      "id": "4oii3drTyVhC",
      "metadata": {
        "id": "4oii3drTyVhC"
      },
      "source": [
        "Sprawdzenie liczby wierszy:"
      ]
    },
    {
      "cell_type": "code",
      "execution_count": 72,
      "id": "lVfSKRIHyLGr",
      "metadata": {
        "colab": {
          "base_uri": "https://localhost:8080/"
        },
        "id": "lVfSKRIHyLGr",
        "outputId": "e88481cc-3399-46dd-aee2-2cac018056d9"
      },
      "outputs": [
        {
          "data": {
            "text/plain": [
              "5"
            ]
          },
          "execution_count": 72,
          "metadata": {},
          "output_type": "execute_result"
        }
      ],
      "source": [
        "len(df_sel)"
      ]
    },
    {
      "cell_type": "code",
      "execution_count": 73,
      "id": "9ks29Cye-bMT",
      "metadata": {
        "colab": {
          "base_uri": "https://localhost:8080/"
        },
        "id": "9ks29Cye-bMT",
        "outputId": "a64b4667-3c40-4c57-abd1-3e5450db76c3"
      },
      "outputs": [
        {
          "data": {
            "text/plain": [
              "3"
            ]
          },
          "execution_count": 73,
          "metadata": {},
          "output_type": "execute_result"
        }
      ],
      "source": [
        "len(df_sel.columns)"
      ]
    },
    {
      "cell_type": "markdown",
      "id": "AeuqKAmHyX6U",
      "metadata": {
        "id": "AeuqKAmHyX6U"
      },
      "source": [
        "Wymiary tabelki (tak samo jak w NumPy)"
      ]
    },
    {
      "cell_type": "code",
      "execution_count": 74,
      "id": "-CNIUWaEyMeW",
      "metadata": {
        "colab": {
          "base_uri": "https://localhost:8080/"
        },
        "id": "-CNIUWaEyMeW",
        "outputId": "f3e0c0a7-a7d6-44d3-c4fc-47405e97717c"
      },
      "outputs": [
        {
          "data": {
            "text/plain": [
              "(5, 3)"
            ]
          },
          "execution_count": 74,
          "metadata": {},
          "output_type": "execute_result"
        }
      ],
      "source": [
        "df_sel.shape"
      ]
    },
    {
      "cell_type": "code",
      "execution_count": 76,
      "id": "W5kY7mKkiCDJ",
      "metadata": {
        "colab": {
          "base_uri": "https://localhost:8080/"
        },
        "id": "W5kY7mKkiCDJ",
        "outputId": "6aaa865d-bc61-44dc-db28-85ae97bb9a36"
      },
      "outputs": [
        {
          "data": {
            "text/plain": [
              "array([['Kawa', 19.9, 'Napoje'],\n",
              "       ['Herbata', 9.99, 'Napoje'],\n",
              "       ['Sok', 6.5, 'Napoje'],\n",
              "       ['Woda', 2.0, 'Napoje'],\n",
              "       ['Piwo', 3.8, 'Alkohol']], dtype=object)"
            ]
          },
          "execution_count": 76,
          "metadata": {},
          "output_type": "execute_result"
        }
      ],
      "source": [
        "df_sel.values"
      ]
    },
    {
      "cell_type": "code",
      "execution_count": 77,
      "id": "9Lp1F22OnyJG",
      "metadata": {
        "colab": {
          "base_uri": "https://localhost:8080/",
          "height": 178
        },
        "id": "9Lp1F22OnyJG",
        "outputId": "76da664d-3546-46b0-90ac-3fe001b7da04"
      },
      "outputs": [
        {
          "data": {
            "text/plain": [
              "Produkt       object\n",
              "Cena         float64\n",
              "Kategoria     object\n",
              "dtype: object"
            ]
          },
          "execution_count": 77,
          "metadata": {},
          "output_type": "execute_result"
        }
      ],
      "source": [
        "df_sel.dtypes"
      ]
    },
    {
      "cell_type": "code",
      "execution_count": 78,
      "id": "fRmdB9h3kyf2",
      "metadata": {
        "colab": {
          "base_uri": "https://localhost:8080/",
          "height": 241
        },
        "id": "fRmdB9h3kyf2",
        "outputId": "1069f662-6540-42fc-d826-eb95ee917803"
      },
      "outputs": [
        {
          "data": {
            "text/plain": [
              "0     True\n",
              "1     True\n",
              "2     True\n",
              "3    False\n",
              "4     True\n",
              "Name: Cena, dtype: bool"
            ]
          },
          "execution_count": 78,
          "metadata": {},
          "output_type": "execute_result"
        }
      ],
      "source": [
        "df_sel['Cena'] > 3"
      ]
    },
    {
      "cell_type": "code",
      "execution_count": 79,
      "id": "cOIOEb82lLb7",
      "metadata": {
        "colab": {
          "base_uri": "https://localhost:8080/",
          "height": 175
        },
        "id": "cOIOEb82lLb7",
        "outputId": "cb8fec1c-33e9-4d88-fbde-561509a4a657"
      },
      "outputs": [
        {
          "data": {
            "text/html": [
              "<div>\n",
              "<style scoped>\n",
              "    .dataframe tbody tr th:only-of-type {\n",
              "        vertical-align: middle;\n",
              "    }\n",
              "\n",
              "    .dataframe tbody tr th {\n",
              "        vertical-align: top;\n",
              "    }\n",
              "\n",
              "    .dataframe thead th {\n",
              "        text-align: right;\n",
              "    }\n",
              "</style>\n",
              "<table border=\"1\" class=\"dataframe\">\n",
              "  <thead>\n",
              "    <tr style=\"text-align: right;\">\n",
              "      <th></th>\n",
              "      <th>Produkt</th>\n",
              "      <th>Cena</th>\n",
              "      <th>Kategoria</th>\n",
              "    </tr>\n",
              "  </thead>\n",
              "  <tbody>\n",
              "    <tr>\n",
              "      <th>0</th>\n",
              "      <td>Kawa</td>\n",
              "      <td>19.90</td>\n",
              "      <td>Napoje</td>\n",
              "    </tr>\n",
              "    <tr>\n",
              "      <th>1</th>\n",
              "      <td>Herbata</td>\n",
              "      <td>9.99</td>\n",
              "      <td>Napoje</td>\n",
              "    </tr>\n",
              "    <tr>\n",
              "      <th>2</th>\n",
              "      <td>Sok</td>\n",
              "      <td>6.50</td>\n",
              "      <td>Napoje</td>\n",
              "    </tr>\n",
              "    <tr>\n",
              "      <th>4</th>\n",
              "      <td>Piwo</td>\n",
              "      <td>3.80</td>\n",
              "      <td>Alkohol</td>\n",
              "    </tr>\n",
              "  </tbody>\n",
              "</table>\n",
              "</div>"
            ],
            "text/plain": [
              "   Produkt   Cena Kategoria\n",
              "0     Kawa  19.90    Napoje\n",
              "1  Herbata   9.99    Napoje\n",
              "2      Sok   6.50    Napoje\n",
              "4     Piwo   3.80   Alkohol"
            ]
          },
          "execution_count": 79,
          "metadata": {},
          "output_type": "execute_result"
        }
      ],
      "source": [
        "df_sel[df_sel['Cena'] > 3]"
      ]
    },
    {
      "cell_type": "code",
      "execution_count": 80,
      "id": "9thQ2fqWlAiJ",
      "metadata": {
        "colab": {
          "base_uri": "https://localhost:8080/",
          "height": 175
        },
        "id": "9thQ2fqWlAiJ",
        "outputId": "41acbb37-b483-4a08-a5da-2497ccd5055e"
      },
      "outputs": [
        {
          "data": {
            "text/html": [
              "<div>\n",
              "<style scoped>\n",
              "    .dataframe tbody tr th:only-of-type {\n",
              "        vertical-align: middle;\n",
              "    }\n",
              "\n",
              "    .dataframe tbody tr th {\n",
              "        vertical-align: top;\n",
              "    }\n",
              "\n",
              "    .dataframe thead th {\n",
              "        text-align: right;\n",
              "    }\n",
              "</style>\n",
              "<table border=\"1\" class=\"dataframe\">\n",
              "  <thead>\n",
              "    <tr style=\"text-align: right;\">\n",
              "      <th></th>\n",
              "      <th>Produkt</th>\n",
              "      <th>Cena</th>\n",
              "      <th>Kategoria</th>\n",
              "    </tr>\n",
              "  </thead>\n",
              "  <tbody>\n",
              "    <tr>\n",
              "      <th>0</th>\n",
              "      <td>Kawa</td>\n",
              "      <td>19.90</td>\n",
              "      <td>Napoje</td>\n",
              "    </tr>\n",
              "    <tr>\n",
              "      <th>1</th>\n",
              "      <td>Herbata</td>\n",
              "      <td>9.99</td>\n",
              "      <td>Napoje</td>\n",
              "    </tr>\n",
              "    <tr>\n",
              "      <th>2</th>\n",
              "      <td>Sok</td>\n",
              "      <td>6.50</td>\n",
              "      <td>Napoje</td>\n",
              "    </tr>\n",
              "    <tr>\n",
              "      <th>3</th>\n",
              "      <td>Woda</td>\n",
              "      <td>2.00</td>\n",
              "      <td>Napoje</td>\n",
              "    </tr>\n",
              "  </tbody>\n",
              "</table>\n",
              "</div>"
            ],
            "text/plain": [
              "   Produkt   Cena Kategoria\n",
              "0     Kawa  19.90    Napoje\n",
              "1  Herbata   9.99    Napoje\n",
              "2      Sok   6.50    Napoje\n",
              "3     Woda   2.00    Napoje"
            ]
          },
          "execution_count": 80,
          "metadata": {},
          "output_type": "execute_result"
        }
      ],
      "source": [
        "df_sel[df_sel['Kategoria'] != 'Alkohol']"
      ]
    },
    {
      "cell_type": "code",
      "execution_count": 81,
      "id": "c72d5ffd",
      "metadata": {
        "colab": {
          "base_uri": "https://localhost:8080/",
          "height": 143
        },
        "id": "c72d5ffd",
        "outputId": "50bb8ef7-3b08-414c-b7f1-c2b42e347c25"
      },
      "outputs": [
        {
          "data": {
            "text/html": [
              "<div>\n",
              "<style scoped>\n",
              "    .dataframe tbody tr th:only-of-type {\n",
              "        vertical-align: middle;\n",
              "    }\n",
              "\n",
              "    .dataframe tbody tr th {\n",
              "        vertical-align: top;\n",
              "    }\n",
              "\n",
              "    .dataframe thead th {\n",
              "        text-align: right;\n",
              "    }\n",
              "</style>\n",
              "<table border=\"1\" class=\"dataframe\">\n",
              "  <thead>\n",
              "    <tr style=\"text-align: right;\">\n",
              "      <th></th>\n",
              "      <th>Produkt</th>\n",
              "      <th>Cena</th>\n",
              "      <th>Kategoria</th>\n",
              "    </tr>\n",
              "  </thead>\n",
              "  <tbody>\n",
              "    <tr>\n",
              "      <th>0</th>\n",
              "      <td>Kawa</td>\n",
              "      <td>19.90</td>\n",
              "      <td>Napoje</td>\n",
              "    </tr>\n",
              "    <tr>\n",
              "      <th>1</th>\n",
              "      <td>Herbata</td>\n",
              "      <td>9.99</td>\n",
              "      <td>Napoje</td>\n",
              "    </tr>\n",
              "    <tr>\n",
              "      <th>2</th>\n",
              "      <td>Sok</td>\n",
              "      <td>6.50</td>\n",
              "      <td>Napoje</td>\n",
              "    </tr>\n",
              "  </tbody>\n",
              "</table>\n",
              "</div>"
            ],
            "text/plain": [
              "   Produkt   Cena Kategoria\n",
              "0     Kawa  19.90    Napoje\n",
              "1  Herbata   9.99    Napoje\n",
              "2      Sok   6.50    Napoje"
            ]
          },
          "execution_count": 81,
          "metadata": {},
          "output_type": "execute_result"
        }
      ],
      "source": [
        "df_sel[(df_sel['Cena'] > 3) & (df_sel['Kategoria'] != 'Alkohol')]\n",
        "\n"
      ]
    },
    {
      "cell_type": "code",
      "execution_count": null,
      "id": "gX3HIgn4k3hy",
      "metadata": {
        "colab": {
          "base_uri": "https://localhost:8080/",
          "height": 175
        },
        "id": "gX3HIgn4k3hy",
        "outputId": "53424209-40f0-44ba-bb8f-be34c98df7ae"
      },
      "outputs": [],
      "source": [
        "df_sel[(df_sel['Cena'] > 5) | (df_sel['Kategoria'] == 'Alkohol')]\n"
      ]
    },
    {
      "cell_type": "markdown",
      "id": "wyL5KJpvm2Ah",
      "metadata": {
        "id": "wyL5KJpvm2Ah"
      },
      "source": [
        "## 7 Modyfikacja danych"
      ]
    },
    {
      "cell_type": "markdown",
      "id": "cyzFlLHcnN3E",
      "metadata": {
        "id": "cyzFlLHcnN3E"
      },
      "source": [
        "### Modyfikacja pojedynczych wartości"
      ]
    },
    {
      "cell_type": "code",
      "execution_count": 82,
      "id": "yjK3mK2km_xo",
      "metadata": {
        "colab": {
          "base_uri": "https://localhost:8080/",
          "height": 175
        },
        "id": "yjK3mK2km_xo",
        "outputId": "b5376140-1e97-4b4f-efa7-2da303890b42"
      },
      "outputs": [
        {
          "data": {
            "text/html": [
              "<div>\n",
              "<style scoped>\n",
              "    .dataframe tbody tr th:only-of-type {\n",
              "        vertical-align: middle;\n",
              "    }\n",
              "\n",
              "    .dataframe tbody tr th {\n",
              "        vertical-align: top;\n",
              "    }\n",
              "\n",
              "    .dataframe thead th {\n",
              "        text-align: right;\n",
              "    }\n",
              "</style>\n",
              "<table border=\"1\" class=\"dataframe\">\n",
              "  <thead>\n",
              "    <tr style=\"text-align: right;\">\n",
              "      <th></th>\n",
              "      <th>Produkt</th>\n",
              "      <th>Cena</th>\n",
              "      <th>Stan_magazyn</th>\n",
              "    </tr>\n",
              "  </thead>\n",
              "  <tbody>\n",
              "    <tr>\n",
              "      <th>0</th>\n",
              "      <td>Kawa</td>\n",
              "      <td>19.90</td>\n",
              "      <td>50</td>\n",
              "    </tr>\n",
              "    <tr>\n",
              "      <th>1</th>\n",
              "      <td>Herbata</td>\n",
              "      <td>9.99</td>\n",
              "      <td>20</td>\n",
              "    </tr>\n",
              "    <tr>\n",
              "      <th>2</th>\n",
              "      <td>Sok</td>\n",
              "      <td>6.50</td>\n",
              "      <td>100</td>\n",
              "    </tr>\n",
              "    <tr>\n",
              "      <th>3</th>\n",
              "      <td>Woda</td>\n",
              "      <td>2.00</td>\n",
              "      <td>300</td>\n",
              "    </tr>\n",
              "  </tbody>\n",
              "</table>\n",
              "</div>"
            ],
            "text/plain": [
              "   Produkt   Cena  Stan_magazyn\n",
              "0     Kawa  19.90            50\n",
              "1  Herbata   9.99            20\n",
              "2      Sok   6.50           100\n",
              "3     Woda   2.00           300"
            ]
          },
          "execution_count": 82,
          "metadata": {},
          "output_type": "execute_result"
        }
      ],
      "source": [
        "df = pd.DataFrame({\n",
        "    'Produkt': ['Kawa', 'Herbata', 'Sok', 'Woda'],\n",
        "    'Cena': [19.90, 9.99, 6.50, 2.00],\n",
        "    'Stan_magazyn': [50, 20, 100, 300]\n",
        "})\n",
        "df"
      ]
    },
    {
      "cell_type": "code",
      "execution_count": 83,
      "id": "E315ZjwMnCwL",
      "metadata": {
        "colab": {
          "base_uri": "https://localhost:8080/",
          "height": 175
        },
        "id": "E315ZjwMnCwL",
        "outputId": "5ac27137-0b0f-4ea5-dc1c-7b6ed218303a"
      },
      "outputs": [
        {
          "data": {
            "text/html": [
              "<div>\n",
              "<style scoped>\n",
              "    .dataframe tbody tr th:only-of-type {\n",
              "        vertical-align: middle;\n",
              "    }\n",
              "\n",
              "    .dataframe tbody tr th {\n",
              "        vertical-align: top;\n",
              "    }\n",
              "\n",
              "    .dataframe thead th {\n",
              "        text-align: right;\n",
              "    }\n",
              "</style>\n",
              "<table border=\"1\" class=\"dataframe\">\n",
              "  <thead>\n",
              "    <tr style=\"text-align: right;\">\n",
              "      <th></th>\n",
              "      <th>Produkt</th>\n",
              "      <th>Cena</th>\n",
              "      <th>Stan_magazyn</th>\n",
              "    </tr>\n",
              "  </thead>\n",
              "  <tbody>\n",
              "    <tr>\n",
              "      <th>0</th>\n",
              "      <td>Kawa</td>\n",
              "      <td>21.50</td>\n",
              "      <td>50</td>\n",
              "    </tr>\n",
              "    <tr>\n",
              "      <th>1</th>\n",
              "      <td>Herbata</td>\n",
              "      <td>9.99</td>\n",
              "      <td>20</td>\n",
              "    </tr>\n",
              "    <tr>\n",
              "      <th>2</th>\n",
              "      <td>Sok</td>\n",
              "      <td>6.50</td>\n",
              "      <td>100</td>\n",
              "    </tr>\n",
              "    <tr>\n",
              "      <th>3</th>\n",
              "      <td>Woda</td>\n",
              "      <td>2.00</td>\n",
              "      <td>300</td>\n",
              "    </tr>\n",
              "  </tbody>\n",
              "</table>\n",
              "</div>"
            ],
            "text/plain": [
              "   Produkt   Cena  Stan_magazyn\n",
              "0     Kawa  21.50            50\n",
              "1  Herbata   9.99            20\n",
              "2      Sok   6.50           100\n",
              "3     Woda   2.00           300"
            ]
          },
          "execution_count": 83,
          "metadata": {},
          "output_type": "execute_result"
        }
      ],
      "source": [
        "df.at[0, 'Cena'] = 21.50\n",
        "df"
      ]
    },
    {
      "cell_type": "code",
      "execution_count": 84,
      "id": "ILWKxY46nFt0",
      "metadata": {
        "colab": {
          "base_uri": "https://localhost:8080/",
          "height": 175
        },
        "id": "ILWKxY46nFt0",
        "outputId": "131f4c1c-b39f-46a3-be48-80a673de7db4"
      },
      "outputs": [
        {
          "data": {
            "text/html": [
              "<div>\n",
              "<style scoped>\n",
              "    .dataframe tbody tr th:only-of-type {\n",
              "        vertical-align: middle;\n",
              "    }\n",
              "\n",
              "    .dataframe tbody tr th {\n",
              "        vertical-align: top;\n",
              "    }\n",
              "\n",
              "    .dataframe thead th {\n",
              "        text-align: right;\n",
              "    }\n",
              "</style>\n",
              "<table border=\"1\" class=\"dataframe\">\n",
              "  <thead>\n",
              "    <tr style=\"text-align: right;\">\n",
              "      <th></th>\n",
              "      <th>Produkt</th>\n",
              "      <th>Cena</th>\n",
              "      <th>Stan_magazyn</th>\n",
              "    </tr>\n",
              "  </thead>\n",
              "  <tbody>\n",
              "    <tr>\n",
              "      <th>0</th>\n",
              "      <td>Kawa</td>\n",
              "      <td>21.50</td>\n",
              "      <td>50</td>\n",
              "    </tr>\n",
              "    <tr>\n",
              "      <th>1</th>\n",
              "      <td>Herbata</td>\n",
              "      <td>9.99</td>\n",
              "      <td>20</td>\n",
              "    </tr>\n",
              "    <tr>\n",
              "      <th>2</th>\n",
              "      <td>Sok</td>\n",
              "      <td>7.00</td>\n",
              "      <td>100</td>\n",
              "    </tr>\n",
              "    <tr>\n",
              "      <th>3</th>\n",
              "      <td>Woda</td>\n",
              "      <td>2.00</td>\n",
              "      <td>300</td>\n",
              "    </tr>\n",
              "  </tbody>\n",
              "</table>\n",
              "</div>"
            ],
            "text/plain": [
              "   Produkt   Cena  Stan_magazyn\n",
              "0     Kawa  21.50            50\n",
              "1  Herbata   9.99            20\n",
              "2      Sok   7.00           100\n",
              "3     Woda   2.00           300"
            ]
          },
          "execution_count": 84,
          "metadata": {},
          "output_type": "execute_result"
        }
      ],
      "source": [
        "df.iat[2, 1] = 7.00\n",
        "df"
      ]
    },
    {
      "cell_type": "code",
      "execution_count": 85,
      "id": "AO9sQdFlnI-f",
      "metadata": {
        "colab": {
          "base_uri": "https://localhost:8080/",
          "height": 175
        },
        "id": "AO9sQdFlnI-f",
        "outputId": "e0aae768-131f-438d-d344-20d63caa5d29"
      },
      "outputs": [
        {
          "data": {
            "text/html": [
              "<div>\n",
              "<style scoped>\n",
              "    .dataframe tbody tr th:only-of-type {\n",
              "        vertical-align: middle;\n",
              "    }\n",
              "\n",
              "    .dataframe tbody tr th {\n",
              "        vertical-align: top;\n",
              "    }\n",
              "\n",
              "    .dataframe thead th {\n",
              "        text-align: right;\n",
              "    }\n",
              "</style>\n",
              "<table border=\"1\" class=\"dataframe\">\n",
              "  <thead>\n",
              "    <tr style=\"text-align: right;\">\n",
              "      <th></th>\n",
              "      <th>Produkt</th>\n",
              "      <th>Cena</th>\n",
              "      <th>Stan_magazyn</th>\n",
              "    </tr>\n",
              "  </thead>\n",
              "  <tbody>\n",
              "    <tr>\n",
              "      <th>0</th>\n",
              "      <td>Kawa</td>\n",
              "      <td>21.50</td>\n",
              "      <td>50</td>\n",
              "    </tr>\n",
              "    <tr>\n",
              "      <th>1</th>\n",
              "      <td>Herbata</td>\n",
              "      <td>9.99</td>\n",
              "      <td>20</td>\n",
              "    </tr>\n",
              "    <tr>\n",
              "      <th>2</th>\n",
              "      <td>Sok</td>\n",
              "      <td>7.00</td>\n",
              "      <td>100</td>\n",
              "    </tr>\n",
              "    <tr>\n",
              "      <th>3</th>\n",
              "      <td>Woda</td>\n",
              "      <td>2.00</td>\n",
              "      <td>280</td>\n",
              "    </tr>\n",
              "  </tbody>\n",
              "</table>\n",
              "</div>"
            ],
            "text/plain": [
              "   Produkt   Cena  Stan_magazyn\n",
              "0     Kawa  21.50            50\n",
              "1  Herbata   9.99            20\n",
              "2      Sok   7.00           100\n",
              "3     Woda   2.00           280"
            ]
          },
          "execution_count": 85,
          "metadata": {},
          "output_type": "execute_result"
        }
      ],
      "source": [
        "df.loc[3, 'Stan_magazyn'] = 280\n",
        "df"
      ]
    },
    {
      "cell_type": "markdown",
      "id": "_V-B3CtAnSVM",
      "metadata": {
        "id": "_V-B3CtAnSVM"
      },
      "source": [
        "### Modyfikacja kolumn"
      ]
    },
    {
      "cell_type": "code",
      "execution_count": 86,
      "id": "eeEKilTP_YF9",
      "metadata": {
        "colab": {
          "base_uri": "https://localhost:8080/",
          "height": 210
        },
        "id": "eeEKilTP_YF9",
        "outputId": "f51b9324-1373-4129-ac06-e9ab3a4608a2"
      },
      "outputs": [
        {
          "data": {
            "text/plain": [
              "0    21.50\n",
              "1     9.99\n",
              "2     7.00\n",
              "3     2.00\n",
              "Name: Cena, dtype: float64"
            ]
          },
          "execution_count": 86,
          "metadata": {},
          "output_type": "execute_result"
        }
      ],
      "source": [
        "df['Cena']"
      ]
    },
    {
      "cell_type": "code",
      "execution_count": 88,
      "id": "iYTm_E6anUPR",
      "metadata": {
        "colab": {
          "base_uri": "https://localhost:8080/",
          "height": 175
        },
        "id": "iYTm_E6anUPR",
        "outputId": "05e326c6-0b7f-406a-925f-3fa286ce1e7c"
      },
      "outputs": [
        {
          "data": {
            "text/html": [
              "<div>\n",
              "<style scoped>\n",
              "    .dataframe tbody tr th:only-of-type {\n",
              "        vertical-align: middle;\n",
              "    }\n",
              "\n",
              "    .dataframe tbody tr th {\n",
              "        vertical-align: top;\n",
              "    }\n",
              "\n",
              "    .dataframe thead th {\n",
              "        text-align: right;\n",
              "    }\n",
              "</style>\n",
              "<table border=\"1\" class=\"dataframe\">\n",
              "  <thead>\n",
              "    <tr style=\"text-align: right;\">\n",
              "      <th></th>\n",
              "      <th>Produkt</th>\n",
              "      <th>Cena</th>\n",
              "      <th>Stan_magazyn</th>\n",
              "    </tr>\n",
              "  </thead>\n",
              "  <tbody>\n",
              "    <tr>\n",
              "      <th>0</th>\n",
              "      <td>Kawa</td>\n",
              "      <td>22.0</td>\n",
              "      <td>50</td>\n",
              "    </tr>\n",
              "    <tr>\n",
              "      <th>1</th>\n",
              "      <td>Herbata</td>\n",
              "      <td>11.0</td>\n",
              "      <td>20</td>\n",
              "    </tr>\n",
              "    <tr>\n",
              "      <th>2</th>\n",
              "      <td>Sok</td>\n",
              "      <td>8.0</td>\n",
              "      <td>100</td>\n",
              "    </tr>\n",
              "    <tr>\n",
              "      <th>3</th>\n",
              "      <td>Woda</td>\n",
              "      <td>1.6</td>\n",
              "      <td>280</td>\n",
              "    </tr>\n",
              "  </tbody>\n",
              "</table>\n",
              "</div>"
            ],
            "text/plain": [
              "   Produkt  Cena  Stan_magazyn\n",
              "0     Kawa  22.0            50\n",
              "1  Herbata  11.0            20\n",
              "2      Sok   8.0           100\n",
              "3     Woda   1.6           280"
            ]
          },
          "execution_count": 88,
          "metadata": {},
          "output_type": "execute_result"
        }
      ],
      "source": [
        "df['Cena'] = [22, 11, 8, 1.6]\n",
        "df"
      ]
    },
    {
      "cell_type": "code",
      "execution_count": 87,
      "id": "Maf5fAPv_bml",
      "metadata": {
        "colab": {
          "base_uri": "https://localhost:8080/",
          "height": 210
        },
        "id": "Maf5fAPv_bml",
        "outputId": "fb65617e-a3fe-42d2-bb80-f86fcc5accc1"
      },
      "outputs": [
        {
          "data": {
            "text/plain": [
              "0    23.650\n",
              "1    10.989\n",
              "2     7.700\n",
              "3     2.200\n",
              "Name: Cena, dtype: float64"
            ]
          },
          "execution_count": 87,
          "metadata": {},
          "output_type": "execute_result"
        }
      ],
      "source": [
        "df['Cena'] * 1.10"
      ]
    },
    {
      "cell_type": "code",
      "execution_count": 89,
      "id": "416cNcG5naYI",
      "metadata": {
        "colab": {
          "base_uri": "https://localhost:8080/",
          "height": 175
        },
        "id": "416cNcG5naYI",
        "outputId": "85b3b5e8-c276-472b-e17f-7f39c1693e19"
      },
      "outputs": [
        {
          "data": {
            "text/html": [
              "<div>\n",
              "<style scoped>\n",
              "    .dataframe tbody tr th:only-of-type {\n",
              "        vertical-align: middle;\n",
              "    }\n",
              "\n",
              "    .dataframe tbody tr th {\n",
              "        vertical-align: top;\n",
              "    }\n",
              "\n",
              "    .dataframe thead th {\n",
              "        text-align: right;\n",
              "    }\n",
              "</style>\n",
              "<table border=\"1\" class=\"dataframe\">\n",
              "  <thead>\n",
              "    <tr style=\"text-align: right;\">\n",
              "      <th></th>\n",
              "      <th>Produkt</th>\n",
              "      <th>Cena</th>\n",
              "      <th>Stan_magazyn</th>\n",
              "    </tr>\n",
              "  </thead>\n",
              "  <tbody>\n",
              "    <tr>\n",
              "      <th>0</th>\n",
              "      <td>Kawa</td>\n",
              "      <td>24.20</td>\n",
              "      <td>50</td>\n",
              "    </tr>\n",
              "    <tr>\n",
              "      <th>1</th>\n",
              "      <td>Herbata</td>\n",
              "      <td>12.10</td>\n",
              "      <td>20</td>\n",
              "    </tr>\n",
              "    <tr>\n",
              "      <th>2</th>\n",
              "      <td>Sok</td>\n",
              "      <td>8.80</td>\n",
              "      <td>100</td>\n",
              "    </tr>\n",
              "    <tr>\n",
              "      <th>3</th>\n",
              "      <td>Woda</td>\n",
              "      <td>1.76</td>\n",
              "      <td>280</td>\n",
              "    </tr>\n",
              "  </tbody>\n",
              "</table>\n",
              "</div>"
            ],
            "text/plain": [
              "   Produkt   Cena  Stan_magazyn\n",
              "0     Kawa  24.20            50\n",
              "1  Herbata  12.10            20\n",
              "2      Sok   8.80           100\n",
              "3     Woda   1.76           280"
            ]
          },
          "execution_count": 89,
          "metadata": {},
          "output_type": "execute_result"
        }
      ],
      "source": [
        "# podniesienie wszystkich cen o 10%\n",
        "df['Cena'] = df['Cena'] * 1.10\n",
        "df"
      ]
    },
    {
      "cell_type": "code",
      "execution_count": 90,
      "id": "02c8nRBJnfzB",
      "metadata": {
        "colab": {
          "base_uri": "https://localhost:8080/"
        },
        "id": "02c8nRBJnfzB",
        "outputId": "3dfb9f84-094a-4b46-cbab-a5d32b18866f"
      },
      "outputs": [
        {
          "data": {
            "text/plain": [
              "dtype('int64')"
            ]
          },
          "execution_count": 90,
          "metadata": {},
          "output_type": "execute_result"
        }
      ],
      "source": [
        "df['Stan_magazyn'].dtypes"
      ]
    },
    {
      "cell_type": "code",
      "execution_count": 91,
      "id": "oWgQ57nDnnPp",
      "metadata": {
        "id": "oWgQ57nDnnPp"
      },
      "outputs": [],
      "source": [
        "df['Stan_magazyn'] = df['Stan_magazyn'].astype(float)"
      ]
    },
    {
      "cell_type": "code",
      "execution_count": 92,
      "id": "pS5AdDNRn6_f",
      "metadata": {
        "colab": {
          "base_uri": "https://localhost:8080/",
          "height": 175
        },
        "id": "pS5AdDNRn6_f",
        "outputId": "bb3e5cfd-8916-4308-e1e6-d4c5674243ec"
      },
      "outputs": [
        {
          "data": {
            "text/html": [
              "<div>\n",
              "<style scoped>\n",
              "    .dataframe tbody tr th:only-of-type {\n",
              "        vertical-align: middle;\n",
              "    }\n",
              "\n",
              "    .dataframe tbody tr th {\n",
              "        vertical-align: top;\n",
              "    }\n",
              "\n",
              "    .dataframe thead th {\n",
              "        text-align: right;\n",
              "    }\n",
              "</style>\n",
              "<table border=\"1\" class=\"dataframe\">\n",
              "  <thead>\n",
              "    <tr style=\"text-align: right;\">\n",
              "      <th></th>\n",
              "      <th>Produkt</th>\n",
              "      <th>Cena</th>\n",
              "      <th>Stan_magazyn</th>\n",
              "    </tr>\n",
              "  </thead>\n",
              "  <tbody>\n",
              "    <tr>\n",
              "      <th>0</th>\n",
              "      <td>Kawa</td>\n",
              "      <td>24.20</td>\n",
              "      <td>50.0</td>\n",
              "    </tr>\n",
              "    <tr>\n",
              "      <th>1</th>\n",
              "      <td>Herbata</td>\n",
              "      <td>12.10</td>\n",
              "      <td>20.0</td>\n",
              "    </tr>\n",
              "    <tr>\n",
              "      <th>2</th>\n",
              "      <td>Sok</td>\n",
              "      <td>8.80</td>\n",
              "      <td>100.0</td>\n",
              "    </tr>\n",
              "    <tr>\n",
              "      <th>3</th>\n",
              "      <td>Woda</td>\n",
              "      <td>1.76</td>\n",
              "      <td>280.0</td>\n",
              "    </tr>\n",
              "  </tbody>\n",
              "</table>\n",
              "</div>"
            ],
            "text/plain": [
              "   Produkt   Cena  Stan_magazyn\n",
              "0     Kawa  24.20          50.0\n",
              "1  Herbata  12.10          20.0\n",
              "2      Sok   8.80         100.0\n",
              "3     Woda   1.76         280.0"
            ]
          },
          "execution_count": 92,
          "metadata": {},
          "output_type": "execute_result"
        }
      ],
      "source": [
        "df"
      ]
    },
    {
      "cell_type": "code",
      "execution_count": 93,
      "id": "yL_WxRfNn8a6",
      "metadata": {
        "colab": {
          "base_uri": "https://localhost:8080/"
        },
        "id": "yL_WxRfNn8a6",
        "outputId": "4eb4edb7-c522-4de2-e364-a652d8af0a70"
      },
      "outputs": [
        {
          "data": {
            "text/plain": [
              "dtype('float64')"
            ]
          },
          "execution_count": 93,
          "metadata": {},
          "output_type": "execute_result"
        }
      ],
      "source": [
        "df['Stan_magazyn'].dtypes"
      ]
    },
    {
      "cell_type": "markdown",
      "id": "Z4OSKrfqoJvN",
      "metadata": {
        "id": "Z4OSKrfqoJvN"
      },
      "source": [
        "### Dodawanie i usuwanie kolumn"
      ]
    },
    {
      "cell_type": "code",
      "execution_count": 94,
      "id": "1_TsCNeKoH0c",
      "metadata": {
        "colab": {
          "base_uri": "https://localhost:8080/",
          "height": 175
        },
        "id": "1_TsCNeKoH0c",
        "outputId": "e66b5e21-8377-4e56-bfdf-0cab05b50dc7"
      },
      "outputs": [
        {
          "data": {
            "text/html": [
              "<div>\n",
              "<style scoped>\n",
              "    .dataframe tbody tr th:only-of-type {\n",
              "        vertical-align: middle;\n",
              "    }\n",
              "\n",
              "    .dataframe tbody tr th {\n",
              "        vertical-align: top;\n",
              "    }\n",
              "\n",
              "    .dataframe thead th {\n",
              "        text-align: right;\n",
              "    }\n",
              "</style>\n",
              "<table border=\"1\" class=\"dataframe\">\n",
              "  <thead>\n",
              "    <tr style=\"text-align: right;\">\n",
              "      <th></th>\n",
              "      <th>Produkt</th>\n",
              "      <th>Cena</th>\n",
              "      <th>Stan_magazyn</th>\n",
              "      <th>VAT</th>\n",
              "    </tr>\n",
              "  </thead>\n",
              "  <tbody>\n",
              "    <tr>\n",
              "      <th>0</th>\n",
              "      <td>Kawa</td>\n",
              "      <td>24.20</td>\n",
              "      <td>50.0</td>\n",
              "      <td>5.5660</td>\n",
              "    </tr>\n",
              "    <tr>\n",
              "      <th>1</th>\n",
              "      <td>Herbata</td>\n",
              "      <td>12.10</td>\n",
              "      <td>20.0</td>\n",
              "      <td>2.7830</td>\n",
              "    </tr>\n",
              "    <tr>\n",
              "      <th>2</th>\n",
              "      <td>Sok</td>\n",
              "      <td>8.80</td>\n",
              "      <td>100.0</td>\n",
              "      <td>2.0240</td>\n",
              "    </tr>\n",
              "    <tr>\n",
              "      <th>3</th>\n",
              "      <td>Woda</td>\n",
              "      <td>1.76</td>\n",
              "      <td>280.0</td>\n",
              "      <td>0.4048</td>\n",
              "    </tr>\n",
              "  </tbody>\n",
              "</table>\n",
              "</div>"
            ],
            "text/plain": [
              "   Produkt   Cena  Stan_magazyn     VAT\n",
              "0     Kawa  24.20          50.0  5.5660\n",
              "1  Herbata  12.10          20.0  2.7830\n",
              "2      Sok   8.80         100.0  2.0240\n",
              "3     Woda   1.76         280.0  0.4048"
            ]
          },
          "execution_count": 94,
          "metadata": {},
          "output_type": "execute_result"
        }
      ],
      "source": [
        "df['VAT'] = df['Cena'] * 0.23\n",
        "df"
      ]
    },
    {
      "cell_type": "code",
      "execution_count": 95,
      "id": "zvtnuCmvoOVJ",
      "metadata": {
        "colab": {
          "base_uri": "https://localhost:8080/",
          "height": 175
        },
        "id": "zvtnuCmvoOVJ",
        "outputId": "1b43aa70-af3d-499b-88db-572850bda9ec"
      },
      "outputs": [
        {
          "data": {
            "text/html": [
              "<div>\n",
              "<style scoped>\n",
              "    .dataframe tbody tr th:only-of-type {\n",
              "        vertical-align: middle;\n",
              "    }\n",
              "\n",
              "    .dataframe tbody tr th {\n",
              "        vertical-align: top;\n",
              "    }\n",
              "\n",
              "    .dataframe thead th {\n",
              "        text-align: right;\n",
              "    }\n",
              "</style>\n",
              "<table border=\"1\" class=\"dataframe\">\n",
              "  <thead>\n",
              "    <tr style=\"text-align: right;\">\n",
              "      <th></th>\n",
              "      <th>Produkt</th>\n",
              "      <th>Cena</th>\n",
              "      <th>Stan_magazyn</th>\n",
              "    </tr>\n",
              "  </thead>\n",
              "  <tbody>\n",
              "    <tr>\n",
              "      <th>0</th>\n",
              "      <td>Kawa</td>\n",
              "      <td>24.20</td>\n",
              "      <td>50.0</td>\n",
              "    </tr>\n",
              "    <tr>\n",
              "      <th>1</th>\n",
              "      <td>Herbata</td>\n",
              "      <td>12.10</td>\n",
              "      <td>20.0</td>\n",
              "    </tr>\n",
              "    <tr>\n",
              "      <th>2</th>\n",
              "      <td>Sok</td>\n",
              "      <td>8.80</td>\n",
              "      <td>100.0</td>\n",
              "    </tr>\n",
              "    <tr>\n",
              "      <th>3</th>\n",
              "      <td>Woda</td>\n",
              "      <td>1.76</td>\n",
              "      <td>280.0</td>\n",
              "    </tr>\n",
              "  </tbody>\n",
              "</table>\n",
              "</div>"
            ],
            "text/plain": [
              "   Produkt   Cena  Stan_magazyn\n",
              "0     Kawa  24.20          50.0\n",
              "1  Herbata  12.10          20.0\n",
              "2      Sok   8.80         100.0\n",
              "3     Woda   1.76         280.0"
            ]
          },
          "execution_count": 95,
          "metadata": {},
          "output_type": "execute_result"
        }
      ],
      "source": [
        "df.drop(columns='VAT')"
      ]
    },
    {
      "cell_type": "code",
      "execution_count": 96,
      "id": "tlKiaB17oTLg",
      "metadata": {
        "colab": {
          "base_uri": "https://localhost:8080/",
          "height": 175
        },
        "id": "tlKiaB17oTLg",
        "outputId": "55970b20-c2d3-4ce7-c5c7-cd6bf7ac6fa7"
      },
      "outputs": [
        {
          "data": {
            "text/html": [
              "<div>\n",
              "<style scoped>\n",
              "    .dataframe tbody tr th:only-of-type {\n",
              "        vertical-align: middle;\n",
              "    }\n",
              "\n",
              "    .dataframe tbody tr th {\n",
              "        vertical-align: top;\n",
              "    }\n",
              "\n",
              "    .dataframe thead th {\n",
              "        text-align: right;\n",
              "    }\n",
              "</style>\n",
              "<table border=\"1\" class=\"dataframe\">\n",
              "  <thead>\n",
              "    <tr style=\"text-align: right;\">\n",
              "      <th></th>\n",
              "      <th>Produkt</th>\n",
              "      <th>Cena</th>\n",
              "      <th>Stan_magazyn</th>\n",
              "      <th>VAT</th>\n",
              "    </tr>\n",
              "  </thead>\n",
              "  <tbody>\n",
              "    <tr>\n",
              "      <th>0</th>\n",
              "      <td>Kawa</td>\n",
              "      <td>24.20</td>\n",
              "      <td>50.0</td>\n",
              "      <td>5.5660</td>\n",
              "    </tr>\n",
              "    <tr>\n",
              "      <th>1</th>\n",
              "      <td>Herbata</td>\n",
              "      <td>12.10</td>\n",
              "      <td>20.0</td>\n",
              "      <td>2.7830</td>\n",
              "    </tr>\n",
              "    <tr>\n",
              "      <th>2</th>\n",
              "      <td>Sok</td>\n",
              "      <td>8.80</td>\n",
              "      <td>100.0</td>\n",
              "      <td>2.0240</td>\n",
              "    </tr>\n",
              "    <tr>\n",
              "      <th>3</th>\n",
              "      <td>Woda</td>\n",
              "      <td>1.76</td>\n",
              "      <td>280.0</td>\n",
              "      <td>0.4048</td>\n",
              "    </tr>\n",
              "  </tbody>\n",
              "</table>\n",
              "</div>"
            ],
            "text/plain": [
              "   Produkt   Cena  Stan_magazyn     VAT\n",
              "0     Kawa  24.20          50.0  5.5660\n",
              "1  Herbata  12.10          20.0  2.7830\n",
              "2      Sok   8.80         100.0  2.0240\n",
              "3     Woda   1.76         280.0  0.4048"
            ]
          },
          "execution_count": 96,
          "metadata": {},
          "output_type": "execute_result"
        }
      ],
      "source": [
        "df"
      ]
    },
    {
      "cell_type": "code",
      "execution_count": 97,
      "id": "yvUbgqu8oTzi",
      "metadata": {
        "colab": {
          "base_uri": "https://localhost:8080/",
          "height": 175
        },
        "id": "yvUbgqu8oTzi",
        "outputId": "22344048-cdbc-4def-c2b7-28017053176c"
      },
      "outputs": [
        {
          "data": {
            "text/html": [
              "<div>\n",
              "<style scoped>\n",
              "    .dataframe tbody tr th:only-of-type {\n",
              "        vertical-align: middle;\n",
              "    }\n",
              "\n",
              "    .dataframe tbody tr th {\n",
              "        vertical-align: top;\n",
              "    }\n",
              "\n",
              "    .dataframe thead th {\n",
              "        text-align: right;\n",
              "    }\n",
              "</style>\n",
              "<table border=\"1\" class=\"dataframe\">\n",
              "  <thead>\n",
              "    <tr style=\"text-align: right;\">\n",
              "      <th></th>\n",
              "      <th>Produkt</th>\n",
              "      <th>Cena</th>\n",
              "      <th>Stan_magazyn</th>\n",
              "    </tr>\n",
              "  </thead>\n",
              "  <tbody>\n",
              "    <tr>\n",
              "      <th>0</th>\n",
              "      <td>Kawa</td>\n",
              "      <td>24.20</td>\n",
              "      <td>50.0</td>\n",
              "    </tr>\n",
              "    <tr>\n",
              "      <th>1</th>\n",
              "      <td>Herbata</td>\n",
              "      <td>12.10</td>\n",
              "      <td>20.0</td>\n",
              "    </tr>\n",
              "    <tr>\n",
              "      <th>2</th>\n",
              "      <td>Sok</td>\n",
              "      <td>8.80</td>\n",
              "      <td>100.0</td>\n",
              "    </tr>\n",
              "    <tr>\n",
              "      <th>3</th>\n",
              "      <td>Woda</td>\n",
              "      <td>1.76</td>\n",
              "      <td>280.0</td>\n",
              "    </tr>\n",
              "  </tbody>\n",
              "</table>\n",
              "</div>"
            ],
            "text/plain": [
              "   Produkt   Cena  Stan_magazyn\n",
              "0     Kawa  24.20          50.0\n",
              "1  Herbata  12.10          20.0\n",
              "2      Sok   8.80         100.0\n",
              "3     Woda   1.76         280.0"
            ]
          },
          "execution_count": 97,
          "metadata": {},
          "output_type": "execute_result"
        }
      ],
      "source": [
        "df.drop(columns=['VAT'], inplace=True)\n",
        "df"
      ]
    },
    {
      "cell_type": "code",
      "execution_count": 98,
      "id": "rBoCPsvR_9jl",
      "metadata": {
        "colab": {
          "base_uri": "https://localhost:8080/"
        },
        "id": "rBoCPsvR_9jl",
        "outputId": "52cd5ca3-1b48-4820-a933-b712aed27161"
      },
      "outputs": [
        {
          "data": {
            "text/plain": [
              "['Premium', 'Premium', 'Ekonomiczna', 'Ekonomiczna']"
            ]
          },
          "execution_count": 98,
          "metadata": {},
          "output_type": "execute_result"
        }
      ],
      "source": [
        "['Premium' if x > 10 else 'Ekonomiczna' for x in df['Cena']]"
      ]
    },
    {
      "cell_type": "code",
      "execution_count": 99,
      "id": "3FyovpLqojR7",
      "metadata": {
        "colab": {
          "base_uri": "https://localhost:8080/",
          "height": 175
        },
        "id": "3FyovpLqojR7",
        "outputId": "fec25e97-775a-4adb-d1c3-4d9256d1219e"
      },
      "outputs": [
        {
          "data": {
            "text/html": [
              "<div>\n",
              "<style scoped>\n",
              "    .dataframe tbody tr th:only-of-type {\n",
              "        vertical-align: middle;\n",
              "    }\n",
              "\n",
              "    .dataframe tbody tr th {\n",
              "        vertical-align: top;\n",
              "    }\n",
              "\n",
              "    .dataframe thead th {\n",
              "        text-align: right;\n",
              "    }\n",
              "</style>\n",
              "<table border=\"1\" class=\"dataframe\">\n",
              "  <thead>\n",
              "    <tr style=\"text-align: right;\">\n",
              "      <th></th>\n",
              "      <th>Produkt</th>\n",
              "      <th>Cena</th>\n",
              "      <th>Stan_magazyn</th>\n",
              "      <th>Klasa</th>\n",
              "    </tr>\n",
              "  </thead>\n",
              "  <tbody>\n",
              "    <tr>\n",
              "      <th>0</th>\n",
              "      <td>Kawa</td>\n",
              "      <td>24.20</td>\n",
              "      <td>50.0</td>\n",
              "      <td>Premium</td>\n",
              "    </tr>\n",
              "    <tr>\n",
              "      <th>1</th>\n",
              "      <td>Herbata</td>\n",
              "      <td>12.10</td>\n",
              "      <td>20.0</td>\n",
              "      <td>Premium</td>\n",
              "    </tr>\n",
              "    <tr>\n",
              "      <th>2</th>\n",
              "      <td>Sok</td>\n",
              "      <td>8.80</td>\n",
              "      <td>100.0</td>\n",
              "      <td>Ekonomiczna</td>\n",
              "    </tr>\n",
              "    <tr>\n",
              "      <th>3</th>\n",
              "      <td>Woda</td>\n",
              "      <td>1.76</td>\n",
              "      <td>280.0</td>\n",
              "      <td>Ekonomiczna</td>\n",
              "    </tr>\n",
              "  </tbody>\n",
              "</table>\n",
              "</div>"
            ],
            "text/plain": [
              "   Produkt   Cena  Stan_magazyn        Klasa\n",
              "0     Kawa  24.20          50.0      Premium\n",
              "1  Herbata  12.10          20.0      Premium\n",
              "2      Sok   8.80         100.0  Ekonomiczna\n",
              "3     Woda   1.76         280.0  Ekonomiczna"
            ]
          },
          "execution_count": 99,
          "metadata": {},
          "output_type": "execute_result"
        }
      ],
      "source": [
        "df['Klasa'] = ['Premium' if x > 10 else 'Ekonomiczna' for x in df['Cena']]\n",
        "df"
      ]
    },
    {
      "cell_type": "markdown",
      "id": "pLZVBxosn_3l",
      "metadata": {
        "id": "pLZVBxosn_3l"
      },
      "source": [
        "### Modyfikacja i usuwanie wierszy"
      ]
    },
    {
      "cell_type": "code",
      "execution_count": 100,
      "id": "mnCWZkDboz5r",
      "metadata": {
        "id": "mnCWZkDboz5r"
      },
      "outputs": [],
      "source": [
        "# Zmiana wiersza 1 (indeks = 1) – podajemy Series z nazwami kolumn\n",
        "df.loc[1] = pd.Series({'Produkt': 'Nowa Herbata', 'Cena': 12.99, 'Stan_magazyn': 25})"
      ]
    },
    {
      "cell_type": "code",
      "execution_count": 101,
      "id": "b3PkUJtZAG7E",
      "metadata": {
        "colab": {
          "base_uri": "https://localhost:8080/",
          "height": 175
        },
        "id": "b3PkUJtZAG7E",
        "outputId": "414aac11-6a26-40be-c523-eede3a138ef7"
      },
      "outputs": [
        {
          "data": {
            "text/html": [
              "<div>\n",
              "<style scoped>\n",
              "    .dataframe tbody tr th:only-of-type {\n",
              "        vertical-align: middle;\n",
              "    }\n",
              "\n",
              "    .dataframe tbody tr th {\n",
              "        vertical-align: top;\n",
              "    }\n",
              "\n",
              "    .dataframe thead th {\n",
              "        text-align: right;\n",
              "    }\n",
              "</style>\n",
              "<table border=\"1\" class=\"dataframe\">\n",
              "  <thead>\n",
              "    <tr style=\"text-align: right;\">\n",
              "      <th></th>\n",
              "      <th>Produkt</th>\n",
              "      <th>Cena</th>\n",
              "      <th>Stan_magazyn</th>\n",
              "      <th>Klasa</th>\n",
              "    </tr>\n",
              "  </thead>\n",
              "  <tbody>\n",
              "    <tr>\n",
              "      <th>0</th>\n",
              "      <td>Kawa</td>\n",
              "      <td>24.20</td>\n",
              "      <td>50.0</td>\n",
              "      <td>Premium</td>\n",
              "    </tr>\n",
              "    <tr>\n",
              "      <th>1</th>\n",
              "      <td>Nowa Herbata</td>\n",
              "      <td>12.99</td>\n",
              "      <td>25.0</td>\n",
              "      <td>NaN</td>\n",
              "    </tr>\n",
              "    <tr>\n",
              "      <th>2</th>\n",
              "      <td>Sok</td>\n",
              "      <td>8.80</td>\n",
              "      <td>100.0</td>\n",
              "      <td>Ekonomiczna</td>\n",
              "    </tr>\n",
              "    <tr>\n",
              "      <th>3</th>\n",
              "      <td>Woda</td>\n",
              "      <td>1.76</td>\n",
              "      <td>280.0</td>\n",
              "      <td>Ekonomiczna</td>\n",
              "    </tr>\n",
              "  </tbody>\n",
              "</table>\n",
              "</div>"
            ],
            "text/plain": [
              "        Produkt   Cena  Stan_magazyn        Klasa\n",
              "0          Kawa  24.20          50.0      Premium\n",
              "1  Nowa Herbata  12.99          25.0          NaN\n",
              "2           Sok   8.80         100.0  Ekonomiczna\n",
              "3          Woda   1.76         280.0  Ekonomiczna"
            ]
          },
          "execution_count": 101,
          "metadata": {},
          "output_type": "execute_result"
        }
      ],
      "source": [
        "df"
      ]
    },
    {
      "cell_type": "code",
      "execution_count": 102,
      "id": "bVS0IayUoszw",
      "metadata": {
        "colab": {
          "base_uri": "https://localhost:8080/",
          "height": 175
        },
        "id": "bVS0IayUoszw",
        "outputId": "a31fdcca-23e9-482e-e375-469b70845835"
      },
      "outputs": [
        {
          "data": {
            "text/html": [
              "<div>\n",
              "<style scoped>\n",
              "    .dataframe tbody tr th:only-of-type {\n",
              "        vertical-align: middle;\n",
              "    }\n",
              "\n",
              "    .dataframe tbody tr th {\n",
              "        vertical-align: top;\n",
              "    }\n",
              "\n",
              "    .dataframe thead th {\n",
              "        text-align: right;\n",
              "    }\n",
              "</style>\n",
              "<table border=\"1\" class=\"dataframe\">\n",
              "  <thead>\n",
              "    <tr style=\"text-align: right;\">\n",
              "      <th></th>\n",
              "      <th>Produkt</th>\n",
              "      <th>Cena</th>\n",
              "      <th>Stan_magazyn</th>\n",
              "      <th>Klasa</th>\n",
              "    </tr>\n",
              "  </thead>\n",
              "  <tbody>\n",
              "    <tr>\n",
              "      <th>0</th>\n",
              "      <td>Kawa</td>\n",
              "      <td>24.20</td>\n",
              "      <td>50.0</td>\n",
              "      <td>Premium</td>\n",
              "    </tr>\n",
              "    <tr>\n",
              "      <th>1</th>\n",
              "      <td>Nowa Herbata</td>\n",
              "      <td>12.99</td>\n",
              "      <td>25.0</td>\n",
              "      <td>NaN</td>\n",
              "    </tr>\n",
              "    <tr>\n",
              "      <th>2</th>\n",
              "      <td>Sok</td>\n",
              "      <td>8.80</td>\n",
              "      <td>100.0</td>\n",
              "      <td>Ekonomiczna</td>\n",
              "    </tr>\n",
              "    <tr>\n",
              "      <th>3</th>\n",
              "      <td>Woda</td>\n",
              "      <td>0.00</td>\n",
              "      <td>280.0</td>\n",
              "      <td>Ekonomiczna</td>\n",
              "    </tr>\n",
              "  </tbody>\n",
              "</table>\n",
              "</div>"
            ],
            "text/plain": [
              "        Produkt   Cena  Stan_magazyn        Klasa\n",
              "0          Kawa  24.20          50.0      Premium\n",
              "1  Nowa Herbata  12.99          25.0          NaN\n",
              "2           Sok   8.80         100.0  Ekonomiczna\n",
              "3          Woda   0.00         280.0  Ekonomiczna"
            ]
          },
          "execution_count": 102,
          "metadata": {},
          "output_type": "execute_result"
        }
      ],
      "source": [
        "# Ustaw cena = 0 dla produktów, których magazyn > 250\n",
        "df.loc[df['Stan_magazyn'] > 250, 'Cena'] = 0\n",
        "df"
      ]
    },
    {
      "cell_type": "code",
      "execution_count": 103,
      "id": "VhzaKcAGo8J6",
      "metadata": {
        "id": "VhzaKcAGo8J6"
      },
      "outputs": [],
      "source": [
        "df.loc[4] = pd.Series({'Produkt': 'Jeszcze nowsza Herbata', 'Cena': 12.99, 'Stan_magazyn': 25})"
      ]
    },
    {
      "cell_type": "code",
      "execution_count": 104,
      "id": "i3GhWiJNo-z2",
      "metadata": {
        "colab": {
          "base_uri": "https://localhost:8080/",
          "height": 206
        },
        "id": "i3GhWiJNo-z2",
        "outputId": "33091cb3-2d90-4f17-da0a-3fad3035a1d1"
      },
      "outputs": [
        {
          "data": {
            "text/html": [
              "<div>\n",
              "<style scoped>\n",
              "    .dataframe tbody tr th:only-of-type {\n",
              "        vertical-align: middle;\n",
              "    }\n",
              "\n",
              "    .dataframe tbody tr th {\n",
              "        vertical-align: top;\n",
              "    }\n",
              "\n",
              "    .dataframe thead th {\n",
              "        text-align: right;\n",
              "    }\n",
              "</style>\n",
              "<table border=\"1\" class=\"dataframe\">\n",
              "  <thead>\n",
              "    <tr style=\"text-align: right;\">\n",
              "      <th></th>\n",
              "      <th>Produkt</th>\n",
              "      <th>Cena</th>\n",
              "      <th>Stan_magazyn</th>\n",
              "      <th>Klasa</th>\n",
              "    </tr>\n",
              "  </thead>\n",
              "  <tbody>\n",
              "    <tr>\n",
              "      <th>0</th>\n",
              "      <td>Kawa</td>\n",
              "      <td>24.20</td>\n",
              "      <td>50.0</td>\n",
              "      <td>Premium</td>\n",
              "    </tr>\n",
              "    <tr>\n",
              "      <th>1</th>\n",
              "      <td>Nowa Herbata</td>\n",
              "      <td>12.99</td>\n",
              "      <td>25.0</td>\n",
              "      <td>NaN</td>\n",
              "    </tr>\n",
              "    <tr>\n",
              "      <th>2</th>\n",
              "      <td>Sok</td>\n",
              "      <td>8.80</td>\n",
              "      <td>100.0</td>\n",
              "      <td>Ekonomiczna</td>\n",
              "    </tr>\n",
              "    <tr>\n",
              "      <th>3</th>\n",
              "      <td>Woda</td>\n",
              "      <td>0.00</td>\n",
              "      <td>280.0</td>\n",
              "      <td>Ekonomiczna</td>\n",
              "    </tr>\n",
              "    <tr>\n",
              "      <th>4</th>\n",
              "      <td>Jeszcze nowsza Herbata</td>\n",
              "      <td>12.99</td>\n",
              "      <td>25.0</td>\n",
              "      <td>NaN</td>\n",
              "    </tr>\n",
              "  </tbody>\n",
              "</table>\n",
              "</div>"
            ],
            "text/plain": [
              "                  Produkt   Cena  Stan_magazyn        Klasa\n",
              "0                    Kawa  24.20          50.0      Premium\n",
              "1            Nowa Herbata  12.99          25.0          NaN\n",
              "2                     Sok   8.80         100.0  Ekonomiczna\n",
              "3                    Woda   0.00         280.0  Ekonomiczna\n",
              "4  Jeszcze nowsza Herbata  12.99          25.0          NaN"
            ]
          },
          "execution_count": 104,
          "metadata": {},
          "output_type": "execute_result"
        }
      ],
      "source": [
        "df"
      ]
    },
    {
      "cell_type": "code",
      "execution_count": 105,
      "id": "o-GhfkABm6vE",
      "metadata": {
        "colab": {
          "base_uri": "https://localhost:8080/",
          "height": 175
        },
        "id": "o-GhfkABm6vE",
        "outputId": "1f13031a-f8c2-4dea-ca0e-4b7aa14a16a3"
      },
      "outputs": [
        {
          "data": {
            "text/html": [
              "<div>\n",
              "<style scoped>\n",
              "    .dataframe tbody tr th:only-of-type {\n",
              "        vertical-align: middle;\n",
              "    }\n",
              "\n",
              "    .dataframe tbody tr th {\n",
              "        vertical-align: top;\n",
              "    }\n",
              "\n",
              "    .dataframe thead th {\n",
              "        text-align: right;\n",
              "    }\n",
              "</style>\n",
              "<table border=\"1\" class=\"dataframe\">\n",
              "  <thead>\n",
              "    <tr style=\"text-align: right;\">\n",
              "      <th></th>\n",
              "      <th>Produkt</th>\n",
              "      <th>Cena</th>\n",
              "      <th>Stan_magazyn</th>\n",
              "      <th>Klasa</th>\n",
              "    </tr>\n",
              "  </thead>\n",
              "  <tbody>\n",
              "    <tr>\n",
              "      <th>0</th>\n",
              "      <td>Kawa</td>\n",
              "      <td>24.20</td>\n",
              "      <td>50.0</td>\n",
              "      <td>Premium</td>\n",
              "    </tr>\n",
              "    <tr>\n",
              "      <th>1</th>\n",
              "      <td>Nowa Herbata</td>\n",
              "      <td>12.99</td>\n",
              "      <td>25.0</td>\n",
              "      <td>NaN</td>\n",
              "    </tr>\n",
              "    <tr>\n",
              "      <th>3</th>\n",
              "      <td>Woda</td>\n",
              "      <td>0.00</td>\n",
              "      <td>280.0</td>\n",
              "      <td>Ekonomiczna</td>\n",
              "    </tr>\n",
              "    <tr>\n",
              "      <th>4</th>\n",
              "      <td>Jeszcze nowsza Herbata</td>\n",
              "      <td>12.99</td>\n",
              "      <td>25.0</td>\n",
              "      <td>NaN</td>\n",
              "    </tr>\n",
              "  </tbody>\n",
              "</table>\n",
              "</div>"
            ],
            "text/plain": [
              "                  Produkt   Cena  Stan_magazyn        Klasa\n",
              "0                    Kawa  24.20          50.0      Premium\n",
              "1            Nowa Herbata  12.99          25.0          NaN\n",
              "3                    Woda   0.00         280.0  Ekonomiczna\n",
              "4  Jeszcze nowsza Herbata  12.99          25.0          NaN"
            ]
          },
          "execution_count": 105,
          "metadata": {},
          "output_type": "execute_result"
        }
      ],
      "source": [
        "# Usuwamy wiersz o indeksie 2\n",
        "df = df.drop(index=2)\n",
        "df\n"
      ]
    },
    {
      "cell_type": "markdown",
      "id": "149a91df",
      "metadata": {
        "id": "149a91df"
      },
      "source": [
        "## 9 Zadania praktyczne 📝\n",
        "Spróbuj samodzielnie wykonać poniższe ćwiczenia w nowym notatniku lub w osobnych komórkach.\n",
        "\n",
        "Poniżej jest kod, który wczytuje plik CSV z danymi sprzedaży (`sales_records.csv`), pamiętaj żeby umieścić go w katalogu roboczym w Colab lub na komputerze.\n",
        "\n",
        "Następnie wykonaj następujące zadania:\n",
        "\n",
        "1. **Podejrzyj dane**:\n",
        "   Wyświetl pierwsze 5 oraz ostatnie 3 wiersze danych.\n",
        "\n",
        "2. **Zarządzanie indeksem**:\n",
        "   Ustaw kolumnę „Order ID” jako indeks, a następnie zresetuj indeks do domyślnego.\n",
        "\n",
        "4. **Dostęp do danych**:\n",
        "   Odczytaj wartość kolumny „Country” z pierwszego wiersza. Następnie wyświetl wiersze od 10 do 14 oraz pierwsze trzy kolumny.\n",
        "\n",
        "5. **Filtrowanie danych**:\n",
        "   Znajdź wszystkie zamówienia, w których „Total Profit” przekracza 1000000 oraz region to „Europe”.\n",
        "\n",
        "6. **Tworzenie nowej kolumny**:\n",
        "   Oblicz procentową marżę zysku (Total Profit / Total Revenue \\* 100) i dodaj ją jako nową kolumnę.\n"
      ]
    },
    {
      "cell_type": "code",
      "execution_count": 106,
      "id": "kanmeAfjpfil",
      "metadata": {
        "id": "kanmeAfjpfil"
      },
      "outputs": [],
      "source": [
        "df = pd.read_csv('sales_records.csv')"
      ]
    },
    {
      "cell_type": "code",
      "execution_count": 107,
      "id": "X1mcX0X6vIPE",
      "metadata": {
        "colab": {
          "base_uri": "https://localhost:8080/",
          "height": 528
        },
        "id": "X1mcX0X6vIPE",
        "outputId": "6b54f77c-2901-4962-fbf9-8ced948d8aad"
      },
      "outputs": [
        {
          "data": {
            "text/html": [
              "<div>\n",
              "<style scoped>\n",
              "    .dataframe tbody tr th:only-of-type {\n",
              "        vertical-align: middle;\n",
              "    }\n",
              "\n",
              "    .dataframe tbody tr th {\n",
              "        vertical-align: top;\n",
              "    }\n",
              "\n",
              "    .dataframe thead th {\n",
              "        text-align: right;\n",
              "    }\n",
              "</style>\n",
              "<table border=\"1\" class=\"dataframe\">\n",
              "  <thead>\n",
              "    <tr style=\"text-align: right;\">\n",
              "      <th></th>\n",
              "      <th>Region</th>\n",
              "      <th>Country</th>\n",
              "      <th>Item Type</th>\n",
              "      <th>Sales Channel</th>\n",
              "      <th>Order Priority</th>\n",
              "      <th>Order Date</th>\n",
              "      <th>Order ID</th>\n",
              "      <th>Ship Date</th>\n",
              "      <th>Units Sold</th>\n",
              "      <th>Unit Price</th>\n",
              "      <th>Unit Cost</th>\n",
              "      <th>Total Revenue</th>\n",
              "      <th>Total Cost</th>\n",
              "      <th>Total Profit</th>\n",
              "    </tr>\n",
              "  </thead>\n",
              "  <tbody>\n",
              "    <tr>\n",
              "      <th>0</th>\n",
              "      <td>Australia and Oceania</td>\n",
              "      <td>Tuvalu</td>\n",
              "      <td>Baby Food</td>\n",
              "      <td>Offline</td>\n",
              "      <td>H</td>\n",
              "      <td>5/28/2010</td>\n",
              "      <td>669165933</td>\n",
              "      <td>6/27/2010</td>\n",
              "      <td>9925</td>\n",
              "      <td>255.28</td>\n",
              "      <td>159.42</td>\n",
              "      <td>2533654.00</td>\n",
              "      <td>1582243.50</td>\n",
              "      <td>951410.50</td>\n",
              "    </tr>\n",
              "    <tr>\n",
              "      <th>1</th>\n",
              "      <td>Central America and the Caribbean</td>\n",
              "      <td>Grenada</td>\n",
              "      <td>Cereal</td>\n",
              "      <td>Online</td>\n",
              "      <td>C</td>\n",
              "      <td>8/22/2012</td>\n",
              "      <td>963881480</td>\n",
              "      <td>9/15/2012</td>\n",
              "      <td>2804</td>\n",
              "      <td>205.70</td>\n",
              "      <td>117.11</td>\n",
              "      <td>576782.80</td>\n",
              "      <td>328376.44</td>\n",
              "      <td>248406.36</td>\n",
              "    </tr>\n",
              "    <tr>\n",
              "      <th>2</th>\n",
              "      <td>Europe</td>\n",
              "      <td>Russia</td>\n",
              "      <td>Office Supplies</td>\n",
              "      <td>Offline</td>\n",
              "      <td>L</td>\n",
              "      <td>5/2/2014</td>\n",
              "      <td>341417157</td>\n",
              "      <td>5/8/2014</td>\n",
              "      <td>1779</td>\n",
              "      <td>651.21</td>\n",
              "      <td>524.96</td>\n",
              "      <td>1158502.59</td>\n",
              "      <td>933903.84</td>\n",
              "      <td>224598.75</td>\n",
              "    </tr>\n",
              "    <tr>\n",
              "      <th>3</th>\n",
              "      <td>Sub-Saharan Africa</td>\n",
              "      <td>Sao Tome and Principe</td>\n",
              "      <td>Fruits</td>\n",
              "      <td>Online</td>\n",
              "      <td>C</td>\n",
              "      <td>6/20/2014</td>\n",
              "      <td>514321792</td>\n",
              "      <td>7/5/2014</td>\n",
              "      <td>8102</td>\n",
              "      <td>9.33</td>\n",
              "      <td>6.92</td>\n",
              "      <td>75591.66</td>\n",
              "      <td>56065.84</td>\n",
              "      <td>19525.82</td>\n",
              "    </tr>\n",
              "    <tr>\n",
              "      <th>4</th>\n",
              "      <td>Sub-Saharan Africa</td>\n",
              "      <td>Rwanda</td>\n",
              "      <td>Office Supplies</td>\n",
              "      <td>Offline</td>\n",
              "      <td>L</td>\n",
              "      <td>2/1/2013</td>\n",
              "      <td>115456712</td>\n",
              "      <td>2/6/2013</td>\n",
              "      <td>5062</td>\n",
              "      <td>651.21</td>\n",
              "      <td>524.96</td>\n",
              "      <td>3296425.02</td>\n",
              "      <td>2657347.52</td>\n",
              "      <td>639077.50</td>\n",
              "    </tr>\n",
              "    <tr>\n",
              "      <th>...</th>\n",
              "      <td>...</td>\n",
              "      <td>...</td>\n",
              "      <td>...</td>\n",
              "      <td>...</td>\n",
              "      <td>...</td>\n",
              "      <td>...</td>\n",
              "      <td>...</td>\n",
              "      <td>...</td>\n",
              "      <td>...</td>\n",
              "      <td>...</td>\n",
              "      <td>...</td>\n",
              "      <td>...</td>\n",
              "      <td>...</td>\n",
              "      <td>...</td>\n",
              "    </tr>\n",
              "    <tr>\n",
              "      <th>95</th>\n",
              "      <td>Sub-Saharan Africa</td>\n",
              "      <td>Mali</td>\n",
              "      <td>Clothes</td>\n",
              "      <td>Online</td>\n",
              "      <td>M</td>\n",
              "      <td>7/26/2011</td>\n",
              "      <td>512878119</td>\n",
              "      <td>9/3/2011</td>\n",
              "      <td>888</td>\n",
              "      <td>109.28</td>\n",
              "      <td>35.84</td>\n",
              "      <td>97040.64</td>\n",
              "      <td>31825.92</td>\n",
              "      <td>65214.72</td>\n",
              "    </tr>\n",
              "    <tr>\n",
              "      <th>96</th>\n",
              "      <td>Asia</td>\n",
              "      <td>Malaysia</td>\n",
              "      <td>Fruits</td>\n",
              "      <td>Offline</td>\n",
              "      <td>L</td>\n",
              "      <td>11/11/2011</td>\n",
              "      <td>810711038</td>\n",
              "      <td>12/28/2011</td>\n",
              "      <td>6267</td>\n",
              "      <td>9.33</td>\n",
              "      <td>6.92</td>\n",
              "      <td>58471.11</td>\n",
              "      <td>43367.64</td>\n",
              "      <td>15103.47</td>\n",
              "    </tr>\n",
              "    <tr>\n",
              "      <th>97</th>\n",
              "      <td>Sub-Saharan Africa</td>\n",
              "      <td>Sierra Leone</td>\n",
              "      <td>Vegetables</td>\n",
              "      <td>Offline</td>\n",
              "      <td>C</td>\n",
              "      <td>6/1/2016</td>\n",
              "      <td>728815257</td>\n",
              "      <td>6/29/2016</td>\n",
              "      <td>1485</td>\n",
              "      <td>154.06</td>\n",
              "      <td>90.93</td>\n",
              "      <td>228779.10</td>\n",
              "      <td>135031.05</td>\n",
              "      <td>93748.05</td>\n",
              "    </tr>\n",
              "    <tr>\n",
              "      <th>98</th>\n",
              "      <td>North America</td>\n",
              "      <td>Mexico</td>\n",
              "      <td>Personal Care</td>\n",
              "      <td>Offline</td>\n",
              "      <td>M</td>\n",
              "      <td>7/30/2015</td>\n",
              "      <td>559427106</td>\n",
              "      <td>8/8/2015</td>\n",
              "      <td>5767</td>\n",
              "      <td>81.73</td>\n",
              "      <td>56.67</td>\n",
              "      <td>471336.91</td>\n",
              "      <td>326815.89</td>\n",
              "      <td>144521.02</td>\n",
              "    </tr>\n",
              "    <tr>\n",
              "      <th>99</th>\n",
              "      <td>Sub-Saharan Africa</td>\n",
              "      <td>Mozambique</td>\n",
              "      <td>Household</td>\n",
              "      <td>Offline</td>\n",
              "      <td>L</td>\n",
              "      <td>2/10/2012</td>\n",
              "      <td>665095412</td>\n",
              "      <td>2/15/2012</td>\n",
              "      <td>5367</td>\n",
              "      <td>668.27</td>\n",
              "      <td>502.54</td>\n",
              "      <td>3586605.09</td>\n",
              "      <td>2697132.18</td>\n",
              "      <td>889472.91</td>\n",
              "    </tr>\n",
              "  </tbody>\n",
              "</table>\n",
              "<p>100 rows × 14 columns</p>\n",
              "</div>"
            ],
            "text/plain": [
              "                               Region                Country        Item Type  \\\n",
              "0               Australia and Oceania                 Tuvalu        Baby Food   \n",
              "1   Central America and the Caribbean                Grenada           Cereal   \n",
              "2                              Europe                 Russia  Office Supplies   \n",
              "3                  Sub-Saharan Africa  Sao Tome and Principe           Fruits   \n",
              "4                  Sub-Saharan Africa                 Rwanda  Office Supplies   \n",
              "..                                ...                    ...              ...   \n",
              "95                 Sub-Saharan Africa                   Mali          Clothes   \n",
              "96                               Asia               Malaysia           Fruits   \n",
              "97                 Sub-Saharan Africa           Sierra Leone       Vegetables   \n",
              "98                      North America                 Mexico    Personal Care   \n",
              "99                 Sub-Saharan Africa             Mozambique        Household   \n",
              "\n",
              "   Sales Channel Order Priority  Order Date   Order ID   Ship Date  \\\n",
              "0        Offline              H   5/28/2010  669165933   6/27/2010   \n",
              "1         Online              C   8/22/2012  963881480   9/15/2012   \n",
              "2        Offline              L    5/2/2014  341417157    5/8/2014   \n",
              "3         Online              C   6/20/2014  514321792    7/5/2014   \n",
              "4        Offline              L    2/1/2013  115456712    2/6/2013   \n",
              "..           ...            ...         ...        ...         ...   \n",
              "95        Online              M   7/26/2011  512878119    9/3/2011   \n",
              "96       Offline              L  11/11/2011  810711038  12/28/2011   \n",
              "97       Offline              C    6/1/2016  728815257   6/29/2016   \n",
              "98       Offline              M   7/30/2015  559427106    8/8/2015   \n",
              "99       Offline              L   2/10/2012  665095412   2/15/2012   \n",
              "\n",
              "    Units Sold  Unit Price  Unit Cost  Total Revenue  Total Cost  Total Profit  \n",
              "0         9925      255.28     159.42     2533654.00  1582243.50     951410.50  \n",
              "1         2804      205.70     117.11      576782.80   328376.44     248406.36  \n",
              "2         1779      651.21     524.96     1158502.59   933903.84     224598.75  \n",
              "3         8102        9.33       6.92       75591.66    56065.84      19525.82  \n",
              "4         5062      651.21     524.96     3296425.02  2657347.52     639077.50  \n",
              "..         ...         ...        ...            ...         ...           ...  \n",
              "95         888      109.28      35.84       97040.64    31825.92      65214.72  \n",
              "96        6267        9.33       6.92       58471.11    43367.64      15103.47  \n",
              "97        1485      154.06      90.93      228779.10   135031.05      93748.05  \n",
              "98        5767       81.73      56.67      471336.91   326815.89     144521.02  \n",
              "99        5367      668.27     502.54     3586605.09  2697132.18     889472.91  \n",
              "\n",
              "[100 rows x 14 columns]"
            ]
          },
          "execution_count": 107,
          "metadata": {},
          "output_type": "execute_result"
        }
      ],
      "source": [
        "df"
      ]
    },
    {
      "cell_type": "code",
      "execution_count": 111,
      "id": "38ypDtKXvIew",
      "metadata": {
        "id": "38ypDtKXvIew"
      },
      "outputs": [
        {
          "data": {
            "text/html": [
              "<div>\n",
              "<style scoped>\n",
              "    .dataframe tbody tr th:only-of-type {\n",
              "        vertical-align: middle;\n",
              "    }\n",
              "\n",
              "    .dataframe tbody tr th {\n",
              "        vertical-align: top;\n",
              "    }\n",
              "\n",
              "    .dataframe thead th {\n",
              "        text-align: right;\n",
              "    }\n",
              "</style>\n",
              "<table border=\"1\" class=\"dataframe\">\n",
              "  <thead>\n",
              "    <tr style=\"text-align: right;\">\n",
              "      <th></th>\n",
              "      <th>Region</th>\n",
              "      <th>Country</th>\n",
              "      <th>Item Type</th>\n",
              "      <th>Sales Channel</th>\n",
              "      <th>Order Priority</th>\n",
              "      <th>Order Date</th>\n",
              "      <th>Order ID</th>\n",
              "      <th>Ship Date</th>\n",
              "      <th>Units Sold</th>\n",
              "      <th>Unit Price</th>\n",
              "      <th>Unit Cost</th>\n",
              "      <th>Total Revenue</th>\n",
              "      <th>Total Cost</th>\n",
              "      <th>Total Profit</th>\n",
              "    </tr>\n",
              "  </thead>\n",
              "  <tbody>\n",
              "    <tr>\n",
              "      <th>0</th>\n",
              "      <td>Australia and Oceania</td>\n",
              "      <td>Tuvalu</td>\n",
              "      <td>Baby Food</td>\n",
              "      <td>Offline</td>\n",
              "      <td>H</td>\n",
              "      <td>5/28/2010</td>\n",
              "      <td>669165933</td>\n",
              "      <td>6/27/2010</td>\n",
              "      <td>9925</td>\n",
              "      <td>255.28</td>\n",
              "      <td>159.42</td>\n",
              "      <td>2533654.00</td>\n",
              "      <td>1582243.50</td>\n",
              "      <td>951410.50</td>\n",
              "    </tr>\n",
              "    <tr>\n",
              "      <th>1</th>\n",
              "      <td>Central America and the Caribbean</td>\n",
              "      <td>Grenada</td>\n",
              "      <td>Cereal</td>\n",
              "      <td>Online</td>\n",
              "      <td>C</td>\n",
              "      <td>8/22/2012</td>\n",
              "      <td>963881480</td>\n",
              "      <td>9/15/2012</td>\n",
              "      <td>2804</td>\n",
              "      <td>205.70</td>\n",
              "      <td>117.11</td>\n",
              "      <td>576782.80</td>\n",
              "      <td>328376.44</td>\n",
              "      <td>248406.36</td>\n",
              "    </tr>\n",
              "    <tr>\n",
              "      <th>2</th>\n",
              "      <td>Europe</td>\n",
              "      <td>Russia</td>\n",
              "      <td>Office Supplies</td>\n",
              "      <td>Offline</td>\n",
              "      <td>L</td>\n",
              "      <td>5/2/2014</td>\n",
              "      <td>341417157</td>\n",
              "      <td>5/8/2014</td>\n",
              "      <td>1779</td>\n",
              "      <td>651.21</td>\n",
              "      <td>524.96</td>\n",
              "      <td>1158502.59</td>\n",
              "      <td>933903.84</td>\n",
              "      <td>224598.75</td>\n",
              "    </tr>\n",
              "    <tr>\n",
              "      <th>3</th>\n",
              "      <td>Sub-Saharan Africa</td>\n",
              "      <td>Sao Tome and Principe</td>\n",
              "      <td>Fruits</td>\n",
              "      <td>Online</td>\n",
              "      <td>C</td>\n",
              "      <td>6/20/2014</td>\n",
              "      <td>514321792</td>\n",
              "      <td>7/5/2014</td>\n",
              "      <td>8102</td>\n",
              "      <td>9.33</td>\n",
              "      <td>6.92</td>\n",
              "      <td>75591.66</td>\n",
              "      <td>56065.84</td>\n",
              "      <td>19525.82</td>\n",
              "    </tr>\n",
              "    <tr>\n",
              "      <th>4</th>\n",
              "      <td>Sub-Saharan Africa</td>\n",
              "      <td>Rwanda</td>\n",
              "      <td>Office Supplies</td>\n",
              "      <td>Offline</td>\n",
              "      <td>L</td>\n",
              "      <td>2/1/2013</td>\n",
              "      <td>115456712</td>\n",
              "      <td>2/6/2013</td>\n",
              "      <td>5062</td>\n",
              "      <td>651.21</td>\n",
              "      <td>524.96</td>\n",
              "      <td>3296425.02</td>\n",
              "      <td>2657347.52</td>\n",
              "      <td>639077.50</td>\n",
              "    </tr>\n",
              "  </tbody>\n",
              "</table>\n",
              "</div>"
            ],
            "text/plain": [
              "                              Region                Country        Item Type  \\\n",
              "0              Australia and Oceania                 Tuvalu        Baby Food   \n",
              "1  Central America and the Caribbean                Grenada           Cereal   \n",
              "2                             Europe                 Russia  Office Supplies   \n",
              "3                 Sub-Saharan Africa  Sao Tome and Principe           Fruits   \n",
              "4                 Sub-Saharan Africa                 Rwanda  Office Supplies   \n",
              "\n",
              "  Sales Channel Order Priority Order Date   Order ID  Ship Date  Units Sold  \\\n",
              "0       Offline              H  5/28/2010  669165933  6/27/2010        9925   \n",
              "1        Online              C  8/22/2012  963881480  9/15/2012        2804   \n",
              "2       Offline              L   5/2/2014  341417157   5/8/2014        1779   \n",
              "3        Online              C  6/20/2014  514321792   7/5/2014        8102   \n",
              "4       Offline              L   2/1/2013  115456712   2/6/2013        5062   \n",
              "\n",
              "   Unit Price  Unit Cost  Total Revenue  Total Cost  Total Profit  \n",
              "0      255.28     159.42     2533654.00  1582243.50     951410.50  \n",
              "1      205.70     117.11      576782.80   328376.44     248406.36  \n",
              "2      651.21     524.96     1158502.59   933903.84     224598.75  \n",
              "3        9.33       6.92       75591.66    56065.84      19525.82  \n",
              "4      651.21     524.96     3296425.02  2657347.52     639077.50  "
            ]
          },
          "metadata": {},
          "output_type": "display_data"
        },
        {
          "data": {
            "text/html": [
              "<div>\n",
              "<style scoped>\n",
              "    .dataframe tbody tr th:only-of-type {\n",
              "        vertical-align: middle;\n",
              "    }\n",
              "\n",
              "    .dataframe tbody tr th {\n",
              "        vertical-align: top;\n",
              "    }\n",
              "\n",
              "    .dataframe thead th {\n",
              "        text-align: right;\n",
              "    }\n",
              "</style>\n",
              "<table border=\"1\" class=\"dataframe\">\n",
              "  <thead>\n",
              "    <tr style=\"text-align: right;\">\n",
              "      <th></th>\n",
              "      <th>Region</th>\n",
              "      <th>Country</th>\n",
              "      <th>Item Type</th>\n",
              "      <th>Sales Channel</th>\n",
              "      <th>Order Priority</th>\n",
              "      <th>Order Date</th>\n",
              "      <th>Order ID</th>\n",
              "      <th>Ship Date</th>\n",
              "      <th>Units Sold</th>\n",
              "      <th>Unit Price</th>\n",
              "      <th>Unit Cost</th>\n",
              "      <th>Total Revenue</th>\n",
              "      <th>Total Cost</th>\n",
              "      <th>Total Profit</th>\n",
              "    </tr>\n",
              "  </thead>\n",
              "  <tbody>\n",
              "    <tr>\n",
              "      <th>97</th>\n",
              "      <td>Sub-Saharan Africa</td>\n",
              "      <td>Sierra Leone</td>\n",
              "      <td>Vegetables</td>\n",
              "      <td>Offline</td>\n",
              "      <td>C</td>\n",
              "      <td>6/1/2016</td>\n",
              "      <td>728815257</td>\n",
              "      <td>6/29/2016</td>\n",
              "      <td>1485</td>\n",
              "      <td>154.06</td>\n",
              "      <td>90.93</td>\n",
              "      <td>228779.10</td>\n",
              "      <td>135031.05</td>\n",
              "      <td>93748.05</td>\n",
              "    </tr>\n",
              "    <tr>\n",
              "      <th>98</th>\n",
              "      <td>North America</td>\n",
              "      <td>Mexico</td>\n",
              "      <td>Personal Care</td>\n",
              "      <td>Offline</td>\n",
              "      <td>M</td>\n",
              "      <td>7/30/2015</td>\n",
              "      <td>559427106</td>\n",
              "      <td>8/8/2015</td>\n",
              "      <td>5767</td>\n",
              "      <td>81.73</td>\n",
              "      <td>56.67</td>\n",
              "      <td>471336.91</td>\n",
              "      <td>326815.89</td>\n",
              "      <td>144521.02</td>\n",
              "    </tr>\n",
              "    <tr>\n",
              "      <th>99</th>\n",
              "      <td>Sub-Saharan Africa</td>\n",
              "      <td>Mozambique</td>\n",
              "      <td>Household</td>\n",
              "      <td>Offline</td>\n",
              "      <td>L</td>\n",
              "      <td>2/10/2012</td>\n",
              "      <td>665095412</td>\n",
              "      <td>2/15/2012</td>\n",
              "      <td>5367</td>\n",
              "      <td>668.27</td>\n",
              "      <td>502.54</td>\n",
              "      <td>3586605.09</td>\n",
              "      <td>2697132.18</td>\n",
              "      <td>889472.91</td>\n",
              "    </tr>\n",
              "  </tbody>\n",
              "</table>\n",
              "</div>"
            ],
            "text/plain": [
              "                Region       Country      Item Type Sales Channel  \\\n",
              "97  Sub-Saharan Africa  Sierra Leone     Vegetables       Offline   \n",
              "98       North America        Mexico  Personal Care       Offline   \n",
              "99  Sub-Saharan Africa    Mozambique      Household       Offline   \n",
              "\n",
              "   Order Priority Order Date   Order ID  Ship Date  Units Sold  Unit Price  \\\n",
              "97              C   6/1/2016  728815257  6/29/2016        1485      154.06   \n",
              "98              M  7/30/2015  559427106   8/8/2015        5767       81.73   \n",
              "99              L  2/10/2012  665095412  2/15/2012        5367      668.27   \n",
              "\n",
              "    Unit Cost  Total Revenue  Total Cost  Total Profit  \n",
              "97      90.93      228779.10   135031.05      93748.05  \n",
              "98      56.67      471336.91   326815.89     144521.02  \n",
              "99     502.54     3586605.09  2697132.18     889472.91  "
            ]
          },
          "metadata": {},
          "output_type": "display_data"
        }
      ],
      "source": [
        "# Zadanie 1:  Wyświetl pierwsze 5 oraz ostatnie 3 wiersze danych.\n",
        "display(df.head())\n",
        "display(df.tail(3))"
      ]
    },
    {
      "cell_type": "code",
      "execution_count": 129,
      "id": "fecd8c1d",
      "metadata": {},
      "outputs": [
        {
          "data": {
            "text/html": [
              "<div>\n",
              "<style scoped>\n",
              "    .dataframe tbody tr th:only-of-type {\n",
              "        vertical-align: middle;\n",
              "    }\n",
              "\n",
              "    .dataframe tbody tr th {\n",
              "        vertical-align: top;\n",
              "    }\n",
              "\n",
              "    .dataframe thead th {\n",
              "        text-align: right;\n",
              "    }\n",
              "</style>\n",
              "<table border=\"1\" class=\"dataframe\">\n",
              "  <thead>\n",
              "    <tr style=\"text-align: right;\">\n",
              "      <th></th>\n",
              "      <th>index</th>\n",
              "      <th>Region</th>\n",
              "      <th>Country</th>\n",
              "      <th>Item Type</th>\n",
              "      <th>Sales Channel</th>\n",
              "      <th>Order Priority</th>\n",
              "      <th>Order Date</th>\n",
              "      <th>Ship Date</th>\n",
              "      <th>Units Sold</th>\n",
              "      <th>Unit Price</th>\n",
              "      <th>Unit Cost</th>\n",
              "      <th>Total Revenue</th>\n",
              "      <th>Total Cost</th>\n",
              "      <th>Total Profit</th>\n",
              "    </tr>\n",
              "    <tr>\n",
              "      <th>Order ID</th>\n",
              "      <th></th>\n",
              "      <th></th>\n",
              "      <th></th>\n",
              "      <th></th>\n",
              "      <th></th>\n",
              "      <th></th>\n",
              "      <th></th>\n",
              "      <th></th>\n",
              "      <th></th>\n",
              "      <th></th>\n",
              "      <th></th>\n",
              "      <th></th>\n",
              "      <th></th>\n",
              "      <th></th>\n",
              "    </tr>\n",
              "  </thead>\n",
              "  <tbody>\n",
              "    <tr>\n",
              "      <th>669165933</th>\n",
              "      <td>0</td>\n",
              "      <td>Australia and Oceania</td>\n",
              "      <td>Tuvalu</td>\n",
              "      <td>Baby Food</td>\n",
              "      <td>Offline</td>\n",
              "      <td>H</td>\n",
              "      <td>5/28/2010</td>\n",
              "      <td>6/27/2010</td>\n",
              "      <td>9925</td>\n",
              "      <td>255.28</td>\n",
              "      <td>159.42</td>\n",
              "      <td>2533654.00</td>\n",
              "      <td>1582243.50</td>\n",
              "      <td>951410.50</td>\n",
              "    </tr>\n",
              "    <tr>\n",
              "      <th>963881480</th>\n",
              "      <td>1</td>\n",
              "      <td>Central America and the Caribbean</td>\n",
              "      <td>Grenada</td>\n",
              "      <td>Cereal</td>\n",
              "      <td>Online</td>\n",
              "      <td>C</td>\n",
              "      <td>8/22/2012</td>\n",
              "      <td>9/15/2012</td>\n",
              "      <td>2804</td>\n",
              "      <td>205.70</td>\n",
              "      <td>117.11</td>\n",
              "      <td>576782.80</td>\n",
              "      <td>328376.44</td>\n",
              "      <td>248406.36</td>\n",
              "    </tr>\n",
              "    <tr>\n",
              "      <th>341417157</th>\n",
              "      <td>2</td>\n",
              "      <td>Europe</td>\n",
              "      <td>Russia</td>\n",
              "      <td>Office Supplies</td>\n",
              "      <td>Offline</td>\n",
              "      <td>L</td>\n",
              "      <td>5/2/2014</td>\n",
              "      <td>5/8/2014</td>\n",
              "      <td>1779</td>\n",
              "      <td>651.21</td>\n",
              "      <td>524.96</td>\n",
              "      <td>1158502.59</td>\n",
              "      <td>933903.84</td>\n",
              "      <td>224598.75</td>\n",
              "    </tr>\n",
              "    <tr>\n",
              "      <th>514321792</th>\n",
              "      <td>3</td>\n",
              "      <td>Sub-Saharan Africa</td>\n",
              "      <td>Sao Tome and Principe</td>\n",
              "      <td>Fruits</td>\n",
              "      <td>Online</td>\n",
              "      <td>C</td>\n",
              "      <td>6/20/2014</td>\n",
              "      <td>7/5/2014</td>\n",
              "      <td>8102</td>\n",
              "      <td>9.33</td>\n",
              "      <td>6.92</td>\n",
              "      <td>75591.66</td>\n",
              "      <td>56065.84</td>\n",
              "      <td>19525.82</td>\n",
              "    </tr>\n",
              "    <tr>\n",
              "      <th>115456712</th>\n",
              "      <td>4</td>\n",
              "      <td>Sub-Saharan Africa</td>\n",
              "      <td>Rwanda</td>\n",
              "      <td>Office Supplies</td>\n",
              "      <td>Offline</td>\n",
              "      <td>L</td>\n",
              "      <td>2/1/2013</td>\n",
              "      <td>2/6/2013</td>\n",
              "      <td>5062</td>\n",
              "      <td>651.21</td>\n",
              "      <td>524.96</td>\n",
              "      <td>3296425.02</td>\n",
              "      <td>2657347.52</td>\n",
              "      <td>639077.50</td>\n",
              "    </tr>\n",
              "    <tr>\n",
              "      <th>...</th>\n",
              "      <td>...</td>\n",
              "      <td>...</td>\n",
              "      <td>...</td>\n",
              "      <td>...</td>\n",
              "      <td>...</td>\n",
              "      <td>...</td>\n",
              "      <td>...</td>\n",
              "      <td>...</td>\n",
              "      <td>...</td>\n",
              "      <td>...</td>\n",
              "      <td>...</td>\n",
              "      <td>...</td>\n",
              "      <td>...</td>\n",
              "      <td>...</td>\n",
              "    </tr>\n",
              "    <tr>\n",
              "      <th>512878119</th>\n",
              "      <td>95</td>\n",
              "      <td>Sub-Saharan Africa</td>\n",
              "      <td>Mali</td>\n",
              "      <td>Clothes</td>\n",
              "      <td>Online</td>\n",
              "      <td>M</td>\n",
              "      <td>7/26/2011</td>\n",
              "      <td>9/3/2011</td>\n",
              "      <td>888</td>\n",
              "      <td>109.28</td>\n",
              "      <td>35.84</td>\n",
              "      <td>97040.64</td>\n",
              "      <td>31825.92</td>\n",
              "      <td>65214.72</td>\n",
              "    </tr>\n",
              "    <tr>\n",
              "      <th>810711038</th>\n",
              "      <td>96</td>\n",
              "      <td>Asia</td>\n",
              "      <td>Malaysia</td>\n",
              "      <td>Fruits</td>\n",
              "      <td>Offline</td>\n",
              "      <td>L</td>\n",
              "      <td>11/11/2011</td>\n",
              "      <td>12/28/2011</td>\n",
              "      <td>6267</td>\n",
              "      <td>9.33</td>\n",
              "      <td>6.92</td>\n",
              "      <td>58471.11</td>\n",
              "      <td>43367.64</td>\n",
              "      <td>15103.47</td>\n",
              "    </tr>\n",
              "    <tr>\n",
              "      <th>728815257</th>\n",
              "      <td>97</td>\n",
              "      <td>Sub-Saharan Africa</td>\n",
              "      <td>Sierra Leone</td>\n",
              "      <td>Vegetables</td>\n",
              "      <td>Offline</td>\n",
              "      <td>C</td>\n",
              "      <td>6/1/2016</td>\n",
              "      <td>6/29/2016</td>\n",
              "      <td>1485</td>\n",
              "      <td>154.06</td>\n",
              "      <td>90.93</td>\n",
              "      <td>228779.10</td>\n",
              "      <td>135031.05</td>\n",
              "      <td>93748.05</td>\n",
              "    </tr>\n",
              "    <tr>\n",
              "      <th>559427106</th>\n",
              "      <td>98</td>\n",
              "      <td>North America</td>\n",
              "      <td>Mexico</td>\n",
              "      <td>Personal Care</td>\n",
              "      <td>Offline</td>\n",
              "      <td>M</td>\n",
              "      <td>7/30/2015</td>\n",
              "      <td>8/8/2015</td>\n",
              "      <td>5767</td>\n",
              "      <td>81.73</td>\n",
              "      <td>56.67</td>\n",
              "      <td>471336.91</td>\n",
              "      <td>326815.89</td>\n",
              "      <td>144521.02</td>\n",
              "    </tr>\n",
              "    <tr>\n",
              "      <th>665095412</th>\n",
              "      <td>99</td>\n",
              "      <td>Sub-Saharan Africa</td>\n",
              "      <td>Mozambique</td>\n",
              "      <td>Household</td>\n",
              "      <td>Offline</td>\n",
              "      <td>L</td>\n",
              "      <td>2/10/2012</td>\n",
              "      <td>2/15/2012</td>\n",
              "      <td>5367</td>\n",
              "      <td>668.27</td>\n",
              "      <td>502.54</td>\n",
              "      <td>3586605.09</td>\n",
              "      <td>2697132.18</td>\n",
              "      <td>889472.91</td>\n",
              "    </tr>\n",
              "  </tbody>\n",
              "</table>\n",
              "<p>100 rows × 14 columns</p>\n",
              "</div>"
            ],
            "text/plain": [
              "           index                             Region                Country  \\\n",
              "Order ID                                                                     \n",
              "669165933      0              Australia and Oceania                 Tuvalu   \n",
              "963881480      1  Central America and the Caribbean                Grenada   \n",
              "341417157      2                             Europe                 Russia   \n",
              "514321792      3                 Sub-Saharan Africa  Sao Tome and Principe   \n",
              "115456712      4                 Sub-Saharan Africa                 Rwanda   \n",
              "...          ...                                ...                    ...   \n",
              "512878119     95                 Sub-Saharan Africa                   Mali   \n",
              "810711038     96                               Asia               Malaysia   \n",
              "728815257     97                 Sub-Saharan Africa           Sierra Leone   \n",
              "559427106     98                      North America                 Mexico   \n",
              "665095412     99                 Sub-Saharan Africa             Mozambique   \n",
              "\n",
              "                 Item Type Sales Channel Order Priority  Order Date  \\\n",
              "Order ID                                                              \n",
              "669165933        Baby Food       Offline              H   5/28/2010   \n",
              "963881480           Cereal        Online              C   8/22/2012   \n",
              "341417157  Office Supplies       Offline              L    5/2/2014   \n",
              "514321792           Fruits        Online              C   6/20/2014   \n",
              "115456712  Office Supplies       Offline              L    2/1/2013   \n",
              "...                    ...           ...            ...         ...   \n",
              "512878119          Clothes        Online              M   7/26/2011   \n",
              "810711038           Fruits       Offline              L  11/11/2011   \n",
              "728815257       Vegetables       Offline              C    6/1/2016   \n",
              "559427106    Personal Care       Offline              M   7/30/2015   \n",
              "665095412        Household       Offline              L   2/10/2012   \n",
              "\n",
              "            Ship Date  Units Sold  Unit Price  Unit Cost  Total Revenue  \\\n",
              "Order ID                                                                  \n",
              "669165933   6/27/2010        9925      255.28     159.42     2533654.00   \n",
              "963881480   9/15/2012        2804      205.70     117.11      576782.80   \n",
              "341417157    5/8/2014        1779      651.21     524.96     1158502.59   \n",
              "514321792    7/5/2014        8102        9.33       6.92       75591.66   \n",
              "115456712    2/6/2013        5062      651.21     524.96     3296425.02   \n",
              "...               ...         ...         ...        ...            ...   \n",
              "512878119    9/3/2011         888      109.28      35.84       97040.64   \n",
              "810711038  12/28/2011        6267        9.33       6.92       58471.11   \n",
              "728815257   6/29/2016        1485      154.06      90.93      228779.10   \n",
              "559427106    8/8/2015        5767       81.73      56.67      471336.91   \n",
              "665095412   2/15/2012        5367      668.27     502.54     3586605.09   \n",
              "\n",
              "           Total Cost  Total Profit  \n",
              "Order ID                             \n",
              "669165933  1582243.50     951410.50  \n",
              "963881480   328376.44     248406.36  \n",
              "341417157   933903.84     224598.75  \n",
              "514321792    56065.84      19525.82  \n",
              "115456712  2657347.52     639077.50  \n",
              "...               ...           ...  \n",
              "512878119    31825.92      65214.72  \n",
              "810711038    43367.64      15103.47  \n",
              "728815257   135031.05      93748.05  \n",
              "559427106   326815.89     144521.02  \n",
              "665095412  2697132.18     889472.91  \n",
              "\n",
              "[100 rows x 14 columns]"
            ]
          },
          "metadata": {},
          "output_type": "display_data"
        },
        {
          "data": {
            "text/html": [
              "<div>\n",
              "<style scoped>\n",
              "    .dataframe tbody tr th:only-of-type {\n",
              "        vertical-align: middle;\n",
              "    }\n",
              "\n",
              "    .dataframe tbody tr th {\n",
              "        vertical-align: top;\n",
              "    }\n",
              "\n",
              "    .dataframe thead th {\n",
              "        text-align: right;\n",
              "    }\n",
              "</style>\n",
              "<table border=\"1\" class=\"dataframe\">\n",
              "  <thead>\n",
              "    <tr style=\"text-align: right;\">\n",
              "      <th></th>\n",
              "      <th>Order ID</th>\n",
              "      <th>index</th>\n",
              "      <th>Region</th>\n",
              "      <th>Country</th>\n",
              "      <th>Item Type</th>\n",
              "      <th>Sales Channel</th>\n",
              "      <th>Order Priority</th>\n",
              "      <th>Order Date</th>\n",
              "      <th>Ship Date</th>\n",
              "      <th>Units Sold</th>\n",
              "      <th>Unit Price</th>\n",
              "      <th>Unit Cost</th>\n",
              "      <th>Total Revenue</th>\n",
              "      <th>Total Cost</th>\n",
              "      <th>Total Profit</th>\n",
              "    </tr>\n",
              "  </thead>\n",
              "  <tbody>\n",
              "    <tr>\n",
              "      <th>0</th>\n",
              "      <td>669165933</td>\n",
              "      <td>0</td>\n",
              "      <td>Australia and Oceania</td>\n",
              "      <td>Tuvalu</td>\n",
              "      <td>Baby Food</td>\n",
              "      <td>Offline</td>\n",
              "      <td>H</td>\n",
              "      <td>5/28/2010</td>\n",
              "      <td>6/27/2010</td>\n",
              "      <td>9925</td>\n",
              "      <td>255.28</td>\n",
              "      <td>159.42</td>\n",
              "      <td>2533654.00</td>\n",
              "      <td>1582243.50</td>\n",
              "      <td>951410.50</td>\n",
              "    </tr>\n",
              "    <tr>\n",
              "      <th>1</th>\n",
              "      <td>963881480</td>\n",
              "      <td>1</td>\n",
              "      <td>Central America and the Caribbean</td>\n",
              "      <td>Grenada</td>\n",
              "      <td>Cereal</td>\n",
              "      <td>Online</td>\n",
              "      <td>C</td>\n",
              "      <td>8/22/2012</td>\n",
              "      <td>9/15/2012</td>\n",
              "      <td>2804</td>\n",
              "      <td>205.70</td>\n",
              "      <td>117.11</td>\n",
              "      <td>576782.80</td>\n",
              "      <td>328376.44</td>\n",
              "      <td>248406.36</td>\n",
              "    </tr>\n",
              "    <tr>\n",
              "      <th>2</th>\n",
              "      <td>341417157</td>\n",
              "      <td>2</td>\n",
              "      <td>Europe</td>\n",
              "      <td>Russia</td>\n",
              "      <td>Office Supplies</td>\n",
              "      <td>Offline</td>\n",
              "      <td>L</td>\n",
              "      <td>5/2/2014</td>\n",
              "      <td>5/8/2014</td>\n",
              "      <td>1779</td>\n",
              "      <td>651.21</td>\n",
              "      <td>524.96</td>\n",
              "      <td>1158502.59</td>\n",
              "      <td>933903.84</td>\n",
              "      <td>224598.75</td>\n",
              "    </tr>\n",
              "    <tr>\n",
              "      <th>3</th>\n",
              "      <td>514321792</td>\n",
              "      <td>3</td>\n",
              "      <td>Sub-Saharan Africa</td>\n",
              "      <td>Sao Tome and Principe</td>\n",
              "      <td>Fruits</td>\n",
              "      <td>Online</td>\n",
              "      <td>C</td>\n",
              "      <td>6/20/2014</td>\n",
              "      <td>7/5/2014</td>\n",
              "      <td>8102</td>\n",
              "      <td>9.33</td>\n",
              "      <td>6.92</td>\n",
              "      <td>75591.66</td>\n",
              "      <td>56065.84</td>\n",
              "      <td>19525.82</td>\n",
              "    </tr>\n",
              "    <tr>\n",
              "      <th>4</th>\n",
              "      <td>115456712</td>\n",
              "      <td>4</td>\n",
              "      <td>Sub-Saharan Africa</td>\n",
              "      <td>Rwanda</td>\n",
              "      <td>Office Supplies</td>\n",
              "      <td>Offline</td>\n",
              "      <td>L</td>\n",
              "      <td>2/1/2013</td>\n",
              "      <td>2/6/2013</td>\n",
              "      <td>5062</td>\n",
              "      <td>651.21</td>\n",
              "      <td>524.96</td>\n",
              "      <td>3296425.02</td>\n",
              "      <td>2657347.52</td>\n",
              "      <td>639077.50</td>\n",
              "    </tr>\n",
              "    <tr>\n",
              "      <th>...</th>\n",
              "      <td>...</td>\n",
              "      <td>...</td>\n",
              "      <td>...</td>\n",
              "      <td>...</td>\n",
              "      <td>...</td>\n",
              "      <td>...</td>\n",
              "      <td>...</td>\n",
              "      <td>...</td>\n",
              "      <td>...</td>\n",
              "      <td>...</td>\n",
              "      <td>...</td>\n",
              "      <td>...</td>\n",
              "      <td>...</td>\n",
              "      <td>...</td>\n",
              "      <td>...</td>\n",
              "    </tr>\n",
              "    <tr>\n",
              "      <th>95</th>\n",
              "      <td>512878119</td>\n",
              "      <td>95</td>\n",
              "      <td>Sub-Saharan Africa</td>\n",
              "      <td>Mali</td>\n",
              "      <td>Clothes</td>\n",
              "      <td>Online</td>\n",
              "      <td>M</td>\n",
              "      <td>7/26/2011</td>\n",
              "      <td>9/3/2011</td>\n",
              "      <td>888</td>\n",
              "      <td>109.28</td>\n",
              "      <td>35.84</td>\n",
              "      <td>97040.64</td>\n",
              "      <td>31825.92</td>\n",
              "      <td>65214.72</td>\n",
              "    </tr>\n",
              "    <tr>\n",
              "      <th>96</th>\n",
              "      <td>810711038</td>\n",
              "      <td>96</td>\n",
              "      <td>Asia</td>\n",
              "      <td>Malaysia</td>\n",
              "      <td>Fruits</td>\n",
              "      <td>Offline</td>\n",
              "      <td>L</td>\n",
              "      <td>11/11/2011</td>\n",
              "      <td>12/28/2011</td>\n",
              "      <td>6267</td>\n",
              "      <td>9.33</td>\n",
              "      <td>6.92</td>\n",
              "      <td>58471.11</td>\n",
              "      <td>43367.64</td>\n",
              "      <td>15103.47</td>\n",
              "    </tr>\n",
              "    <tr>\n",
              "      <th>97</th>\n",
              "      <td>728815257</td>\n",
              "      <td>97</td>\n",
              "      <td>Sub-Saharan Africa</td>\n",
              "      <td>Sierra Leone</td>\n",
              "      <td>Vegetables</td>\n",
              "      <td>Offline</td>\n",
              "      <td>C</td>\n",
              "      <td>6/1/2016</td>\n",
              "      <td>6/29/2016</td>\n",
              "      <td>1485</td>\n",
              "      <td>154.06</td>\n",
              "      <td>90.93</td>\n",
              "      <td>228779.10</td>\n",
              "      <td>135031.05</td>\n",
              "      <td>93748.05</td>\n",
              "    </tr>\n",
              "    <tr>\n",
              "      <th>98</th>\n",
              "      <td>559427106</td>\n",
              "      <td>98</td>\n",
              "      <td>North America</td>\n",
              "      <td>Mexico</td>\n",
              "      <td>Personal Care</td>\n",
              "      <td>Offline</td>\n",
              "      <td>M</td>\n",
              "      <td>7/30/2015</td>\n",
              "      <td>8/8/2015</td>\n",
              "      <td>5767</td>\n",
              "      <td>81.73</td>\n",
              "      <td>56.67</td>\n",
              "      <td>471336.91</td>\n",
              "      <td>326815.89</td>\n",
              "      <td>144521.02</td>\n",
              "    </tr>\n",
              "    <tr>\n",
              "      <th>99</th>\n",
              "      <td>665095412</td>\n",
              "      <td>99</td>\n",
              "      <td>Sub-Saharan Africa</td>\n",
              "      <td>Mozambique</td>\n",
              "      <td>Household</td>\n",
              "      <td>Offline</td>\n",
              "      <td>L</td>\n",
              "      <td>2/10/2012</td>\n",
              "      <td>2/15/2012</td>\n",
              "      <td>5367</td>\n",
              "      <td>668.27</td>\n",
              "      <td>502.54</td>\n",
              "      <td>3586605.09</td>\n",
              "      <td>2697132.18</td>\n",
              "      <td>889472.91</td>\n",
              "    </tr>\n",
              "  </tbody>\n",
              "</table>\n",
              "<p>100 rows × 15 columns</p>\n",
              "</div>"
            ],
            "text/plain": [
              "     Order ID  index                             Region  \\\n",
              "0   669165933      0              Australia and Oceania   \n",
              "1   963881480      1  Central America and the Caribbean   \n",
              "2   341417157      2                             Europe   \n",
              "3   514321792      3                 Sub-Saharan Africa   \n",
              "4   115456712      4                 Sub-Saharan Africa   \n",
              "..        ...    ...                                ...   \n",
              "95  512878119     95                 Sub-Saharan Africa   \n",
              "96  810711038     96                               Asia   \n",
              "97  728815257     97                 Sub-Saharan Africa   \n",
              "98  559427106     98                      North America   \n",
              "99  665095412     99                 Sub-Saharan Africa   \n",
              "\n",
              "                  Country        Item Type Sales Channel Order Priority  \\\n",
              "0                  Tuvalu        Baby Food       Offline              H   \n",
              "1                 Grenada           Cereal        Online              C   \n",
              "2                  Russia  Office Supplies       Offline              L   \n",
              "3   Sao Tome and Principe           Fruits        Online              C   \n",
              "4                  Rwanda  Office Supplies       Offline              L   \n",
              "..                    ...              ...           ...            ...   \n",
              "95                   Mali          Clothes        Online              M   \n",
              "96               Malaysia           Fruits       Offline              L   \n",
              "97           Sierra Leone       Vegetables       Offline              C   \n",
              "98                 Mexico    Personal Care       Offline              M   \n",
              "99             Mozambique        Household       Offline              L   \n",
              "\n",
              "    Order Date   Ship Date  Units Sold  Unit Price  Unit Cost  Total Revenue  \\\n",
              "0    5/28/2010   6/27/2010        9925      255.28     159.42     2533654.00   \n",
              "1    8/22/2012   9/15/2012        2804      205.70     117.11      576782.80   \n",
              "2     5/2/2014    5/8/2014        1779      651.21     524.96     1158502.59   \n",
              "3    6/20/2014    7/5/2014        8102        9.33       6.92       75591.66   \n",
              "4     2/1/2013    2/6/2013        5062      651.21     524.96     3296425.02   \n",
              "..         ...         ...         ...         ...        ...            ...   \n",
              "95   7/26/2011    9/3/2011         888      109.28      35.84       97040.64   \n",
              "96  11/11/2011  12/28/2011        6267        9.33       6.92       58471.11   \n",
              "97    6/1/2016   6/29/2016        1485      154.06      90.93      228779.10   \n",
              "98   7/30/2015    8/8/2015        5767       81.73      56.67      471336.91   \n",
              "99   2/10/2012   2/15/2012        5367      668.27     502.54     3586605.09   \n",
              "\n",
              "    Total Cost  Total Profit  \n",
              "0   1582243.50     951410.50  \n",
              "1    328376.44     248406.36  \n",
              "2    933903.84     224598.75  \n",
              "3     56065.84      19525.82  \n",
              "4   2657347.52     639077.50  \n",
              "..         ...           ...  \n",
              "95    31825.92      65214.72  \n",
              "96    43367.64      15103.47  \n",
              "97   135031.05      93748.05  \n",
              "98   326815.89     144521.02  \n",
              "99  2697132.18     889472.91  \n",
              "\n",
              "[100 rows x 15 columns]"
            ]
          },
          "metadata": {},
          "output_type": "display_data"
        }
      ],
      "source": [
        "# Zadanie 2:  Ustaw kolumnę „Order ID” jako indeks, a następnie zresetuj indeks do domyślnego.\n",
        "df.set_index('Order ID', inplace=True)\n",
        "display(df)\n",
        "df.reset_index(inplace=True)\n",
        "display(df)\n",
        "\n",
        "\n",
        "\n"
      ]
    },
    {
      "cell_type": "code",
      "execution_count": 133,
      "id": "52237144",
      "metadata": {},
      "outputs": [
        {
          "data": {
            "text/plain": [
              "'Tuvalu'"
            ]
          },
          "metadata": {},
          "output_type": "display_data"
        },
        {
          "data": {
            "text/html": [
              "<div>\n",
              "<style scoped>\n",
              "    .dataframe tbody tr th:only-of-type {\n",
              "        vertical-align: middle;\n",
              "    }\n",
              "\n",
              "    .dataframe tbody tr th {\n",
              "        vertical-align: top;\n",
              "    }\n",
              "\n",
              "    .dataframe thead th {\n",
              "        text-align: right;\n",
              "    }\n",
              "</style>\n",
              "<table border=\"1\" class=\"dataframe\">\n",
              "  <thead>\n",
              "    <tr style=\"text-align: right;\">\n",
              "      <th></th>\n",
              "      <th>Order ID</th>\n",
              "      <th>index</th>\n",
              "      <th>Region</th>\n",
              "    </tr>\n",
              "  </thead>\n",
              "  <tbody>\n",
              "    <tr>\n",
              "      <th>10</th>\n",
              "      <td>814711606</td>\n",
              "      <td>10</td>\n",
              "      <td>Asia</td>\n",
              "    </tr>\n",
              "    <tr>\n",
              "      <th>11</th>\n",
              "      <td>939825713</td>\n",
              "      <td>11</td>\n",
              "      <td>Sub-Saharan Africa</td>\n",
              "    </tr>\n",
              "    <tr>\n",
              "      <th>12</th>\n",
              "      <td>187310731</td>\n",
              "      <td>12</td>\n",
              "      <td>Asia</td>\n",
              "    </tr>\n",
              "    <tr>\n",
              "      <th>13</th>\n",
              "      <td>522840487</td>\n",
              "      <td>13</td>\n",
              "      <td>Central America and the Caribbean</td>\n",
              "    </tr>\n",
              "    <tr>\n",
              "      <th>14</th>\n",
              "      <td>832401311</td>\n",
              "      <td>14</td>\n",
              "      <td>Asia</td>\n",
              "    </tr>\n",
              "  </tbody>\n",
              "</table>\n",
              "</div>"
            ],
            "text/plain": [
              "     Order ID  index                             Region\n",
              "10  814711606     10                               Asia\n",
              "11  939825713     11                 Sub-Saharan Africa\n",
              "12  187310731     12                               Asia\n",
              "13  522840487     13  Central America and the Caribbean\n",
              "14  832401311     14                               Asia"
            ]
          },
          "execution_count": 133,
          "metadata": {},
          "output_type": "execute_result"
        }
      ],
      "source": [
        "# Zadanie 3: Odczytaj wartość kolumny „Country” \n",
        "# z pierwszego wiersza. Następnie wyświetl wiersze \n",
        "# od 10 do 14 oraz pierwsze trzy kolumny.\n",
        "display(df.loc[0, 'Country'])\n",
        "df.iloc[10:15, 0:3]"
      ]
    },
    {
      "cell_type": "code",
      "execution_count": null,
      "id": "c617266e",
      "metadata": {},
      "outputs": [
        {
          "data": {
            "text/html": [
              "<div>\n",
              "<style scoped>\n",
              "    .dataframe tbody tr th:only-of-type {\n",
              "        vertical-align: middle;\n",
              "    }\n",
              "\n",
              "    .dataframe tbody tr th {\n",
              "        vertical-align: top;\n",
              "    }\n",
              "\n",
              "    .dataframe thead th {\n",
              "        text-align: right;\n",
              "    }\n",
              "</style>\n",
              "<table border=\"1\" class=\"dataframe\">\n",
              "  <thead>\n",
              "    <tr style=\"text-align: right;\">\n",
              "      <th></th>\n",
              "      <th>Order ID</th>\n",
              "      <th>index</th>\n",
              "      <th>Region</th>\n",
              "      <th>Country</th>\n",
              "      <th>Item Type</th>\n",
              "      <th>Sales Channel</th>\n",
              "      <th>Order Priority</th>\n",
              "      <th>Order Date</th>\n",
              "      <th>Ship Date</th>\n",
              "      <th>Units Sold</th>\n",
              "      <th>Unit Price</th>\n",
              "      <th>Unit Cost</th>\n",
              "      <th>Total Revenue</th>\n",
              "      <th>Total Cost</th>\n",
              "      <th>Total Profit</th>\n",
              "    </tr>\n",
              "  </thead>\n",
              "  <tbody>\n",
              "    <tr>\n",
              "      <th>0</th>\n",
              "      <td>669165933</td>\n",
              "      <td>0</td>\n",
              "      <td>Australia and Oceania</td>\n",
              "      <td>Tuvalu</td>\n",
              "      <td>Baby Food</td>\n",
              "      <td>Offline</td>\n",
              "      <td>H</td>\n",
              "      <td>5/28/2010</td>\n",
              "      <td>6/27/2010</td>\n",
              "      <td>9925</td>\n",
              "      <td>255.28</td>\n",
              "      <td>159.42</td>\n",
              "      <td>2533654.00</td>\n",
              "      <td>1582243.50</td>\n",
              "      <td>951410.50</td>\n",
              "    </tr>\n",
              "    <tr>\n",
              "      <th>1</th>\n",
              "      <td>963881480</td>\n",
              "      <td>1</td>\n",
              "      <td>Central America and the Caribbean</td>\n",
              "      <td>Grenada</td>\n",
              "      <td>Cereal</td>\n",
              "      <td>Online</td>\n",
              "      <td>C</td>\n",
              "      <td>8/22/2012</td>\n",
              "      <td>9/15/2012</td>\n",
              "      <td>2804</td>\n",
              "      <td>205.70</td>\n",
              "      <td>117.11</td>\n",
              "      <td>576782.80</td>\n",
              "      <td>328376.44</td>\n",
              "      <td>248406.36</td>\n",
              "    </tr>\n",
              "    <tr>\n",
              "      <th>2</th>\n",
              "      <td>341417157</td>\n",
              "      <td>2</td>\n",
              "      <td>Europe</td>\n",
              "      <td>Russia</td>\n",
              "      <td>Office Supplies</td>\n",
              "      <td>Offline</td>\n",
              "      <td>L</td>\n",
              "      <td>5/2/2014</td>\n",
              "      <td>5/8/2014</td>\n",
              "      <td>1779</td>\n",
              "      <td>651.21</td>\n",
              "      <td>524.96</td>\n",
              "      <td>1158502.59</td>\n",
              "      <td>933903.84</td>\n",
              "      <td>224598.75</td>\n",
              "    </tr>\n",
              "    <tr>\n",
              "      <th>3</th>\n",
              "      <td>514321792</td>\n",
              "      <td>3</td>\n",
              "      <td>Sub-Saharan Africa</td>\n",
              "      <td>Sao Tome and Principe</td>\n",
              "      <td>Fruits</td>\n",
              "      <td>Online</td>\n",
              "      <td>C</td>\n",
              "      <td>6/20/2014</td>\n",
              "      <td>7/5/2014</td>\n",
              "      <td>8102</td>\n",
              "      <td>9.33</td>\n",
              "      <td>6.92</td>\n",
              "      <td>75591.66</td>\n",
              "      <td>56065.84</td>\n",
              "      <td>19525.82</td>\n",
              "    </tr>\n",
              "    <tr>\n",
              "      <th>4</th>\n",
              "      <td>115456712</td>\n",
              "      <td>4</td>\n",
              "      <td>Sub-Saharan Africa</td>\n",
              "      <td>Rwanda</td>\n",
              "      <td>Office Supplies</td>\n",
              "      <td>Offline</td>\n",
              "      <td>L</td>\n",
              "      <td>2/1/2013</td>\n",
              "      <td>2/6/2013</td>\n",
              "      <td>5062</td>\n",
              "      <td>651.21</td>\n",
              "      <td>524.96</td>\n",
              "      <td>3296425.02</td>\n",
              "      <td>2657347.52</td>\n",
              "      <td>639077.50</td>\n",
              "    </tr>\n",
              "    <tr>\n",
              "      <th>5</th>\n",
              "      <td>547995746</td>\n",
              "      <td>5</td>\n",
              "      <td>Australia and Oceania</td>\n",
              "      <td>Solomon Islands</td>\n",
              "      <td>Baby Food</td>\n",
              "      <td>Online</td>\n",
              "      <td>C</td>\n",
              "      <td>2/4/2015</td>\n",
              "      <td>2/21/2015</td>\n",
              "      <td>2974</td>\n",
              "      <td>255.28</td>\n",
              "      <td>159.42</td>\n",
              "      <td>759202.72</td>\n",
              "      <td>474115.08</td>\n",
              "      <td>285087.64</td>\n",
              "    </tr>\n",
              "    <tr>\n",
              "      <th>6</th>\n",
              "      <td>135425221</td>\n",
              "      <td>6</td>\n",
              "      <td>Sub-Saharan Africa</td>\n",
              "      <td>Angola</td>\n",
              "      <td>Household</td>\n",
              "      <td>Offline</td>\n",
              "      <td>M</td>\n",
              "      <td>4/23/2011</td>\n",
              "      <td>4/27/2011</td>\n",
              "      <td>4187</td>\n",
              "      <td>668.27</td>\n",
              "      <td>502.54</td>\n",
              "      <td>2798046.49</td>\n",
              "      <td>2104134.98</td>\n",
              "      <td>693911.51</td>\n",
              "    </tr>\n",
              "    <tr>\n",
              "      <th>7</th>\n",
              "      <td>871543967</td>\n",
              "      <td>7</td>\n",
              "      <td>Sub-Saharan Africa</td>\n",
              "      <td>Burkina Faso</td>\n",
              "      <td>Vegetables</td>\n",
              "      <td>Online</td>\n",
              "      <td>H</td>\n",
              "      <td>7/17/2012</td>\n",
              "      <td>7/27/2012</td>\n",
              "      <td>8082</td>\n",
              "      <td>154.06</td>\n",
              "      <td>90.93</td>\n",
              "      <td>1245112.92</td>\n",
              "      <td>734896.26</td>\n",
              "      <td>510216.66</td>\n",
              "    </tr>\n",
              "    <tr>\n",
              "      <th>8</th>\n",
              "      <td>770463311</td>\n",
              "      <td>8</td>\n",
              "      <td>Sub-Saharan Africa</td>\n",
              "      <td>Republic of the Congo</td>\n",
              "      <td>Personal Care</td>\n",
              "      <td>Offline</td>\n",
              "      <td>M</td>\n",
              "      <td>7/14/2015</td>\n",
              "      <td>8/25/2015</td>\n",
              "      <td>6070</td>\n",
              "      <td>81.73</td>\n",
              "      <td>56.67</td>\n",
              "      <td>496101.10</td>\n",
              "      <td>343986.90</td>\n",
              "      <td>152114.20</td>\n",
              "    </tr>\n",
              "    <tr>\n",
              "      <th>9</th>\n",
              "      <td>616607081</td>\n",
              "      <td>9</td>\n",
              "      <td>Sub-Saharan Africa</td>\n",
              "      <td>Senegal</td>\n",
              "      <td>Cereal</td>\n",
              "      <td>Online</td>\n",
              "      <td>H</td>\n",
              "      <td>4/18/2014</td>\n",
              "      <td>5/30/2014</td>\n",
              "      <td>6593</td>\n",
              "      <td>205.70</td>\n",
              "      <td>117.11</td>\n",
              "      <td>1356180.10</td>\n",
              "      <td>772106.23</td>\n",
              "      <td>584073.87</td>\n",
              "    </tr>\n",
              "    <tr>\n",
              "      <th>10</th>\n",
              "      <td>814711606</td>\n",
              "      <td>10</td>\n",
              "      <td>Asia</td>\n",
              "      <td>Kyrgyzstan</td>\n",
              "      <td>Vegetables</td>\n",
              "      <td>Online</td>\n",
              "      <td>H</td>\n",
              "      <td>6/24/2011</td>\n",
              "      <td>7/12/2011</td>\n",
              "      <td>124</td>\n",
              "      <td>154.06</td>\n",
              "      <td>90.93</td>\n",
              "      <td>19103.44</td>\n",
              "      <td>11275.32</td>\n",
              "      <td>7828.12</td>\n",
              "    </tr>\n",
              "    <tr>\n",
              "      <th>11</th>\n",
              "      <td>939825713</td>\n",
              "      <td>11</td>\n",
              "      <td>Sub-Saharan Africa</td>\n",
              "      <td>Cape Verde</td>\n",
              "      <td>Clothes</td>\n",
              "      <td>Offline</td>\n",
              "      <td>H</td>\n",
              "      <td>8/2/2014</td>\n",
              "      <td>8/19/2014</td>\n",
              "      <td>4168</td>\n",
              "      <td>109.28</td>\n",
              "      <td>35.84</td>\n",
              "      <td>455479.04</td>\n",
              "      <td>149381.12</td>\n",
              "      <td>306097.92</td>\n",
              "    </tr>\n",
              "    <tr>\n",
              "      <th>12</th>\n",
              "      <td>187310731</td>\n",
              "      <td>12</td>\n",
              "      <td>Asia</td>\n",
              "      <td>Bangladesh</td>\n",
              "      <td>Clothes</td>\n",
              "      <td>Online</td>\n",
              "      <td>L</td>\n",
              "      <td>1/13/2017</td>\n",
              "      <td>3/1/2017</td>\n",
              "      <td>8263</td>\n",
              "      <td>109.28</td>\n",
              "      <td>35.84</td>\n",
              "      <td>902980.64</td>\n",
              "      <td>296145.92</td>\n",
              "      <td>606834.72</td>\n",
              "    </tr>\n",
              "    <tr>\n",
              "      <th>13</th>\n",
              "      <td>522840487</td>\n",
              "      <td>13</td>\n",
              "      <td>Central America and the Caribbean</td>\n",
              "      <td>Honduras</td>\n",
              "      <td>Household</td>\n",
              "      <td>Offline</td>\n",
              "      <td>H</td>\n",
              "      <td>2/8/2017</td>\n",
              "      <td>2/13/2017</td>\n",
              "      <td>8974</td>\n",
              "      <td>668.27</td>\n",
              "      <td>502.54</td>\n",
              "      <td>5997054.98</td>\n",
              "      <td>4509793.96</td>\n",
              "      <td>1487261.02</td>\n",
              "    </tr>\n",
              "    <tr>\n",
              "      <th>14</th>\n",
              "      <td>832401311</td>\n",
              "      <td>14</td>\n",
              "      <td>Asia</td>\n",
              "      <td>Mongolia</td>\n",
              "      <td>Personal Care</td>\n",
              "      <td>Offline</td>\n",
              "      <td>C</td>\n",
              "      <td>2/19/2014</td>\n",
              "      <td>2/23/2014</td>\n",
              "      <td>4901</td>\n",
              "      <td>81.73</td>\n",
              "      <td>56.67</td>\n",
              "      <td>400558.73</td>\n",
              "      <td>277739.67</td>\n",
              "      <td>122819.06</td>\n",
              "    </tr>\n",
              "  </tbody>\n",
              "</table>\n",
              "</div>"
            ],
            "text/plain": [
              "     Order ID  index                             Region  \\\n",
              "0   669165933      0              Australia and Oceania   \n",
              "1   963881480      1  Central America and the Caribbean   \n",
              "2   341417157      2                             Europe   \n",
              "3   514321792      3                 Sub-Saharan Africa   \n",
              "4   115456712      4                 Sub-Saharan Africa   \n",
              "5   547995746      5              Australia and Oceania   \n",
              "6   135425221      6                 Sub-Saharan Africa   \n",
              "7   871543967      7                 Sub-Saharan Africa   \n",
              "8   770463311      8                 Sub-Saharan Africa   \n",
              "9   616607081      9                 Sub-Saharan Africa   \n",
              "10  814711606     10                               Asia   \n",
              "11  939825713     11                 Sub-Saharan Africa   \n",
              "12  187310731     12                               Asia   \n",
              "13  522840487     13  Central America and the Caribbean   \n",
              "14  832401311     14                               Asia   \n",
              "\n",
              "                  Country        Item Type Sales Channel Order Priority  \\\n",
              "0                  Tuvalu        Baby Food       Offline              H   \n",
              "1                 Grenada           Cereal        Online              C   \n",
              "2                  Russia  Office Supplies       Offline              L   \n",
              "3   Sao Tome and Principe           Fruits        Online              C   \n",
              "4                  Rwanda  Office Supplies       Offline              L   \n",
              "5         Solomon Islands        Baby Food        Online              C   \n",
              "6                  Angola        Household       Offline              M   \n",
              "7            Burkina Faso       Vegetables        Online              H   \n",
              "8   Republic of the Congo    Personal Care       Offline              M   \n",
              "9                 Senegal           Cereal        Online              H   \n",
              "10             Kyrgyzstan       Vegetables        Online              H   \n",
              "11             Cape Verde          Clothes       Offline              H   \n",
              "12             Bangladesh          Clothes        Online              L   \n",
              "13               Honduras        Household       Offline              H   \n",
              "14               Mongolia    Personal Care       Offline              C   \n",
              "\n",
              "   Order Date  Ship Date  Units Sold  Unit Price  Unit Cost  Total Revenue  \\\n",
              "0   5/28/2010  6/27/2010        9925      255.28     159.42     2533654.00   \n",
              "1   8/22/2012  9/15/2012        2804      205.70     117.11      576782.80   \n",
              "2    5/2/2014   5/8/2014        1779      651.21     524.96     1158502.59   \n",
              "3   6/20/2014   7/5/2014        8102        9.33       6.92       75591.66   \n",
              "4    2/1/2013   2/6/2013        5062      651.21     524.96     3296425.02   \n",
              "5    2/4/2015  2/21/2015        2974      255.28     159.42      759202.72   \n",
              "6   4/23/2011  4/27/2011        4187      668.27     502.54     2798046.49   \n",
              "7   7/17/2012  7/27/2012        8082      154.06      90.93     1245112.92   \n",
              "8   7/14/2015  8/25/2015        6070       81.73      56.67      496101.10   \n",
              "9   4/18/2014  5/30/2014        6593      205.70     117.11     1356180.10   \n",
              "10  6/24/2011  7/12/2011         124      154.06      90.93       19103.44   \n",
              "11   8/2/2014  8/19/2014        4168      109.28      35.84      455479.04   \n",
              "12  1/13/2017   3/1/2017        8263      109.28      35.84      902980.64   \n",
              "13   2/8/2017  2/13/2017        8974      668.27     502.54     5997054.98   \n",
              "14  2/19/2014  2/23/2014        4901       81.73      56.67      400558.73   \n",
              "\n",
              "    Total Cost  Total Profit  \n",
              "0   1582243.50     951410.50  \n",
              "1    328376.44     248406.36  \n",
              "2    933903.84     224598.75  \n",
              "3     56065.84      19525.82  \n",
              "4   2657347.52     639077.50  \n",
              "5    474115.08     285087.64  \n",
              "6   2104134.98     693911.51  \n",
              "7    734896.26     510216.66  \n",
              "8    343986.90     152114.20  \n",
              "9    772106.23     584073.87  \n",
              "10    11275.32       7828.12  \n",
              "11   149381.12     306097.92  \n",
              "12   296145.92     606834.72  \n",
              "13  4509793.96    1487261.02  \n",
              "14   277739.67     122819.06  "
            ]
          },
          "execution_count": 134,
          "metadata": {},
          "output_type": "execute_result"
        }
      ],
      "source": []
    },
    {
      "cell_type": "code",
      "execution_count": 135,
      "id": "45f1f9b6",
      "metadata": {},
      "outputs": [
        {
          "data": {
            "text/html": [
              "<div>\n",
              "<style scoped>\n",
              "    .dataframe tbody tr th:only-of-type {\n",
              "        vertical-align: middle;\n",
              "    }\n",
              "\n",
              "    .dataframe tbody tr th {\n",
              "        vertical-align: top;\n",
              "    }\n",
              "\n",
              "    .dataframe thead th {\n",
              "        text-align: right;\n",
              "    }\n",
              "</style>\n",
              "<table border=\"1\" class=\"dataframe\">\n",
              "  <thead>\n",
              "    <tr style=\"text-align: right;\">\n",
              "      <th></th>\n",
              "      <th>Order ID</th>\n",
              "      <th>index</th>\n",
              "      <th>Region</th>\n",
              "      <th>Country</th>\n",
              "      <th>Item Type</th>\n",
              "      <th>Sales Channel</th>\n",
              "      <th>Order Priority</th>\n",
              "      <th>Order Date</th>\n",
              "      <th>Ship Date</th>\n",
              "      <th>Units Sold</th>\n",
              "      <th>Unit Price</th>\n",
              "      <th>Unit Cost</th>\n",
              "      <th>Total Revenue</th>\n",
              "      <th>Total Cost</th>\n",
              "      <th>Total Profit</th>\n",
              "    </tr>\n",
              "  </thead>\n",
              "  <tbody>\n",
              "    <tr>\n",
              "      <th>30</th>\n",
              "      <td>249693334</td>\n",
              "      <td>30</td>\n",
              "      <td>Europe</td>\n",
              "      <td>Switzerland</td>\n",
              "      <td>Cosmetics</td>\n",
              "      <td>Offline</td>\n",
              "      <td>M</td>\n",
              "      <td>9/17/2012</td>\n",
              "      <td>10/20/2012</td>\n",
              "      <td>8661</td>\n",
              "      <td>437.20</td>\n",
              "      <td>263.33</td>\n",
              "      <td>3786589.20</td>\n",
              "      <td>2280701.13</td>\n",
              "      <td>1505888.07</td>\n",
              "    </tr>\n",
              "    <tr>\n",
              "      <th>46</th>\n",
              "      <td>331438481</td>\n",
              "      <td>46</td>\n",
              "      <td>Europe</td>\n",
              "      <td>Iceland</td>\n",
              "      <td>Cosmetics</td>\n",
              "      <td>Online</td>\n",
              "      <td>C</td>\n",
              "      <td>12/31/2016</td>\n",
              "      <td>12/31/2016</td>\n",
              "      <td>8867</td>\n",
              "      <td>437.20</td>\n",
              "      <td>263.33</td>\n",
              "      <td>3876652.40</td>\n",
              "      <td>2334947.11</td>\n",
              "      <td>1541705.29</td>\n",
              "    </tr>\n",
              "    <tr>\n",
              "      <th>68</th>\n",
              "      <td>166460740</td>\n",
              "      <td>68</td>\n",
              "      <td>Europe</td>\n",
              "      <td>Lithuania</td>\n",
              "      <td>Office Supplies</td>\n",
              "      <td>Offline</td>\n",
              "      <td>H</td>\n",
              "      <td>10/24/2010</td>\n",
              "      <td>11/17/2010</td>\n",
              "      <td>8287</td>\n",
              "      <td>651.21</td>\n",
              "      <td>524.96</td>\n",
              "      <td>5396577.27</td>\n",
              "      <td>4350343.52</td>\n",
              "      <td>1046233.75</td>\n",
              "    </tr>\n",
              "    <tr>\n",
              "      <th>93</th>\n",
              "      <td>660643374</td>\n",
              "      <td>93</td>\n",
              "      <td>Europe</td>\n",
              "      <td>Romania</td>\n",
              "      <td>Cosmetics</td>\n",
              "      <td>Online</td>\n",
              "      <td>H</td>\n",
              "      <td>11/26/2010</td>\n",
              "      <td>12/25/2010</td>\n",
              "      <td>7910</td>\n",
              "      <td>437.20</td>\n",
              "      <td>263.33</td>\n",
              "      <td>3458252.00</td>\n",
              "      <td>2082940.30</td>\n",
              "      <td>1375311.70</td>\n",
              "    </tr>\n",
              "  </tbody>\n",
              "</table>\n",
              "</div>"
            ],
            "text/plain": [
              "     Order ID  index  Region      Country        Item Type Sales Channel  \\\n",
              "30  249693334     30  Europe  Switzerland        Cosmetics       Offline   \n",
              "46  331438481     46  Europe      Iceland        Cosmetics        Online   \n",
              "68  166460740     68  Europe    Lithuania  Office Supplies       Offline   \n",
              "93  660643374     93  Europe      Romania        Cosmetics        Online   \n",
              "\n",
              "   Order Priority  Order Date   Ship Date  Units Sold  Unit Price  Unit Cost  \\\n",
              "30              M   9/17/2012  10/20/2012        8661      437.20     263.33   \n",
              "46              C  12/31/2016  12/31/2016        8867      437.20     263.33   \n",
              "68              H  10/24/2010  11/17/2010        8287      651.21     524.96   \n",
              "93              H  11/26/2010  12/25/2010        7910      437.20     263.33   \n",
              "\n",
              "    Total Revenue  Total Cost  Total Profit  \n",
              "30     3786589.20  2280701.13    1505888.07  \n",
              "46     3876652.40  2334947.11    1541705.29  \n",
              "68     5396577.27  4350343.52    1046233.75  \n",
              "93     3458252.00  2082940.30    1375311.70  "
            ]
          },
          "execution_count": 135,
          "metadata": {},
          "output_type": "execute_result"
        }
      ],
      "source": [
        "# Zadanie 4: Znajdź wszystkie zamówienia, \n",
        "# w których „Total Profit” przekracza 1000000 \n",
        "# oraz region to „Europe”.\n",
        "\n",
        "df[(df['Total Profit'] > 1000000) & (df['Region'] == 'Europe')]"
      ]
    },
    {
      "cell_type": "code",
      "execution_count": null,
      "id": "82aa4347",
      "metadata": {},
      "outputs": [],
      "source": [
        "# Zadanie 5: Oblicz procentową marżę zysku \n",
        "# (Total Profit / Total Revenue \\* 100) \n",
        "# i dodaj ją jako nową kolumnę.\n"
      ]
    },
    {
      "cell_type": "code",
      "execution_count": 136,
      "id": "1823f248",
      "metadata": {},
      "outputs": [
        {
          "data": {
            "text/html": [
              "<div>\n",
              "<style scoped>\n",
              "    .dataframe tbody tr th:only-of-type {\n",
              "        vertical-align: middle;\n",
              "    }\n",
              "\n",
              "    .dataframe tbody tr th {\n",
              "        vertical-align: top;\n",
              "    }\n",
              "\n",
              "    .dataframe thead th {\n",
              "        text-align: right;\n",
              "    }\n",
              "</style>\n",
              "<table border=\"1\" class=\"dataframe\">\n",
              "  <thead>\n",
              "    <tr style=\"text-align: right;\">\n",
              "      <th></th>\n",
              "      <th>Order ID</th>\n",
              "      <th>index</th>\n",
              "      <th>Region</th>\n",
              "      <th>Country</th>\n",
              "      <th>Item Type</th>\n",
              "      <th>Sales Channel</th>\n",
              "      <th>Order Priority</th>\n",
              "      <th>Order Date</th>\n",
              "      <th>Ship Date</th>\n",
              "      <th>Units Sold</th>\n",
              "      <th>Unit Price</th>\n",
              "      <th>Unit Cost</th>\n",
              "      <th>Total Revenue</th>\n",
              "      <th>Total Cost</th>\n",
              "      <th>Total Profit</th>\n",
              "      <th>Margin Profit</th>\n",
              "    </tr>\n",
              "  </thead>\n",
              "  <tbody>\n",
              "    <tr>\n",
              "      <th>0</th>\n",
              "      <td>669165933</td>\n",
              "      <td>0</td>\n",
              "      <td>Australia and Oceania</td>\n",
              "      <td>Tuvalu</td>\n",
              "      <td>Baby Food</td>\n",
              "      <td>Offline</td>\n",
              "      <td>H</td>\n",
              "      <td>5/28/2010</td>\n",
              "      <td>6/27/2010</td>\n",
              "      <td>9925</td>\n",
              "      <td>255.28</td>\n",
              "      <td>159.42</td>\n",
              "      <td>2533654.00</td>\n",
              "      <td>1582243.50</td>\n",
              "      <td>951410.50</td>\n",
              "      <td>37.550924</td>\n",
              "    </tr>\n",
              "    <tr>\n",
              "      <th>1</th>\n",
              "      <td>963881480</td>\n",
              "      <td>1</td>\n",
              "      <td>Central America and the Caribbean</td>\n",
              "      <td>Grenada</td>\n",
              "      <td>Cereal</td>\n",
              "      <td>Online</td>\n",
              "      <td>C</td>\n",
              "      <td>8/22/2012</td>\n",
              "      <td>9/15/2012</td>\n",
              "      <td>2804</td>\n",
              "      <td>205.70</td>\n",
              "      <td>117.11</td>\n",
              "      <td>576782.80</td>\n",
              "      <td>328376.44</td>\n",
              "      <td>248406.36</td>\n",
              "      <td>43.067574</td>\n",
              "    </tr>\n",
              "    <tr>\n",
              "      <th>2</th>\n",
              "      <td>341417157</td>\n",
              "      <td>2</td>\n",
              "      <td>Europe</td>\n",
              "      <td>Russia</td>\n",
              "      <td>Office Supplies</td>\n",
              "      <td>Offline</td>\n",
              "      <td>L</td>\n",
              "      <td>5/2/2014</td>\n",
              "      <td>5/8/2014</td>\n",
              "      <td>1779</td>\n",
              "      <td>651.21</td>\n",
              "      <td>524.96</td>\n",
              "      <td>1158502.59</td>\n",
              "      <td>933903.84</td>\n",
              "      <td>224598.75</td>\n",
              "      <td>19.386987</td>\n",
              "    </tr>\n",
              "    <tr>\n",
              "      <th>3</th>\n",
              "      <td>514321792</td>\n",
              "      <td>3</td>\n",
              "      <td>Sub-Saharan Africa</td>\n",
              "      <td>Sao Tome and Principe</td>\n",
              "      <td>Fruits</td>\n",
              "      <td>Online</td>\n",
              "      <td>C</td>\n",
              "      <td>6/20/2014</td>\n",
              "      <td>7/5/2014</td>\n",
              "      <td>8102</td>\n",
              "      <td>9.33</td>\n",
              "      <td>6.92</td>\n",
              "      <td>75591.66</td>\n",
              "      <td>56065.84</td>\n",
              "      <td>19525.82</td>\n",
              "      <td>25.830654</td>\n",
              "    </tr>\n",
              "    <tr>\n",
              "      <th>4</th>\n",
              "      <td>115456712</td>\n",
              "      <td>4</td>\n",
              "      <td>Sub-Saharan Africa</td>\n",
              "      <td>Rwanda</td>\n",
              "      <td>Office Supplies</td>\n",
              "      <td>Offline</td>\n",
              "      <td>L</td>\n",
              "      <td>2/1/2013</td>\n",
              "      <td>2/6/2013</td>\n",
              "      <td>5062</td>\n",
              "      <td>651.21</td>\n",
              "      <td>524.96</td>\n",
              "      <td>3296425.02</td>\n",
              "      <td>2657347.52</td>\n",
              "      <td>639077.50</td>\n",
              "      <td>19.386987</td>\n",
              "    </tr>\n",
              "    <tr>\n",
              "      <th>...</th>\n",
              "      <td>...</td>\n",
              "      <td>...</td>\n",
              "      <td>...</td>\n",
              "      <td>...</td>\n",
              "      <td>...</td>\n",
              "      <td>...</td>\n",
              "      <td>...</td>\n",
              "      <td>...</td>\n",
              "      <td>...</td>\n",
              "      <td>...</td>\n",
              "      <td>...</td>\n",
              "      <td>...</td>\n",
              "      <td>...</td>\n",
              "      <td>...</td>\n",
              "      <td>...</td>\n",
              "      <td>...</td>\n",
              "    </tr>\n",
              "    <tr>\n",
              "      <th>95</th>\n",
              "      <td>512878119</td>\n",
              "      <td>95</td>\n",
              "      <td>Sub-Saharan Africa</td>\n",
              "      <td>Mali</td>\n",
              "      <td>Clothes</td>\n",
              "      <td>Online</td>\n",
              "      <td>M</td>\n",
              "      <td>7/26/2011</td>\n",
              "      <td>9/3/2011</td>\n",
              "      <td>888</td>\n",
              "      <td>109.28</td>\n",
              "      <td>35.84</td>\n",
              "      <td>97040.64</td>\n",
              "      <td>31825.92</td>\n",
              "      <td>65214.72</td>\n",
              "      <td>67.203514</td>\n",
              "    </tr>\n",
              "    <tr>\n",
              "      <th>96</th>\n",
              "      <td>810711038</td>\n",
              "      <td>96</td>\n",
              "      <td>Asia</td>\n",
              "      <td>Malaysia</td>\n",
              "      <td>Fruits</td>\n",
              "      <td>Offline</td>\n",
              "      <td>L</td>\n",
              "      <td>11/11/2011</td>\n",
              "      <td>12/28/2011</td>\n",
              "      <td>6267</td>\n",
              "      <td>9.33</td>\n",
              "      <td>6.92</td>\n",
              "      <td>58471.11</td>\n",
              "      <td>43367.64</td>\n",
              "      <td>15103.47</td>\n",
              "      <td>25.830654</td>\n",
              "    </tr>\n",
              "    <tr>\n",
              "      <th>97</th>\n",
              "      <td>728815257</td>\n",
              "      <td>97</td>\n",
              "      <td>Sub-Saharan Africa</td>\n",
              "      <td>Sierra Leone</td>\n",
              "      <td>Vegetables</td>\n",
              "      <td>Offline</td>\n",
              "      <td>C</td>\n",
              "      <td>6/1/2016</td>\n",
              "      <td>6/29/2016</td>\n",
              "      <td>1485</td>\n",
              "      <td>154.06</td>\n",
              "      <td>90.93</td>\n",
              "      <td>228779.10</td>\n",
              "      <td>135031.05</td>\n",
              "      <td>93748.05</td>\n",
              "      <td>40.977541</td>\n",
              "    </tr>\n",
              "    <tr>\n",
              "      <th>98</th>\n",
              "      <td>559427106</td>\n",
              "      <td>98</td>\n",
              "      <td>North America</td>\n",
              "      <td>Mexico</td>\n",
              "      <td>Personal Care</td>\n",
              "      <td>Offline</td>\n",
              "      <td>M</td>\n",
              "      <td>7/30/2015</td>\n",
              "      <td>8/8/2015</td>\n",
              "      <td>5767</td>\n",
              "      <td>81.73</td>\n",
              "      <td>56.67</td>\n",
              "      <td>471336.91</td>\n",
              "      <td>326815.89</td>\n",
              "      <td>144521.02</td>\n",
              "      <td>30.661936</td>\n",
              "    </tr>\n",
              "    <tr>\n",
              "      <th>99</th>\n",
              "      <td>665095412</td>\n",
              "      <td>99</td>\n",
              "      <td>Sub-Saharan Africa</td>\n",
              "      <td>Mozambique</td>\n",
              "      <td>Household</td>\n",
              "      <td>Offline</td>\n",
              "      <td>L</td>\n",
              "      <td>2/10/2012</td>\n",
              "      <td>2/15/2012</td>\n",
              "      <td>5367</td>\n",
              "      <td>668.27</td>\n",
              "      <td>502.54</td>\n",
              "      <td>3586605.09</td>\n",
              "      <td>2697132.18</td>\n",
              "      <td>889472.91</td>\n",
              "      <td>24.799856</td>\n",
              "    </tr>\n",
              "  </tbody>\n",
              "</table>\n",
              "<p>100 rows × 16 columns</p>\n",
              "</div>"
            ],
            "text/plain": [
              "     Order ID  index                             Region  \\\n",
              "0   669165933      0              Australia and Oceania   \n",
              "1   963881480      1  Central America and the Caribbean   \n",
              "2   341417157      2                             Europe   \n",
              "3   514321792      3                 Sub-Saharan Africa   \n",
              "4   115456712      4                 Sub-Saharan Africa   \n",
              "..        ...    ...                                ...   \n",
              "95  512878119     95                 Sub-Saharan Africa   \n",
              "96  810711038     96                               Asia   \n",
              "97  728815257     97                 Sub-Saharan Africa   \n",
              "98  559427106     98                      North America   \n",
              "99  665095412     99                 Sub-Saharan Africa   \n",
              "\n",
              "                  Country        Item Type Sales Channel Order Priority  \\\n",
              "0                  Tuvalu        Baby Food       Offline              H   \n",
              "1                 Grenada           Cereal        Online              C   \n",
              "2                  Russia  Office Supplies       Offline              L   \n",
              "3   Sao Tome and Principe           Fruits        Online              C   \n",
              "4                  Rwanda  Office Supplies       Offline              L   \n",
              "..                    ...              ...           ...            ...   \n",
              "95                   Mali          Clothes        Online              M   \n",
              "96               Malaysia           Fruits       Offline              L   \n",
              "97           Sierra Leone       Vegetables       Offline              C   \n",
              "98                 Mexico    Personal Care       Offline              M   \n",
              "99             Mozambique        Household       Offline              L   \n",
              "\n",
              "    Order Date   Ship Date  Units Sold  Unit Price  Unit Cost  Total Revenue  \\\n",
              "0    5/28/2010   6/27/2010        9925      255.28     159.42     2533654.00   \n",
              "1    8/22/2012   9/15/2012        2804      205.70     117.11      576782.80   \n",
              "2     5/2/2014    5/8/2014        1779      651.21     524.96     1158502.59   \n",
              "3    6/20/2014    7/5/2014        8102        9.33       6.92       75591.66   \n",
              "4     2/1/2013    2/6/2013        5062      651.21     524.96     3296425.02   \n",
              "..         ...         ...         ...         ...        ...            ...   \n",
              "95   7/26/2011    9/3/2011         888      109.28      35.84       97040.64   \n",
              "96  11/11/2011  12/28/2011        6267        9.33       6.92       58471.11   \n",
              "97    6/1/2016   6/29/2016        1485      154.06      90.93      228779.10   \n",
              "98   7/30/2015    8/8/2015        5767       81.73      56.67      471336.91   \n",
              "99   2/10/2012   2/15/2012        5367      668.27     502.54     3586605.09   \n",
              "\n",
              "    Total Cost  Total Profit  Margin Profit  \n",
              "0   1582243.50     951410.50      37.550924  \n",
              "1    328376.44     248406.36      43.067574  \n",
              "2    933903.84     224598.75      19.386987  \n",
              "3     56065.84      19525.82      25.830654  \n",
              "4   2657347.52     639077.50      19.386987  \n",
              "..         ...           ...            ...  \n",
              "95    31825.92      65214.72      67.203514  \n",
              "96    43367.64      15103.47      25.830654  \n",
              "97   135031.05      93748.05      40.977541  \n",
              "98   326815.89     144521.02      30.661936  \n",
              "99  2697132.18     889472.91      24.799856  \n",
              "\n",
              "[100 rows x 16 columns]"
            ]
          },
          "execution_count": 136,
          "metadata": {},
          "output_type": "execute_result"
        }
      ],
      "source": [
        "df['Margin Profit'] = df['Total Profit'] / df['Total Revenue'] * 100\n",
        "df"
      ]
    },
    {
      "cell_type": "code",
      "execution_count": null,
      "id": "f6f96c46",
      "metadata": {},
      "outputs": [],
      "source": []
    }
  ],
  "metadata": {
    "colab": {
      "provenance": []
    },
    "kernelspec": {
      "display_name": "Python 3",
      "name": "python3"
    },
    "language_info": {
      "codemirror_mode": {
        "name": "ipython",
        "version": 3
      },
      "file_extension": ".py",
      "mimetype": "text/x-python",
      "name": "python",
      "nbconvert_exporter": "python",
      "pygments_lexer": "ipython3",
      "version": "3.13.7"
    }
  },
  "nbformat": 4,
  "nbformat_minor": 5
}
