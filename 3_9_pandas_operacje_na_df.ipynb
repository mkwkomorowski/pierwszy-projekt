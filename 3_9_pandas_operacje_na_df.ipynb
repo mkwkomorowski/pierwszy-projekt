{
  "cells": [
    {
      "cell_type": "markdown",
      "id": "1621267c",
      "metadata": {
        "id": "1621267c"
      },
      "source": [
        "# Pandas – Lekcja 2: Operacje na DataFrame\n",
        "\n",
        "Po przejściu przez ten notatnik będziesz potrafić:\n",
        "\n",
        "1. Tworzyć `DataFrame` na kilka sposobów – z list, słowników, macierzy *NumPy*, serii i plików CSV.\n",
        "2. Szybko podglądać dane (`head`, `tail`, `describe`).\n",
        "3. Zarządzać indeksem (ustanawiać, resetować, modyfikować).\n",
        "4. Pobierać dane precyzyjnie za pomocą `loc`, `iloc`, `at`, `iat`.\n",
        "5. Selekcjonować i filtrować wiersze oraz kolumny, także przy wielu warunkach logicznych.\n",
        "6. Wycinać, czyścić i modyfikować dane.\n",
        "7. Przećwiczyć wszystko na realistycznym zbiorze cen produktów.\n",
        "\n",
        "Na końcu znajdziesz **zadania praktyczne** – rozwiąż je, aby utrwalić wiedzę."
      ]
    },
    {
      "cell_type": "code",
      "execution_count": null,
      "id": "9f9fvYyIfpAy",
      "metadata": {
        "id": "9f9fvYyIfpAy"
      },
      "outputs": [],
      "source": [
        "import pandas as pd\n",
        "import numpy as np"
      ]
    },
    {
      "cell_type": "markdown",
      "id": "54d6e5de",
      "metadata": {
        "id": "54d6e5de"
      },
      "source": [
        "## 1 <a id='konstruktory'></a> Tworzenie `DataFrame` – różne konstruktory"
      ]
    },
    {
      "cell_type": "code",
      "execution_count": null,
      "id": "nVFATT0n6yq2",
      "metadata": {
        "colab": {
          "base_uri": "https://localhost:8080/",
          "height": 339
        },
        "id": "nVFATT0n6yq2",
        "outputId": "159d64df-201f-4068-c5f6-c0cef544b12b"
      },
      "outputs": [],
      "source": [
        "df_dict = pd.DataFrame({\n",
        "    'Imię': ['Adam'],\n",
        "    'Wiek': [30]\n",
        "})"
      ]
    },
    {
      "cell_type": "code",
      "execution_count": null,
      "id": "weDtaQzt69G4",
      "metadata": {
        "colab": {
          "base_uri": "https://localhost:8080/",
          "height": 89
        },
        "id": "weDtaQzt69G4",
        "outputId": "be99319a-1f41-4c54-c5a3-3422f205a2dc"
      },
      "outputs": [],
      "source": [
        "df_dict"
      ]
    },
    {
      "cell_type": "code",
      "execution_count": null,
      "id": "glwNZX5HfqnD",
      "metadata": {
        "colab": {
          "base_uri": "https://localhost:8080/",
          "height": 143
        },
        "id": "glwNZX5HfqnD",
        "outputId": "769b7396-f76c-4814-9313-da7e555c1cb4"
      },
      "outputs": [],
      "source": [
        "# 1A. Z słownika list\n",
        "df_dict = pd.DataFrame({\n",
        "    'Imię': ['Anna', 'Bartek', 'Celina'],\n",
        "    'Wiek': [23, 35, 29]\n",
        "})\n",
        "df_dict"
      ]
    },
    {
      "cell_type": "code",
      "execution_count": null,
      "id": "2n5XdsGZft9H",
      "metadata": {
        "colab": {
          "base_uri": "https://localhost:8080/",
          "height": 125
        },
        "id": "2n5XdsGZft9H",
        "outputId": "11aa7d33-04eb-406a-9121-4680f6bb113d"
      },
      "outputs": [],
      "source": [
        "# 1B. Z listy słowników\n",
        "df_list_of_dicts = pd.DataFrame([\n",
        "    {'Miasto': 'Warszawa', 'Populacja': 1793579},\n",
        "    {'Miasto': 'Kraków',   'Populacja': 779115},\n",
        "])\n",
        "df_list_of_dicts"
      ]
    },
    {
      "cell_type": "code",
      "execution_count": null,
      "id": "bg0BmFLKfyu7",
      "metadata": {
        "colab": {
          "base_uri": "https://localhost:8080/",
          "height": 125
        },
        "id": "bg0BmFLKfyu7",
        "outputId": "f9a1feeb-9b4c-4a84-d1b2-fe80eef9a9fd"
      },
      "outputs": [],
      "source": [
        "# 1C. Z listy list + kolumny\n",
        "df_list = pd.DataFrame(\n",
        "    [[1, 2, 3], [4, 5, 6]],\n",
        "    columns=['A', 'B', 'C']\n",
        ")\n",
        "df_list"
      ]
    },
    {
      "cell_type": "code",
      "execution_count": null,
      "id": "NBbKCzcx7a-a",
      "metadata": {
        "id": "NBbKCzcx7a-a"
      },
      "outputs": [],
      "source": [
        "# 1D. Z macierzy NumPy\n",
        "arr = np.random.randn(4, 3)"
      ]
    },
    {
      "cell_type": "code",
      "execution_count": null,
      "id": "Mr4bQDyX7btJ",
      "metadata": {
        "colab": {
          "base_uri": "https://localhost:8080/"
        },
        "id": "Mr4bQDyX7btJ",
        "outputId": "37058f39-1c62-4911-b619-13b4efc0b427"
      },
      "outputs": [],
      "source": [
        "arr"
      ]
    },
    {
      "cell_type": "code",
      "execution_count": null,
      "id": "P2LwT3Sof3P-",
      "metadata": {
        "colab": {
          "base_uri": "https://localhost:8080/",
          "height": 175
        },
        "id": "P2LwT3Sof3P-",
        "outputId": "0353cd5c-4340-4606-99e1-d52ec6510c89"
      },
      "outputs": [],
      "source": [
        "\n",
        "df_arr = pd.DataFrame(arr, columns=['X', 'Y', 'Z'])\n",
        "df_arr"
      ]
    },
    {
      "cell_type": "markdown",
      "id": "cb5faf70",
      "metadata": {
        "id": "cb5faf70"
      },
      "source": [
        "## 2 <a id='podglad'></a> `head`, `tail`, `describe`\n",
        "Funkcje **`head()`** i **`tail()`** pozwalają podejrzeć początek i koniec danych, a **`describe()`** – błyskawicznie uzyskać statystyki opisowe dla kolumn numerycznych. Przyjrzyjmy się temu na zbiorze `df_arr` z poprzedniego przykładu."
      ]
    },
    {
      "cell_type": "code",
      "execution_count": null,
      "id": "d4Uj0_9W7nIY",
      "metadata": {
        "colab": {
          "base_uri": "https://localhost:8080/",
          "height": 224
        },
        "id": "d4Uj0_9W7nIY",
        "outputId": "e77f962b-7ba2-44c8-bfe0-f2a3de70dd67"
      },
      "outputs": [],
      "source": [
        "arr = np.random.randn(10, 3)\n",
        "df_demo = pd.DataFrame(arr, columns=['X', 'Y', 'Z'])\n",
        "\n",
        "print('Pierwsze 5 wierszy:')\n",
        "df_demo.head()"
      ]
    },
    {
      "cell_type": "code",
      "execution_count": null,
      "id": "vupWvvpU7tLM",
      "metadata": {
        "colab": {
          "base_uri": "https://localhost:8080/",
          "height": 552
        },
        "id": "vupWvvpU7tLM",
        "outputId": "c73346ca-34a1-456e-d3e3-720e05fd556d"
      },
      "outputs": [],
      "source": [
        "display(df_demo)\n",
        "df_demo.head()"
      ]
    },
    {
      "cell_type": "code",
      "execution_count": null,
      "id": "tuhqeMg37who",
      "metadata": {
        "colab": {
          "base_uri": "https://localhost:8080/"
        },
        "id": "tuhqeMg37who",
        "outputId": "0e734a82-8566-4c32-d452-fb8c33ac4f3a"
      },
      "outputs": [],
      "source": [
        "print(df_demo.head())"
      ]
    },
    {
      "cell_type": "code",
      "execution_count": null,
      "id": "W4uku-ps7vEZ",
      "metadata": {
        "colab": {
          "base_uri": "https://localhost:8080/",
          "height": 206
        },
        "id": "W4uku-ps7vEZ",
        "outputId": "a8c3e615-0f9f-448f-ee96-8835497b88e3"
      },
      "outputs": [],
      "source": [
        "display(df_demo.head())"
      ]
    },
    {
      "cell_type": "code",
      "execution_count": null,
      "id": "2UwziSmk8Cdo",
      "metadata": {
        "colab": {
          "base_uri": "https://localhost:8080/",
          "height": 178
        },
        "id": "2UwziSmk8Cdo",
        "outputId": "9bf814ca-6b9c-4bce-ee20-09ddb695bbf0"
      },
      "outputs": [],
      "source": [
        "print('\\nOstatnie 3 wiersze:')\n",
        "display(df_demo.tail(3))"
      ]
    },
    {
      "cell_type": "code",
      "execution_count": null,
      "id": "4b0f5c4a",
      "metadata": {
        "colab": {
          "base_uri": "https://localhost:8080/",
          "height": 335
        },
        "id": "4b0f5c4a",
        "outputId": "ab816ff8-4d90-40af-f35f-d8c89298a201"
      },
      "outputs": [],
      "source": [
        "\n",
        "print('\\nStatystyki opisowe:')\n",
        "display(df_demo.describe())"
      ]
    },
    {
      "cell_type": "markdown",
      "id": "0165ace5",
      "metadata": {
        "id": "0165ace5"
      },
      "source": [
        "## 3 <a id='indeks'></a> Praca z indeksem\n",
        "Indeks identyfikuje wiersze w `DataFrame`."
      ]
    },
    {
      "cell_type": "code",
      "execution_count": null,
      "id": "NaO8vy63ge2b",
      "metadata": {
        "colab": {
          "base_uri": "https://localhost:8080/",
          "height": 143
        },
        "id": "NaO8vy63ge2b",
        "outputId": "d9baaf88-b0db-4346-fef8-b810ae923244"
      },
      "outputs": [],
      "source": [
        "df_idx = pd.DataFrame({\n",
        "    'Kraj': ['Polska', 'Czechy', 'Słowacja'],\n",
        "    'PKB_mld_USD': [614, 282, 114]\n",
        "})\n",
        "display(df_idx)"
      ]
    },
    {
      "cell_type": "code",
      "execution_count": null,
      "id": "FSsd9LT2gjx8",
      "metadata": {
        "colab": {
          "base_uri": "https://localhost:8080/"
        },
        "id": "FSsd9LT2gjx8",
        "outputId": "8b539fbc-4933-4c52-9b95-745d55bd9fe6"
      },
      "outputs": [],
      "source": [
        "df_idx.index"
      ]
    },
    {
      "cell_type": "code",
      "execution_count": null,
      "id": "3nFsEaGXgm9s",
      "metadata": {
        "id": "3nFsEaGXgm9s"
      },
      "outputs": [],
      "source": [
        "# Ustawiamy kolumnę 'Kraj' jako indeks\n",
        "df_country = df_idx.set_index('Kraj')\n"
      ]
    },
    {
      "cell_type": "code",
      "execution_count": null,
      "id": "nUNnlZ028xh8",
      "metadata": {
        "colab": {
          "base_uri": "https://localhost:8080/",
          "height": 192
        },
        "id": "nUNnlZ028xh8",
        "outputId": "a2994ccc-81c6-4738-b345-9585edf37790"
      },
      "outputs": [],
      "source": [
        "print('Po ustawieniu indeksu:')\n",
        "df_country"
      ]
    },
    {
      "cell_type": "code",
      "execution_count": null,
      "id": "JHEGWQ5Jgobf",
      "metadata": {
        "colab": {
          "base_uri": "https://localhost:8080/"
        },
        "id": "JHEGWQ5Jgobf",
        "outputId": "cdb524f4-f947-4b7d-dfd0-1b8828438d7a"
      },
      "outputs": [],
      "source": [
        "df_country.index"
      ]
    },
    {
      "cell_type": "code",
      "execution_count": null,
      "id": "5F1Zw2ECguzZ",
      "metadata": {
        "colab": {
          "base_uri": "https://localhost:8080/",
          "height": 178
        },
        "id": "5F1Zw2ECguzZ",
        "outputId": "79373298-fb0b-4e20-bd15-16682825add7"
      },
      "outputs": [],
      "source": [
        "# Resetujemy indeks\n",
        "print('\\nPo reset_index():')\n",
        "df_country.reset_index()"
      ]
    },
    {
      "cell_type": "code",
      "execution_count": null,
      "id": "8479374b",
      "metadata": {
        "colab": {
          "base_uri": "https://localhost:8080/",
          "height": 272
        },
        "id": "8479374b",
        "outputId": "ff6c1ed7-514a-492c-86a7-e24ddad07023"
      },
      "outputs": [],
      "source": [
        "# Wielopoziomowy indeks\n",
        "df_multi = pd.DataFrame({\n",
        "    'Region': ['EU', 'EU', 'EU', 'NA', 'NA'],\n",
        "    'Państwo': ['Polska', 'Niemcy', 'Francja', 'USA', 'Kanada'],\n",
        "    'PKB_per_capita': [15900, 46000, 43000, 65000, 52000]\n",
        "}).set_index(['Region', 'Państwo'])\n",
        "print('\\nIndeks wielopoziomowy:')\n",
        "df_multi"
      ]
    },
    {
      "cell_type": "code",
      "execution_count": null,
      "id": "6aHmZZGVgzRQ",
      "metadata": {
        "colab": {
          "base_uri": "https://localhost:8080/"
        },
        "id": "6aHmZZGVgzRQ",
        "outputId": "8ba1e6e2-5410-453d-bce9-152359a03780"
      },
      "outputs": [],
      "source": [
        "df_multi.index"
      ]
    },
    {
      "cell_type": "markdown",
      "id": "XFG6KrajhbhY",
      "metadata": {
        "id": "XFG6KrajhbhY"
      },
      "source": [
        "Tworzenie DataFrame z indeksem:"
      ]
    },
    {
      "cell_type": "code",
      "execution_count": null,
      "id": "VhSeRg75hfyB",
      "metadata": {
        "colab": {
          "base_uri": "https://localhost:8080/",
          "height": 143
        },
        "id": "VhSeRg75hfyB",
        "outputId": "07a825e9-7a88-4cb0-f053-72d235c7c0ca"
      },
      "outputs": [],
      "source": [
        "df_idx = pd.DataFrame({\n",
        "    'Kraj': ['Polska', 'Czechy', 'Słowacja'],\n",
        "    'PKB_mld_USD': [614, 282, 114]\n",
        "},\n",
        "index=['PL', 'CZ', 'SL'])\n",
        "display(df_idx)"
      ]
    },
    {
      "cell_type": "markdown",
      "id": "3WAO1NUehoXc",
      "metadata": {
        "id": "3WAO1NUehoXc"
      },
      "source": [
        "Modyfikacja indeksu bezpośrednio:"
      ]
    },
    {
      "cell_type": "code",
      "execution_count": null,
      "id": "2VJKEH4UhmK0",
      "metadata": {
        "id": "2VJKEH4UhmK0"
      },
      "outputs": [],
      "source": [
        "df_idx.index = ['POL', 'CZE', 'SLO']"
      ]
    },
    {
      "cell_type": "code",
      "execution_count": null,
      "id": "CoQRQCFrhuNV",
      "metadata": {
        "colab": {
          "base_uri": "https://localhost:8080/",
          "height": 143
        },
        "id": "CoQRQCFrhuNV",
        "outputId": "3cf65fb0-3dd9-45e3-f8ce-38a934d9a356"
      },
      "outputs": [],
      "source": [
        "df_idx"
      ]
    },
    {
      "cell_type": "markdown",
      "id": "2OkgbDXtjNT1",
      "metadata": {
        "id": "2OkgbDXtjNT1"
      },
      "source": [
        "## 4 <a id='dostep'></a> Praca z kolumnami"
      ]
    },
    {
      "cell_type": "code",
      "execution_count": null,
      "id": "gqZSyArIjfej",
      "metadata": {
        "colab": {
          "base_uri": "https://localhost:8080/",
          "height": 175
        },
        "id": "gqZSyArIjfej",
        "outputId": "57ea06b6-0adb-42a7-a59d-582eaa65c417"
      },
      "outputs": [],
      "source": [
        "df_access = pd.DataFrame({\n",
        "    'Imię': ['Alan', 'Beata', 'Celina', 'Daniel'],\n",
        "    'Wiek': [34, 28, 25, 42],\n",
        "    'Miasto': ['Gdańsk', 'Warszawa', 'Wrocław', 'Poznań']\n",
        "}, index=['a', 'b', 'c', 'd'])\n",
        "df_access"
      ]
    },
    {
      "cell_type": "code",
      "execution_count": null,
      "id": "TPMiJ7Mojjku",
      "metadata": {
        "colab": {
          "base_uri": "https://localhost:8080/"
        },
        "id": "TPMiJ7Mojjku",
        "outputId": "da782533-a574-49ff-ab10-1fc9bd0c7eae"
      },
      "outputs": [],
      "source": [
        "df_access.columns"
      ]
    },
    {
      "cell_type": "code",
      "execution_count": null,
      "id": "T1E8IeX29ij0",
      "metadata": {
        "colab": {
          "base_uri": "https://localhost:8080/",
          "height": 210
        },
        "id": "T1E8IeX29ij0",
        "outputId": "3bdb72bc-4d03-4357-ebd9-d1ee3bec0711"
      },
      "outputs": [],
      "source": [
        "df_access['Imię']"
      ]
    },
    {
      "cell_type": "code",
      "execution_count": null,
      "id": "nCUgYYXJjkzz",
      "metadata": {
        "colab": {
          "base_uri": "https://localhost:8080/",
          "height": 204
        },
        "id": "nCUgYYXJjkzz",
        "outputId": "3614a28b-96a3-4545-9654-050b82c383f8"
      },
      "outputs": [],
      "source": [
        "type(df_access['Imię'])"
      ]
    },
    {
      "cell_type": "code",
      "execution_count": null,
      "id": "NqvRQOkJjmlp",
      "metadata": {
        "colab": {
          "base_uri": "https://localhost:8080/",
          "height": 175
        },
        "id": "NqvRQOkJjmlp",
        "outputId": "c8ea7171-eae4-429c-d5e0-8bb7a6eff142"
      },
      "outputs": [],
      "source": [
        "df_access[['Imię']]"
      ]
    },
    {
      "cell_type": "code",
      "execution_count": null,
      "id": "yKXKCwkb9liP",
      "metadata": {
        "colab": {
          "base_uri": "https://localhost:8080/",
          "height": 204
        },
        "id": "yKXKCwkb9liP",
        "outputId": "219fc92e-bd77-4e92-d1f3-1cdc99c29d80"
      },
      "outputs": [],
      "source": [
        "type(df_access[['Imię']])"
      ]
    },
    {
      "cell_type": "code",
      "execution_count": null,
      "id": "nzfWzuHFjpU6",
      "metadata": {
        "colab": {
          "base_uri": "https://localhost:8080/",
          "height": 175
        },
        "id": "nzfWzuHFjpU6",
        "outputId": "a0512cc0-3b49-433f-d69f-eb9df67d9806"
      },
      "outputs": [],
      "source": [
        "df_access[['Imię', 'Wiek']]"
      ]
    },
    {
      "cell_type": "markdown",
      "id": "0b9d7f99",
      "metadata": {
        "id": "0b9d7f99"
      },
      "source": [
        "## 5 <a id='dostep'></a> Dostęp do danych: `loc`, `iloc`, `at`, `iat`\n",
        "\n",
        "Uczymy się czterech metod dostępu: **etykietowy** (`loc`, `at`) oraz **pozycjny** (`iloc`, `iat`)."
      ]
    },
    {
      "cell_type": "markdown",
      "id": "MBrdJjuAiU6q",
      "metadata": {
        "id": "MBrdJjuAiU6q"
      },
      "source": [
        "`loc` - wybór poprzez nazwę w indeksie:"
      ]
    },
    {
      "cell_type": "code",
      "execution_count": null,
      "id": "S8KB4FdHiUIF",
      "metadata": {
        "colab": {
          "base_uri": "https://localhost:8080/",
          "height": 178
        },
        "id": "S8KB4FdHiUIF",
        "outputId": "4e1b6922-4ef9-4bcb-a8e7-755ae61fb260"
      },
      "outputs": [],
      "source": [
        "df_access.loc['a']"
      ]
    },
    {
      "cell_type": "code",
      "execution_count": null,
      "id": "z4cvvfd1ib1p",
      "metadata": {
        "colab": {
          "base_uri": "https://localhost:8080/",
          "height": 81
        },
        "id": "z4cvvfd1ib1p",
        "outputId": "4d56427e-e78f-4f3c-853c-0388010f102c"
      },
      "outputs": [],
      "source": [
        "df_access.loc[['a']]"
      ]
    },
    {
      "cell_type": "code",
      "execution_count": null,
      "id": "gN_sJPVRiiWc",
      "metadata": {
        "colab": {
          "base_uri": "https://localhost:8080/",
          "height": 112
        },
        "id": "gN_sJPVRiiWc",
        "outputId": "a5883bc8-2374-4405-a279-ca2bb18be66c"
      },
      "outputs": [],
      "source": [
        "df_access.loc[['a', 'd']]"
      ]
    },
    {
      "cell_type": "code",
      "execution_count": null,
      "id": "Zgz6Yt_YjzI7",
      "metadata": {
        "colab": {
          "base_uri": "https://localhost:8080/",
          "height": 112
        },
        "id": "Zgz6Yt_YjzI7",
        "outputId": "ea3ae07f-1d00-4654-b8b9-6db8c7df7d37"
      },
      "outputs": [],
      "source": [
        "df_access.loc[['a', 'd'], ['Wiek']]"
      ]
    },
    {
      "cell_type": "markdown",
      "id": "_VDXjEj1irNo",
      "metadata": {
        "id": "_VDXjEj1irNo"
      },
      "source": [
        "`iloc` - wybór poprzez numer indeksu:"
      ]
    },
    {
      "cell_type": "code",
      "execution_count": null,
      "id": "HeGGEAl2iqWm",
      "metadata": {
        "colab": {
          "base_uri": "https://localhost:8080/",
          "height": 178
        },
        "id": "HeGGEAl2iqWm",
        "outputId": "0e5b4b7c-6c89-4d2c-8d7c-ca9a678430d0"
      },
      "outputs": [],
      "source": [
        "df_access.iloc[0]"
      ]
    },
    {
      "cell_type": "code",
      "execution_count": null,
      "id": "pQT_Kbxyiwrt",
      "metadata": {
        "colab": {
          "base_uri": "https://localhost:8080/",
          "height": 81
        },
        "id": "pQT_Kbxyiwrt",
        "outputId": "ff9a3228-297b-4030-f0d5-d9e67335f58f"
      },
      "outputs": [],
      "source": [
        "df_access.iloc[[0]]"
      ]
    },
    {
      "cell_type": "code",
      "execution_count": null,
      "id": "fgHAcAMoiyug",
      "metadata": {
        "colab": {
          "base_uri": "https://localhost:8080/",
          "height": 112
        },
        "id": "fgHAcAMoiyug",
        "outputId": "15ff3ff1-fbb4-453a-8ef2-be5cdd93bcec"
      },
      "outputs": [],
      "source": [
        "df_access.iloc[0:2]"
      ]
    },
    {
      "cell_type": "code",
      "execution_count": null,
      "id": "WVLwQL85j-eK",
      "metadata": {
        "colab": {
          "base_uri": "https://localhost:8080/",
          "height": 147
        },
        "id": "WVLwQL85j-eK",
        "outputId": "77c8eddf-abe5-42e4-8f14-4d8d4876345f"
      },
      "outputs": [],
      "source": [
        "df_access.iloc[0:2, 1]"
      ]
    },
    {
      "cell_type": "markdown",
      "id": "Bw_rTtpBkBTZ",
      "metadata": {
        "id": "Bw_rTtpBkBTZ"
      },
      "source": [
        "`at` - wybór pojedynczej wartości:"
      ]
    },
    {
      "cell_type": "code",
      "execution_count": null,
      "id": "hQn-4UxakJAm",
      "metadata": {
        "colab": {
          "base_uri": "https://localhost:8080/",
          "height": 35
        },
        "id": "hQn-4UxakJAm",
        "outputId": "7c57a4bb-59b8-4ca1-e013-3cbd2cdcf820"
      },
      "outputs": [],
      "source": [
        "df_access.at['a', 'Miasto']"
      ]
    },
    {
      "cell_type": "markdown",
      "id": "6frDETk0kKcu",
      "metadata": {
        "id": "6frDETk0kKcu"
      },
      "source": [
        "`iat` - wybór pojedynczej wartości poprzez jej pozycję"
      ]
    },
    {
      "cell_type": "code",
      "execution_count": null,
      "id": "e9b5aee0",
      "metadata": {
        "colab": {
          "base_uri": "https://localhost:8080/",
          "height": 35
        },
        "id": "e9b5aee0",
        "outputId": "b9e4236b-9900-4d25-d1c4-f96c1252c6db"
      },
      "outputs": [],
      "source": [
        "df_access.iat[0, 2]"
      ]
    },
    {
      "cell_type": "markdown",
      "id": "38268c60",
      "metadata": {
        "id": "38268c60"
      },
      "source": [
        "## 6 <a id='selektory'></a> Wybieranie części danych\n",
        "\n"
      ]
    },
    {
      "cell_type": "code",
      "execution_count": null,
      "id": "jjFLbH1eh7Y5",
      "metadata": {
        "colab": {
          "base_uri": "https://localhost:8080/",
          "height": 206
        },
        "id": "jjFLbH1eh7Y5",
        "outputId": "cd4843f6-787b-4f9c-d2e5-38019d2fad12"
      },
      "outputs": [],
      "source": [
        "df_sel = pd.DataFrame({\n",
        "    'Produkt': ['Kawa', 'Herbata', 'Sok', 'Woda', 'Piwo'],\n",
        "    'Cena': [19.90, 9.99, 6.50, 2.00, 3.80],\n",
        "    'Kategoria': ['Napoje', 'Napoje', 'Napoje', 'Napoje', 'Alkohol']\n",
        "})\n",
        "df_sel"
      ]
    },
    {
      "cell_type": "markdown",
      "id": "4oii3drTyVhC",
      "metadata": {
        "id": "4oii3drTyVhC"
      },
      "source": [
        "Sprawdzenie liczby wierszy:"
      ]
    },
    {
      "cell_type": "code",
      "execution_count": null,
      "id": "lVfSKRIHyLGr",
      "metadata": {
        "colab": {
          "base_uri": "https://localhost:8080/"
        },
        "id": "lVfSKRIHyLGr",
        "outputId": "e88481cc-3399-46dd-aee2-2cac018056d9"
      },
      "outputs": [],
      "source": [
        "len(df_sel)"
      ]
    },
    {
      "cell_type": "code",
      "execution_count": null,
      "id": "9ks29Cye-bMT",
      "metadata": {
        "colab": {
          "base_uri": "https://localhost:8080/"
        },
        "id": "9ks29Cye-bMT",
        "outputId": "a64b4667-3c40-4c57-abd1-3e5450db76c3"
      },
      "outputs": [],
      "source": [
        "len(df_sel.columns)"
      ]
    },
    {
      "cell_type": "markdown",
      "id": "AeuqKAmHyX6U",
      "metadata": {
        "id": "AeuqKAmHyX6U"
      },
      "source": [
        "Wymiary tabelki (tak samo jak w NumPy)"
      ]
    },
    {
      "cell_type": "code",
      "execution_count": null,
      "id": "-CNIUWaEyMeW",
      "metadata": {
        "colab": {
          "base_uri": "https://localhost:8080/"
        },
        "id": "-CNIUWaEyMeW",
        "outputId": "f3e0c0a7-a7d6-44d3-c4fc-47405e97717c"
      },
      "outputs": [],
      "source": [
        "df_sel.shape"
      ]
    },
    {
      "cell_type": "code",
      "execution_count": null,
      "id": "W5kY7mKkiCDJ",
      "metadata": {
        "colab": {
          "base_uri": "https://localhost:8080/"
        },
        "id": "W5kY7mKkiCDJ",
        "outputId": "6aaa865d-bc61-44dc-db28-85ae97bb9a36"
      },
      "outputs": [],
      "source": [
        "df_sel.values"
      ]
    },
    {
      "cell_type": "code",
      "execution_count": null,
      "id": "9Lp1F22OnyJG",
      "metadata": {
        "colab": {
          "base_uri": "https://localhost:8080/",
          "height": 178
        },
        "id": "9Lp1F22OnyJG",
        "outputId": "76da664d-3546-46b0-90ac-3fe001b7da04"
      },
      "outputs": [],
      "source": [
        "df_sel.dtypes"
      ]
    },
    {
      "cell_type": "code",
      "execution_count": null,
      "id": "fRmdB9h3kyf2",
      "metadata": {
        "colab": {
          "base_uri": "https://localhost:8080/",
          "height": 241
        },
        "id": "fRmdB9h3kyf2",
        "outputId": "1069f662-6540-42fc-d826-eb95ee917803"
      },
      "outputs": [],
      "source": [
        "df_sel['Cena'] > 3"
      ]
    },
    {
      "cell_type": "code",
      "execution_count": null,
      "id": "cOIOEb82lLb7",
      "metadata": {
        "colab": {
          "base_uri": "https://localhost:8080/",
          "height": 175
        },
        "id": "cOIOEb82lLb7",
        "outputId": "cb8fec1c-33e9-4d88-fbde-561509a4a657"
      },
      "outputs": [],
      "source": [
        "df_sel[df_sel['Cena'] > 3]"
      ]
    },
    {
      "cell_type": "code",
      "execution_count": null,
      "id": "9thQ2fqWlAiJ",
      "metadata": {
        "colab": {
          "base_uri": "https://localhost:8080/",
          "height": 175
        },
        "id": "9thQ2fqWlAiJ",
        "outputId": "41acbb37-b483-4a08-a5da-2497ccd5055e"
      },
      "outputs": [],
      "source": [
        "df_sel[df_sel['Kategoria'] != 'Alkohol']"
      ]
    },
    {
      "cell_type": "code",
      "execution_count": null,
      "id": "c72d5ffd",
      "metadata": {
        "colab": {
          "base_uri": "https://localhost:8080/",
          "height": 143
        },
        "id": "c72d5ffd",
        "outputId": "50bb8ef7-3b08-414c-b7f1-c2b42e347c25"
      },
      "outputs": [],
      "source": [
        "df_sel[(df_sel['Cena'] > 3) & (df_sel['Kategoria'] != 'Alkohol')]\n",
        "\n"
      ]
    },
    {
      "cell_type": "code",
      "execution_count": null,
      "id": "gX3HIgn4k3hy",
      "metadata": {
        "colab": {
          "base_uri": "https://localhost:8080/",
          "height": 175
        },
        "id": "gX3HIgn4k3hy",
        "outputId": "53424209-40f0-44ba-bb8f-be34c98df7ae"
      },
      "outputs": [],
      "source": [
        "df_sel[(df_sel['Cena'] > 5) | (df_sel['Kategoria'] == 'Alkohol')]\n"
      ]
    },
    {
      "cell_type": "markdown",
      "id": "wyL5KJpvm2Ah",
      "metadata": {
        "id": "wyL5KJpvm2Ah"
      },
      "source": [
        "## 7 Modyfikacja danych"
      ]
    },
    {
      "cell_type": "markdown",
      "id": "cyzFlLHcnN3E",
      "metadata": {
        "id": "cyzFlLHcnN3E"
      },
      "source": [
        "### Modyfikacja pojedynczych wartości"
      ]
    },
    {
      "cell_type": "code",
      "execution_count": null,
      "id": "yjK3mK2km_xo",
      "metadata": {
        "colab": {
          "base_uri": "https://localhost:8080/",
          "height": 175
        },
        "id": "yjK3mK2km_xo",
        "outputId": "b5376140-1e97-4b4f-efa7-2da303890b42"
      },
      "outputs": [],
      "source": [
        "df = pd.DataFrame({\n",
        "    'Produkt': ['Kawa', 'Herbata', 'Sok', 'Woda'],\n",
        "    'Cena': [19.90, 9.99, 6.50, 2.00],\n",
        "    'Stan_magazyn': [50, 20, 100, 300]\n",
        "})\n",
        "df"
      ]
    },
    {
      "cell_type": "code",
      "execution_count": null,
      "id": "E315ZjwMnCwL",
      "metadata": {
        "colab": {
          "base_uri": "https://localhost:8080/",
          "height": 175
        },
        "id": "E315ZjwMnCwL",
        "outputId": "5ac27137-0b0f-4ea5-dc1c-7b6ed218303a"
      },
      "outputs": [],
      "source": [
        "df.at[0, 'Cena'] = 21.50\n",
        "df"
      ]
    },
    {
      "cell_type": "code",
      "execution_count": null,
      "id": "ILWKxY46nFt0",
      "metadata": {
        "colab": {
          "base_uri": "https://localhost:8080/",
          "height": 175
        },
        "id": "ILWKxY46nFt0",
        "outputId": "131f4c1c-b39f-46a3-be48-80a673de7db4"
      },
      "outputs": [],
      "source": [
        "df.iat[2, 1] = 7.00\n",
        "df"
      ]
    },
    {
      "cell_type": "code",
      "execution_count": null,
      "id": "AO9sQdFlnI-f",
      "metadata": {
        "colab": {
          "base_uri": "https://localhost:8080/",
          "height": 175
        },
        "id": "AO9sQdFlnI-f",
        "outputId": "e0aae768-131f-438d-d344-20d63caa5d29"
      },
      "outputs": [],
      "source": [
        "df.loc[3, 'Stan_magazyn'] = 280\n",
        "df"
      ]
    },
    {
      "cell_type": "markdown",
      "id": "_V-B3CtAnSVM",
      "metadata": {
        "id": "_V-B3CtAnSVM"
      },
      "source": [
        "### Modyfikacja kolumn"
      ]
    },
    {
      "cell_type": "code",
      "execution_count": null,
      "id": "eeEKilTP_YF9",
      "metadata": {
        "colab": {
          "base_uri": "https://localhost:8080/",
          "height": 210
        },
        "id": "eeEKilTP_YF9",
        "outputId": "f51b9324-1373-4129-ac06-e9ab3a4608a2"
      },
      "outputs": [],
      "source": [
        "df['Cena']"
      ]
    },
    {
      "cell_type": "code",
      "execution_count": null,
      "id": "iYTm_E6anUPR",
      "metadata": {
        "colab": {
          "base_uri": "https://localhost:8080/",
          "height": 175
        },
        "id": "iYTm_E6anUPR",
        "outputId": "05e326c6-0b7f-406a-925f-3fa286ce1e7c"
      },
      "outputs": [],
      "source": [
        "df['Cena'] = [22, 11, 8, 1.6]\n",
        "df"
      ]
    },
    {
      "cell_type": "code",
      "execution_count": null,
      "id": "Maf5fAPv_bml",
      "metadata": {
        "colab": {
          "base_uri": "https://localhost:8080/",
          "height": 210
        },
        "id": "Maf5fAPv_bml",
        "outputId": "fb65617e-a3fe-42d2-bb80-f86fcc5accc1"
      },
      "outputs": [],
      "source": [
        "df['Cena'] * 1.10"
      ]
    },
    {
      "cell_type": "code",
      "execution_count": null,
      "id": "416cNcG5naYI",
      "metadata": {
        "colab": {
          "base_uri": "https://localhost:8080/",
          "height": 175
        },
        "id": "416cNcG5naYI",
        "outputId": "85b3b5e8-c276-472b-e17f-7f39c1693e19"
      },
      "outputs": [],
      "source": [
        "# podniesienie wszystkich cen o 10%\n",
        "df['Cena'] = df['Cena'] * 1.10\n",
        "df"
      ]
    },
    {
      "cell_type": "code",
      "execution_count": null,
      "id": "02c8nRBJnfzB",
      "metadata": {
        "colab": {
          "base_uri": "https://localhost:8080/"
        },
        "id": "02c8nRBJnfzB",
        "outputId": "3dfb9f84-094a-4b46-cbab-a5d32b18866f"
      },
      "outputs": [],
      "source": [
        "df['Stan_magazyn'].dtypes"
      ]
    },
    {
      "cell_type": "code",
      "execution_count": null,
      "id": "oWgQ57nDnnPp",
      "metadata": {
        "id": "oWgQ57nDnnPp"
      },
      "outputs": [],
      "source": [
        "df['Stan_magazyn'] = df['Stan_magazyn'].astype(float)"
      ]
    },
    {
      "cell_type": "code",
      "execution_count": null,
      "id": "pS5AdDNRn6_f",
      "metadata": {
        "colab": {
          "base_uri": "https://localhost:8080/",
          "height": 175
        },
        "id": "pS5AdDNRn6_f",
        "outputId": "bb3e5cfd-8916-4308-e1e6-d4c5674243ec"
      },
      "outputs": [],
      "source": [
        "df"
      ]
    },
    {
      "cell_type": "code",
      "execution_count": null,
      "id": "yL_WxRfNn8a6",
      "metadata": {
        "colab": {
          "base_uri": "https://localhost:8080/"
        },
        "id": "yL_WxRfNn8a6",
        "outputId": "4eb4edb7-c522-4de2-e364-a652d8af0a70"
      },
      "outputs": [],
      "source": [
        "df['Stan_magazyn'].dtypes"
      ]
    },
    {
      "cell_type": "markdown",
      "id": "Z4OSKrfqoJvN",
      "metadata": {
        "id": "Z4OSKrfqoJvN"
      },
      "source": [
        "### Dodawanie i usuwanie kolumn"
      ]
    },
    {
      "cell_type": "code",
      "execution_count": null,
      "id": "1_TsCNeKoH0c",
      "metadata": {
        "colab": {
          "base_uri": "https://localhost:8080/",
          "height": 175
        },
        "id": "1_TsCNeKoH0c",
        "outputId": "e66b5e21-8377-4e56-bfdf-0cab05b50dc7"
      },
      "outputs": [],
      "source": [
        "df['VAT'] = df['Cena'] * 0.23\n",
        "df"
      ]
    },
    {
      "cell_type": "code",
      "execution_count": null,
      "id": "zvtnuCmvoOVJ",
      "metadata": {
        "colab": {
          "base_uri": "https://localhost:8080/",
          "height": 175
        },
        "id": "zvtnuCmvoOVJ",
        "outputId": "1b43aa70-af3d-499b-88db-572850bda9ec"
      },
      "outputs": [],
      "source": [
        "df.drop(columns='VAT')"
      ]
    },
    {
      "cell_type": "code",
      "execution_count": null,
      "id": "tlKiaB17oTLg",
      "metadata": {
        "colab": {
          "base_uri": "https://localhost:8080/",
          "height": 175
        },
        "id": "tlKiaB17oTLg",
        "outputId": "55970b20-c2d3-4ce7-c5c7-cd6bf7ac6fa7"
      },
      "outputs": [],
      "source": [
        "df"
      ]
    },
    {
      "cell_type": "code",
      "execution_count": null,
      "id": "yvUbgqu8oTzi",
      "metadata": {
        "colab": {
          "base_uri": "https://localhost:8080/",
          "height": 175
        },
        "id": "yvUbgqu8oTzi",
        "outputId": "22344048-cdbc-4def-c2b7-28017053176c"
      },
      "outputs": [],
      "source": [
        "df.drop(columns=['VAT'], inplace=True)\n",
        "df"
      ]
    },
    {
      "cell_type": "code",
      "execution_count": null,
      "id": "rBoCPsvR_9jl",
      "metadata": {
        "colab": {
          "base_uri": "https://localhost:8080/"
        },
        "id": "rBoCPsvR_9jl",
        "outputId": "52cd5ca3-1b48-4820-a933-b712aed27161"
      },
      "outputs": [],
      "source": [
        "['Premium' if x > 10 else 'Ekonomiczna' for x in df['Cena']]"
      ]
    },
    {
      "cell_type": "code",
      "execution_count": null,
      "id": "3FyovpLqojR7",
      "metadata": {
        "colab": {
          "base_uri": "https://localhost:8080/",
          "height": 175
        },
        "id": "3FyovpLqojR7",
        "outputId": "fec25e97-775a-4adb-d1c3-4d9256d1219e"
      },
      "outputs": [],
      "source": [
        "df['Klasa'] = ['Premium' if x > 10 else 'Ekonomiczna' for x in df['Cena']]\n",
        "df"
      ]
    },
    {
      "cell_type": "markdown",
      "id": "pLZVBxosn_3l",
      "metadata": {
        "id": "pLZVBxosn_3l"
      },
      "source": [
        "### Modyfikacja i usuwanie wierszy"
      ]
    },
    {
      "cell_type": "code",
      "execution_count": null,
      "id": "mnCWZkDboz5r",
      "metadata": {
        "id": "mnCWZkDboz5r"
      },
      "outputs": [],
      "source": [
        "# Zmiana wiersza 1 (indeks = 1) – podajemy Series z nazwami kolumn\n",
        "df.loc[1] = pd.Series({'Produkt': 'Nowa Herbata', 'Cena': 12.99, 'Stan_magazyn': 25})"
      ]
    },
    {
      "cell_type": "code",
      "execution_count": null,
      "id": "b3PkUJtZAG7E",
      "metadata": {
        "colab": {
          "base_uri": "https://localhost:8080/",
          "height": 175
        },
        "id": "b3PkUJtZAG7E",
        "outputId": "414aac11-6a26-40be-c523-eede3a138ef7"
      },
      "outputs": [],
      "source": [
        "df"
      ]
    },
    {
      "cell_type": "code",
      "execution_count": null,
      "id": "bVS0IayUoszw",
      "metadata": {
        "colab": {
          "base_uri": "https://localhost:8080/",
          "height": 175
        },
        "id": "bVS0IayUoszw",
        "outputId": "a31fdcca-23e9-482e-e375-469b70845835"
      },
      "outputs": [],
      "source": [
        "# Ustaw cena = 0 dla produktów, których magazyn > 250\n",
        "df.loc[df['Stan_magazyn'] > 250, 'Cena'] = 0\n",
        "df"
      ]
    },
    {
      "cell_type": "code",
      "execution_count": null,
      "id": "VhzaKcAGo8J6",
      "metadata": {
        "id": "VhzaKcAGo8J6"
      },
      "outputs": [],
      "source": [
        "df.loc[4] = pd.Series({'Produkt': 'Jeszcze nowsza Herbata', 'Cena': 12.99, 'Stan_magazyn': 25})"
      ]
    },
    {
      "cell_type": "code",
      "execution_count": null,
      "id": "i3GhWiJNo-z2",
      "metadata": {
        "colab": {
          "base_uri": "https://localhost:8080/",
          "height": 206
        },
        "id": "i3GhWiJNo-z2",
        "outputId": "33091cb3-2d90-4f17-da0a-3fad3035a1d1"
      },
      "outputs": [],
      "source": [
        "df"
      ]
    },
    {
      "cell_type": "code",
      "execution_count": null,
      "id": "o-GhfkABm6vE",
      "metadata": {
        "colab": {
          "base_uri": "https://localhost:8080/",
          "height": 175
        },
        "id": "o-GhfkABm6vE",
        "outputId": "1f13031a-f8c2-4dea-ca0e-4b7aa14a16a3"
      },
      "outputs": [],
      "source": [
        "# Usuwamy wiersz o indeksie 2\n",
        "df = df.drop(index=2)\n",
        "df\n"
      ]
    },
    {
      "cell_type": "markdown",
      "id": "149a91df",
      "metadata": {
        "id": "149a91df"
      },
      "source": [
        "## 9 Zadania praktyczne 📝\n",
        "Spróbuj samodzielnie wykonać poniższe ćwiczenia w nowym notatniku lub w osobnych komórkach.\n",
        "\n",
        "Poniżej jest kod, który wczytuje plik CSV z danymi sprzedaży (`sales_records.csv`), pamiętaj żeby umieścić go w katalogu roboczym w Colab lub na komputerze.\n",
        "\n",
        "Następnie wykonaj następujące zadania:\n",
        "\n",
        "1. **Podejrzyj dane**:\n",
        "   Wyświetl pierwsze 5 oraz ostatnie 3 wiersze danych.\n",
        "\n",
        "2. **Zarządzanie indeksem**:\n",
        "   Ustaw kolumnę „Order ID” jako indeks, a następnie zresetuj indeks do domyślnego.\n",
        "\n",
        "4. **Dostęp do danych**:\n",
        "   Odczytaj wartość kolumny „Country” z pierwszego wiersza. Następnie wyświetl wiersze od 10 do 14 oraz pierwsze trzy kolumny.\n",
        "\n",
        "5. **Filtrowanie danych**:\n",
        "   Znajdź wszystkie zamówienia, w których „Total Profit” przekracza 1000000 oraz region to „Europe”.\n",
        "\n",
        "6. **Tworzenie nowej kolumny**:\n",
        "   Oblicz procentową marżę zysku (Total Profit / Total Revenue \\* 100) i dodaj ją jako nową kolumnę.\n"
      ]
    },
    {
      "cell_type": "code",
      "execution_count": null,
      "id": "kanmeAfjpfil",
      "metadata": {
        "id": "kanmeAfjpfil"
      },
      "outputs": [],
      "source": [
        "df = pd.read_csv('sales_records.csv')"
      ]
    },
    {
      "cell_type": "code",
      "execution_count": null,
      "id": "X1mcX0X6vIPE",
      "metadata": {
        "colab": {
          "base_uri": "https://localhost:8080/",
          "height": 528
        },
        "id": "X1mcX0X6vIPE",
        "outputId": "6b54f77c-2901-4962-fbf9-8ced948d8aad"
      },
      "outputs": [],
      "source": [
        "df"
      ]
    },
    {
      "cell_type": "code",
      "execution_count": null,
      "id": "38ypDtKXvIew",
      "metadata": {
        "id": "38ypDtKXvIew"
      },
      "outputs": [],
      "source": []
    }
  ],
  "metadata": {
    "colab": {
      "provenance": []
    },
    "kernelspec": {
      "display_name": "Python 3",
      "name": "python3"
    },
    "language_info": {
      "codemirror_mode": {
        "name": "ipython",
        "version": 3
      },
      "file_extension": ".py",
      "mimetype": "text/x-python",
      "name": "python",
      "nbconvert_exporter": "python",
      "pygments_lexer": "ipython3",
      "version": "3.13.7"
    }
  },
  "nbformat": 4,
  "nbformat_minor": 5
}
